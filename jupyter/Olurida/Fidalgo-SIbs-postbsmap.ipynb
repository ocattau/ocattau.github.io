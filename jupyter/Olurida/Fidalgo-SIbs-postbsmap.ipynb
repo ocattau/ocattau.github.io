{
 "cells": [
  {
   "cell_type": "markdown",
   "metadata": {},
   "source": [
    "# BSMAP was run on 8 samples (on different machines)"
   ]
  },
  {
   "cell_type": "code",
   "execution_count": 5,
   "metadata": {
    "collapsed": false
   },
   "outputs": [
    {
     "name": "stdout",
     "output_type": "stream",
     "text": [
      "mkfmt_M2.txt  mkfmt_M3.txt\r\n"
     ]
    }
   ],
   "source": [
    "ls analyses/2016-10-11"
   ]
  },
  {
   "cell_type": "code",
   "execution_count": 13,
   "metadata": {
    "collapsed": false
   },
   "outputs": [
    {
     "name": "stdout",
     "output_type": "stream",
     "text": [
      "-rw-r--r--  1 sr320  staff   208M Oct 15 02:52 /Volumes/caviar/wd/2016-10-11/bsmap_out_1_ATCACG.sam\r\n",
      "-rw-r--r--  1 sr320  staff   254M Oct 16 04:21 /Volumes/caviar/wd/2016-10-11/bsmap_out_2_CGATGT.sam\r\n",
      "-rw-r--r--  1 sr320  staff   253M Oct 17 05:33 /Volumes/caviar/wd/2016-10-11/bsmap_out_3_TTAGGC.sam\r\n",
      "-rw-r--r--  1 sr320  staff   253M Oct 18 08:19 /Volumes/caviar/wd/2016-10-11/bsmap_out_4_TGACCA.sam\r\n",
      "-rw-r--r--  1 sr320  staff   264M Oct 20 15:50 /Volumes/caviar/wd/2016-10-11/bsmap_out_5_ACAGTG.sam\r\n",
      "-rw-rw-rw-  1 sr320  staff   263M Oct 22 02:37 /Volumes/caviar/wd/2016-10-11/bsmap_out_6_GCCAAT.sam\r\n",
      "-rw-rw-rw-  1 sr320  staff   225M Oct 20 18:49 /Volumes/caviar/wd/2016-10-11/bsmap_out_7_CAGATC.sam\r\n",
      "-rw-rw-rw-  1 sr320  staff   299M Oct 19 18:55 /Volumes/caviar/wd/2016-10-11/bsmap_out_8_ACTTGA.sam\r\n",
      "-rw-r--r--  1 sr320  staff   1.5G Oct 11 08:06 /Volumes/caviar/wd/2016-10-11/bsmap_out_M2.sam\r\n",
      "-rw-r--r--  1 sr320  staff   1.6G Oct 11 08:10 /Volumes/caviar/wd/2016-10-11/bsmap_out_M3.sam\r\n"
     ]
    }
   ],
   "source": [
    "ls -lh /Volumes/caviar/wd/2016-10-11/bsmap*sam"
   ]
  },
  {
   "cell_type": "code",
   "execution_count": null,
   "metadata": {
    "collapsed": true
   },
   "outputs": [],
   "source": []
  },
  {
   "cell_type": "code",
   "execution_count": 14,
   "metadata": {
    "collapsed": true
   },
   "outputs": [],
   "source": [
    "bsmaploc=\"/Applications/bioinfo/BSMAP/bsmap-2.74/\"\n"
   ]
  },
  {
   "cell_type": "code",
   "execution_count": 15,
   "metadata": {
    "collapsed": false
   },
   "outputs": [
    {
     "name": "stdout",
     "output_type": "stream",
     "text": [
      "/Volumes/caviar/wd/2016-10-11\n"
     ]
    }
   ],
   "source": [
    "cd /Volumes/caviar/wd/2016-10-11/"
   ]
  },
  {
   "cell_type": "code",
   "execution_count": 16,
   "metadata": {
    "collapsed": false,
    "scrolled": true
   },
   "outputs": [
    {
     "name": "stdout",
     "output_type": "stream",
     "text": [
      "@ Sat Oct 22 09:46:37 2016: reading reference ../data/Ostrea_lurida.scafSeq ...\n",
      "@ Sat Oct 22 09:47:26 2016: reading bsmap_out_1_ATCACG.sam ...\n",
      "[samopen] SAM header is present: 765755 sequences.\n",
      "@ Sat Oct 22 09:47:53 2016: combining CpG methylation from both strands ...\n",
      "@ Sat Oct 22 09:49:11 2016: writing methratio_out_1_ATCACG.txt ...\n",
      "@ Sat Oct 22 09:54:10 2016: done.\n",
      "total 467574 valid mappings, 618824 covered cytosines, average coverage: 2.02 fold.\n",
      "@ Sat Oct 22 09:54:15 2016: reading reference ../data/Ostrea_lurida.scafSeq ...\n",
      "@ Sat Oct 22 09:55:04 2016: reading bsmap_out_2_CGATGT.sam ...\n",
      "[samopen] SAM header is present: 765755 sequences.\n",
      "@ Sat Oct 22 09:55:37 2016: combining CpG methylation from both strands ...\n",
      "@ Sat Oct 22 09:56:55 2016: writing methratio_out_2_CGATGT.txt ...\n",
      "@ Sat Oct 22 10:01:55 2016: done.\n",
      "total 579365 valid mappings, 689492 covered cytosines, average coverage: 2.19 fold.\n",
      "@ Sat Oct 22 10:02:00 2016: reading reference ../data/Ostrea_lurida.scafSeq ...\n",
      "@ Sat Oct 22 10:02:49 2016: reading bsmap_out_3_TTAGGC.sam ...\n",
      "[samopen] SAM header is present: 765755 sequences.\n",
      "@ Sat Oct 22 10:03:21 2016: combining CpG methylation from both strands ...\n",
      "@ Sat Oct 22 10:04:39 2016: writing methratio_out_3_TTAGGC.txt ...\n",
      "@ Sat Oct 22 10:09:37 2016: done.\n",
      "total 579579 valid mappings, 678634 covered cytosines, average coverage: 2.24 fold.\n",
      "@ Sat Oct 22 10:09:42 2016: reading reference ../data/Ostrea_lurida.scafSeq ...\n",
      "@ Sat Oct 22 10:10:31 2016: reading bsmap_out_4_TGACCA.sam ...\n",
      "[samopen] SAM header is present: 765755 sequences.\n",
      "@ Sat Oct 22 10:11:04 2016: combining CpG methylation from both strands ...\n",
      "@ Sat Oct 22 10:12:21 2016: writing methratio_out_4_TGACCA.txt ...\n",
      "@ Sat Oct 22 10:17:20 2016: done.\n",
      "total 577435 valid mappings, 690889 covered cytosines, average coverage: 2.18 fold.\n",
      "@ Sat Oct 22 10:17:25 2016: reading reference ../data/Ostrea_lurida.scafSeq ...\n",
      "@ Sat Oct 22 10:18:14 2016: reading bsmap_out_5_ACAGTG.sam ...\n",
      "[samopen] SAM header is present: 765755 sequences.\n",
      "@ Sat Oct 22 10:18:47 2016: combining CpG methylation from both strands ...\n",
      "@ Sat Oct 22 10:20:04 2016: writing methratio_out_5_ACAGTG.txt ...\n",
      "@ Sat Oct 22 10:25:04 2016: done.\n",
      "total 608092 valid mappings, 691864 covered cytosines, average coverage: 2.27 fold.\n",
      "@ Sat Oct 22 10:25:09 2016: reading reference ../data/Ostrea_lurida.scafSeq ...\n",
      "@ Sat Oct 22 10:25:58 2016: reading bsmap_out_6_GCCAAT.sam ...\n",
      "[samopen] SAM header is present: 765755 sequences.\n",
      "@ Sat Oct 22 10:26:32 2016: combining CpG methylation from both strands ...\n",
      "@ Sat Oct 22 10:27:51 2016: writing methratio_out_6_GCCAAT.txt ...\n",
      "@ Sat Oct 22 10:32:57 2016: done.\n",
      "total 604365 valid mappings, 689831 covered cytosines, average coverage: 2.27 fold.\n",
      "@ Sat Oct 22 10:33:02 2016: reading reference ../data/Ostrea_lurida.scafSeq ...\n",
      "@ Sat Oct 22 10:33:51 2016: reading bsmap_out_7_CAGATC.sam ...\n",
      "[samopen] SAM header is present: 765755 sequences.\n",
      "@ Sat Oct 22 10:34:20 2016: combining CpG methylation from both strands ...\n",
      "@ Sat Oct 22 10:35:33 2016: writing methratio_out_7_CAGATC.txt ...\n",
      "@ Sat Oct 22 10:40:32 2016: done.\n",
      "total 507109 valid mappings, 646374 covered cytosines, average coverage: 2.09 fold.\n",
      "@ Sat Oct 22 10:40:38 2016: reading reference ../data/Ostrea_lurida.scafSeq ...\n",
      "@ Sat Oct 22 10:41:27 2016: reading bsmap_out_8_ACTTGA.sam ...\n",
      "[samopen] SAM header is present: 765755 sequences.\n",
      "@ Sat Oct 22 10:42:05 2016: combining CpG methylation from both strands ...\n",
      "@ Sat Oct 22 10:43:22 2016: writing methratio_out_8_ACTTGA.txt ...\n",
      "@ Sat Oct 22 10:48:21 2016: done.\n",
      "total 689625 valid mappings, 732123 covered cytosines, average coverage: 2.42 fold.\n"
     ]
    }
   ],
   "source": [
    "for i in (\"1_ATCACG\",\"2_CGATGT\",\"3_TTAGGC\",\"4_TGACCA\",\"5_ACAGTG\",\"6_GCCAAT\",\"7_CAGATC\",\"8_ACTTGA\"):\n",
    "    !python {bsmaploc}methratio.py \\\n",
    "-d ../data/Ostrea_lurida.scafSeq \\\n",
    "-u -z -g \\\n",
    "-o methratio_out_{i}.txt \\\n",
    "-s {bsmaploc}samtools \\\n",
    "bsmap_out_{i}.sam \\"
   ]
  },
  {
   "cell_type": "code",
   "execution_count": 18,
   "metadata": {
    "collapsed": false
   },
   "outputs": [
    {
     "name": "stdout",
     "output_type": "stream",
     "text": [
      "1_ATCACG\n",
      "2_CGATGT\n",
      "3_TTAGGC\n",
      "4_TGACCA\n",
      "5_ACAGTG\n",
      "6_GCCAAT\n",
      "7_CAGATC\n",
      "8_ACTTGA\n"
     ]
    }
   ],
   "source": [
    "#first methratio files are converted to filter for CG context, 3x coverage (mr3x.awk), and reformatting (mr_gg.awk.sh).\n",
    "#due to issue passing variable to awk, simple scripts were used (included in repository)\n",
    "for i in (\"1_ATCACG\",\"2_CGATGT\",\"3_TTAGGC\",\"4_TGACCA\",\"5_ACAGTG\",\"6_GCCAAT\",\"7_CAGATC\",\"8_ACTTGA\"):\n",
    "    !echo {i}\n",
    "    !grep \"[A-Z][A-Z]CG[A-Z]\" <methratio_out_{i}.txt> methratio_out_{i}CG.txt\n",
    "    !awk -f /Users/sr320/git-repos/sr320.github.io/jupyter/scripts/mr3x.awk methratio_out_{i}CG.txt \\\n",
    "    > mr3x.{i}.txt\n",
    "    !awk -f /Users/sr320/git-repos/sr320.github.io/jupyter/scripts/mr_gg.awk.sh \\\n",
    "    mr3x.{i}.txt > mkfmt_{i}.txt"
   ]
  },
  {
   "cell_type": "code",
   "execution_count": 46,
   "metadata": {
    "collapsed": true
   },
   "outputs": [],
   "source": [
    "#maybe we need to ignore case"
   ]
  },
  {
   "cell_type": "code",
   "execution_count": 51,
   "metadata": {
    "collapsed": false
   },
   "outputs": [
    {
     "name": "stdout",
     "output_type": "stream",
     "text": [
      "MD5 (mkfmt_M2.txt) = df67fde9e87ec165618d384374074057\r\n",
      "MD5 (mkfmti_M2.txt) = df67fde9e87ec165618d384374074057\r\n"
     ]
    }
   ],
   "source": [
    "!md5 mkfmt_M2.txt mkfmti_M2.txt | head"
   ]
  },
  {
   "cell_type": "code",
   "execution_count": 52,
   "metadata": {
    "collapsed": true
   },
   "outputs": [],
   "source": [
    "#nope"
   ]
  },
  {
   "cell_type": "code",
   "execution_count": 19,
   "metadata": {
    "collapsed": false
   },
   "outputs": [
    {
     "name": "stdout",
     "output_type": "stream",
     "text": [
      "==> mkfmt_1_ATCACG.txt <==\r\n",
      "chr.Base\tchr\tbase\tstrand\tcoverage\tfreqC\tfreqT\r\n",
      "scaffold1.33\tscaffold1\t33\tF\t3\t0.00\t100.00\r\n",
      "scaffold1.143\tscaffold1\t143\tF\t4\t0.00\t100.00\r\n",
      "scaffold1.244\tscaffold1\t244\tF\t3\t66.67\t33.33\r\n",
      "scaffold1.265\tscaffold1\t265\tF\t7\t14.29\t85.71\r\n",
      "\r\n",
      "==> mkfmt_2_CGATGT.txt <==\r\n",
      "chr.Base\tchr\tbase\tstrand\tcoverage\tfreqC\tfreqT\r\n",
      "scaffold1.33\tscaffold1\t33\tF\t11\t0.00\t100.00\r\n",
      "scaffold1.143\tscaffold1\t143\tF\t9\t0.00\t100.00\r\n",
      "scaffold1.566\tscaffold1\t566\tF\t8\t0.00\t100.00\r\n",
      "scaffold1.572\tscaffold1\t572\tF\t3\t0.00\t100.00\r\n",
      "\r\n",
      "==> mkfmt_3_TTAGGC.txt <==\r\n",
      "chr.Base\tchr\tbase\tstrand\tcoverage\tfreqC\tfreqT\r\n",
      "scaffold1.12\tscaffold1\t12\tF\t4\t25.00\t75.00\r\n",
      "scaffold1.33\tscaffold1\t33\tF\t3\t0.00\t100.00\r\n",
      "scaffold1.109\tscaffold1\t109\tF\t5\t0.00\t100.00\r\n",
      "scaffold1.143\tscaffold1\t143\tF\t9\t0.00\t100.00\r\n",
      "\r\n",
      "==> mkfmt_4_TGACCA.txt <==\r\n",
      "chr.Base\tchr\tbase\tstrand\tcoverage\tfreqC\tfreqT\r\n",
      "scaffold1.109\tscaffold1\t109\tF\t9\t11.11\t88.89\r\n",
      "scaffold1.143\tscaffold1\t143\tF\t11\t9.09\t90.91\r\n",
      "scaffold1.244\tscaffold1\t244\tF\t3\t0.00\t100.00\r\n",
      "scaffold1.265\tscaffold1\t265\tF\t4\t25.00\t75.00\r\n",
      "\r\n",
      "==> mkfmt_5_ACAGTG.txt <==\r\n",
      "chr.Base\tchr\tbase\tstrand\tcoverage\tfreqC\tfreqT\r\n",
      "scaffold1.33\tscaffold1\t33\tF\t8\t0.00\t100.00\r\n",
      "scaffold1.109\tscaffold1\t109\tF\t5\t0.00\t100.00\r\n",
      "scaffold1.143\tscaffold1\t143\tF\t5\t0.00\t100.00\r\n",
      "scaffold1.244\tscaffold1\t244\tF\t6\t33.33\t66.67\r\n",
      "\r\n",
      "==> mkfmt_6_GCCAAT.txt <==\r\n",
      "chr.Base\tchr\tbase\tstrand\tcoverage\tfreqC\tfreqT\r\n",
      "scaffold1.12\tscaffold1\t12\tF\t3\t0.00\t100.00\r\n",
      "scaffold1.33\tscaffold1\t33\tF\t11\t9.09\t90.91\r\n",
      "scaffold1.109\tscaffold1\t109\tF\t7\t0.00\t100.00\r\n",
      "scaffold1.143\tscaffold1\t143\tF\t11\t0.00\t100.00\r\n",
      "\r\n",
      "==> mkfmt_7_CAGATC.txt <==\r\n",
      "chr.Base\tchr\tbase\tstrand\tcoverage\tfreqC\tfreqT\r\n",
      "scaffold1.33\tscaffold1\t33\tF\t10\t0.00\t100.00\r\n",
      "scaffold1.109\tscaffold1\t109\tF\t6\t0.00\t100.00\r\n",
      "scaffold1.143\tscaffold1\t143\tF\t16\t0.00\t100.00\r\n",
      "scaffold1.244\tscaffold1\t244\tF\t3\t0.00\t100.00\r\n",
      "\r\n",
      "==> mkfmt_8_ACTTGA.txt <==\r\n",
      "chr.Base\tchr\tbase\tstrand\tcoverage\tfreqC\tfreqT\r\n",
      "scaffold1.33\tscaffold1\t33\tF\t7\t0.00\t100.00\r\n",
      "scaffold1.109\tscaffold1\t109\tF\t4\t0.00\t100.00\r\n",
      "scaffold1.143\tscaffold1\t143\tF\t10\t10.00\t90.00\r\n",
      "scaffold1.244\tscaffold1\t244\tF\t6\t0.00\t100.00\r\n",
      "\r\n",
      "==> mkfmt_M2.txt <==\r\n",
      "chr.Base\tchr\tbase\tstrand\tcoverage\tfreqC\tfreqT\r\n",
      "scaffold1.14274\tscaffold1\t14274\tF\t4\t0.00\t100.00\r\n",
      "scaffold1.14305\tscaffold1\t14305\tF\t4\t0.00\t100.00\r\n",
      "scaffold1.15309\tscaffold1\t15309\tF\t4\t0.00\t100.00\r\n",
      "scaffold1.15315\tscaffold1\t15315\tF\t4\t0.00\t100.00\r\n",
      "\r\n",
      "==> mkfmt_M3.txt <==\r\n",
      "chr.Base\tchr\tbase\tstrand\tcoverage\tfreqC\tfreqT\r\n",
      "scaffold1.259\tscaffold1\t259\tF\t4\t100.00\t0.00\r\n",
      "scaffold1.263\tscaffold1\t263\tF\t4\t100.00\t0.00\r\n",
      "scaffold1.267\tscaffold1\t267\tF\t4\t100.00\t0.00\r\n",
      "scaffold1.271\tscaffold1\t271\tF\t4\t100.00\t0.00\r\n",
      "\r\n",
      "==> mkfmti_M2.txt <==\r\n",
      "chr.Base\tchr\tbase\tstrand\tcoverage\tfreqC\tfreqT\r\n",
      "scaffold1.14274\tscaffold1\t14274\tF\t4\t0.00\t100.00\r\n",
      "scaffold1.14305\tscaffold1\t14305\tF\t4\t0.00\t100.00\r\n",
      "scaffold1.15309\tscaffold1\t15309\tF\t4\t0.00\t100.00\r\n",
      "scaffold1.15315\tscaffold1\t15315\tF\t4\t0.00\t100.00\r\n",
      "\r\n",
      "==> mkfmti_M3.txt <==\r\n",
      "chr.Base\tchr\tbase\tstrand\tcoverage\tfreqC\tfreqT\r\n",
      "scaffold1.259\tscaffold1\t259\tF\t4\t100.00\t0.00\r\n",
      "scaffold1.263\tscaffold1\t263\tF\t4\t100.00\t0.00\r\n",
      "scaffold1.267\tscaffold1\t267\tF\t4\t100.00\t0.00\r\n",
      "scaffold1.271\tscaffold1\t271\tF\t4\t100.00\t0.00\r\n"
     ]
    }
   ],
   "source": [
    "!head -5  mkfmt*"
   ]
  },
  {
   "cell_type": "markdown",
   "metadata": {},
   "source": [
    "# Products"
   ]
  },
  {
   "cell_type": "code",
   "execution_count": 22,
   "metadata": {
    "collapsed": false
   },
   "outputs": [
    {
     "name": "stdout",
     "output_type": "stream",
     "text": [
      "/Users/sr320/git-repos/sr320.github.io/jupyter\n"
     ]
    }
   ],
   "source": [
    "cd git-repos/sr320.github.io/jupyter/ "
   ]
  },
  {
   "cell_type": "code",
   "execution_count": 23,
   "metadata": {
    "collapsed": false
   },
   "outputs": [
    {
     "name": "stdout",
     "output_type": "stream",
     "text": [
      "\u001b[34mCgigas\u001b[m\u001b[m/   \u001b[34mOlurida\u001b[m\u001b[m/  \u001b[34manalyses\u001b[m\u001b[m/ \u001b[34mscripts\u001b[m\u001b[m/\r\n"
     ]
    }
   ],
   "source": [
    "ls"
   ]
  },
  {
   "cell_type": "code",
   "execution_count": 24,
   "metadata": {
    "collapsed": true
   },
   "outputs": [],
   "source": [
    "mkdir analyses/$(date +%F)"
   ]
  },
  {
   "cell_type": "code",
   "execution_count": 25,
   "metadata": {
    "collapsed": false
   },
   "outputs": [],
   "source": [
    "for i in (\"1_ATCACG\",\"2_CGATGT\",\"3_TTAGGC\",\"4_TGACCA\",\"5_ACAGTG\",\"6_GCCAAT\",\"7_CAGATC\",\"8_ACTTGA\"):\n",
    "    !cp /Volumes/caviar/wd/2016-10-11/mkfmt_{i}.txt analyses/$(date +%F)/mkfmt_{i}.txt"
   ]
  },
  {
   "cell_type": "code",
   "execution_count": 26,
   "metadata": {
    "collapsed": false
   },
   "outputs": [
    {
     "name": "stdout",
     "output_type": "stream",
     "text": [
      "==> analyses/2016-10-22/mkfmt_1_ATCACG.txt <==\r\n",
      "chr.Base\tchr\tbase\tstrand\tcoverage\tfreqC\tfreqT\r\n",
      "scaffold1.33\tscaffold1\t33\tF\t3\t0.00\t100.00\r\n",
      "scaffold1.143\tscaffold1\t143\tF\t4\t0.00\t100.00\r\n",
      "scaffold1.244\tscaffold1\t244\tF\t3\t66.67\t33.33\r\n",
      "scaffold1.265\tscaffold1\t265\tF\t7\t14.29\t85.71\r\n",
      "scaffold1.579\tscaffold1\t579\tF\t4\t0.00\t100.00\r\n",
      "scaffold1.591\tscaffold1\t591\tF\t4\t0.00\t100.00\r\n",
      "scaffold1.622\tscaffold1\t622\tF\t4\t0.00\t100.00\r\n",
      "scaffold1.641\tscaffold1\t641\tF\t3\t66.67\t33.33\r\n",
      "scaffold1.723\tscaffold1\t723\tF\t3\t0.00\t100.00\r\n",
      "\r\n",
      "==> analyses/2016-10-22/mkfmt_2_CGATGT.txt <==\r\n",
      "chr.Base\tchr\tbase\tstrand\tcoverage\tfreqC\tfreqT\r\n",
      "scaffold1.33\tscaffold1\t33\tF\t11\t0.00\t100.00\r\n",
      "scaffold1.143\tscaffold1\t143\tF\t9\t0.00\t100.00\r\n",
      "scaffold1.566\tscaffold1\t566\tF\t8\t0.00\t100.00\r\n",
      "scaffold1.572\tscaffold1\t572\tF\t3\t0.00\t100.00\r\n",
      "scaffold1.576\tscaffold1\t576\tF\t9\t0.00\t100.00\r\n",
      "scaffold1.579\tscaffold1\t579\tF\t8\t0.00\t100.00\r\n",
      "scaffold1.582\tscaffold1\t582\tF\t6\t83.33\t16.67\r\n",
      "scaffold1.591\tscaffold1\t591\tF\t6\t0.00\t100.00\r\n",
      "scaffold1.602\tscaffold1\t602\tF\t5\t0.00\t100.00\r\n",
      "\r\n",
      "==> analyses/2016-10-22/mkfmt_3_TTAGGC.txt <==\r\n",
      "chr.Base\tchr\tbase\tstrand\tcoverage\tfreqC\tfreqT\r\n",
      "scaffold1.12\tscaffold1\t12\tF\t4\t25.00\t75.00\r\n",
      "scaffold1.33\tscaffold1\t33\tF\t3\t0.00\t100.00\r\n",
      "scaffold1.109\tscaffold1\t109\tF\t5\t0.00\t100.00\r\n",
      "scaffold1.143\tscaffold1\t143\tF\t9\t0.00\t100.00\r\n",
      "scaffold1.244\tscaffold1\t244\tF\t4\t0.00\t100.00\r\n",
      "scaffold1.265\tscaffold1\t265\tF\t11\t0.00\t100.00\r\n",
      "scaffold1.566\tscaffold1\t566\tF\t5\t0.00\t100.00\r\n",
      "scaffold1.576\tscaffold1\t576\tF\t5\t0.00\t100.00\r\n",
      "scaffold1.579\tscaffold1\t579\tF\t6\t0.00\t100.00\r\n",
      "\r\n",
      "==> analyses/2016-10-22/mkfmt_4_TGACCA.txt <==\r\n",
      "chr.Base\tchr\tbase\tstrand\tcoverage\tfreqC\tfreqT\r\n",
      "scaffold1.109\tscaffold1\t109\tF\t9\t11.11\t88.89\r\n",
      "scaffold1.143\tscaffold1\t143\tF\t11\t9.09\t90.91\r\n",
      "scaffold1.244\tscaffold1\t244\tF\t3\t0.00\t100.00\r\n",
      "scaffold1.265\tscaffold1\t265\tF\t4\t25.00\t75.00\r\n",
      "scaffold1.566\tscaffold1\t566\tF\t4\t0.00\t100.00\r\n",
      "scaffold1.572\tscaffold1\t572\tF\t3\t0.00\t100.00\r\n",
      "scaffold1.576\tscaffold1\t576\tF\t7\t0.00\t100.00\r\n",
      "scaffold1.579\tscaffold1\t579\tF\t5\t0.00\t100.00\r\n",
      "scaffold1.582\tscaffold1\t582\tF\t4\t50.00\t50.00\r\n",
      "\r\n",
      "==> analyses/2016-10-22/mkfmt_5_ACAGTG.txt <==\r\n",
      "chr.Base\tchr\tbase\tstrand\tcoverage\tfreqC\tfreqT\r\n",
      "scaffold1.33\tscaffold1\t33\tF\t8\t0.00\t100.00\r\n",
      "scaffold1.109\tscaffold1\t109\tF\t5\t0.00\t100.00\r\n",
      "scaffold1.143\tscaffold1\t143\tF\t5\t0.00\t100.00\r\n",
      "scaffold1.244\tscaffold1\t244\tF\t6\t33.33\t66.67\r\n",
      "scaffold1.265\tscaffold1\t265\tF\t6\t0.00\t100.00\r\n",
      "scaffold1.566\tscaffold1\t566\tF\t3\t0.00\t100.00\r\n",
      "scaffold1.572\tscaffold1\t572\tF\t3\t0.00\t100.00\r\n",
      "scaffold1.576\tscaffold1\t576\tF\t4\t0.00\t100.00\r\n",
      "scaffold1.579\tscaffold1\t579\tF\t5\t0.00\t100.00\r\n",
      "\r\n",
      "==> analyses/2016-10-22/mkfmt_6_GCCAAT.txt <==\r\n",
      "chr.Base\tchr\tbase\tstrand\tcoverage\tfreqC\tfreqT\r\n",
      "scaffold1.12\tscaffold1\t12\tF\t3\t0.00\t100.00\r\n",
      "scaffold1.33\tscaffold1\t33\tF\t11\t9.09\t90.91\r\n",
      "scaffold1.109\tscaffold1\t109\tF\t7\t0.00\t100.00\r\n",
      "scaffold1.143\tscaffold1\t143\tF\t11\t0.00\t100.00\r\n",
      "scaffold1.244\tscaffold1\t244\tF\t9\t11.11\t88.89\r\n",
      "scaffold1.265\tscaffold1\t265\tF\t11\t0.00\t100.00\r\n",
      "scaffold1.566\tscaffold1\t566\tF\t10\t0.00\t100.00\r\n",
      "scaffold1.572\tscaffold1\t572\tF\t4\t0.00\t100.00\r\n",
      "scaffold1.576\tscaffold1\t576\tF\t11\t0.00\t100.00\r\n",
      "\r\n",
      "==> analyses/2016-10-22/mkfmt_7_CAGATC.txt <==\r\n",
      "chr.Base\tchr\tbase\tstrand\tcoverage\tfreqC\tfreqT\r\n",
      "scaffold1.33\tscaffold1\t33\tF\t10\t0.00\t100.00\r\n",
      "scaffold1.109\tscaffold1\t109\tF\t6\t0.00\t100.00\r\n",
      "scaffold1.143\tscaffold1\t143\tF\t16\t0.00\t100.00\r\n",
      "scaffold1.244\tscaffold1\t244\tF\t3\t0.00\t100.00\r\n",
      "scaffold1.265\tscaffold1\t265\tF\t9\t0.00\t100.00\r\n",
      "scaffold1.566\tscaffold1\t566\tF\t6\t0.00\t100.00\r\n",
      "scaffold1.576\tscaffold1\t576\tF\t5\t0.00\t100.00\r\n",
      "scaffold1.579\tscaffold1\t579\tF\t6\t16.67\t83.33\r\n",
      "scaffold1.582\tscaffold1\t582\tF\t5\t80.00\t20.00\r\n",
      "\r\n",
      "==> analyses/2016-10-22/mkfmt_8_ACTTGA.txt <==\r\n",
      "chr.Base\tchr\tbase\tstrand\tcoverage\tfreqC\tfreqT\r\n",
      "scaffold1.33\tscaffold1\t33\tF\t7\t0.00\t100.00\r\n",
      "scaffold1.109\tscaffold1\t109\tF\t4\t0.00\t100.00\r\n",
      "scaffold1.143\tscaffold1\t143\tF\t10\t10.00\t90.00\r\n",
      "scaffold1.244\tscaffold1\t244\tF\t6\t0.00\t100.00\r\n",
      "scaffold1.265\tscaffold1\t265\tF\t7\t14.29\t85.71\r\n",
      "scaffold1.566\tscaffold1\t566\tF\t7\t0.00\t100.00\r\n",
      "scaffold1.576\tscaffold1\t576\tF\t6\t0.00\t100.00\r\n",
      "scaffold1.579\tscaffold1\t579\tF\t7\t14.29\t85.71\r\n",
      "scaffold1.582\tscaffold1\t582\tF\t7\t42.86\t57.14\r\n"
     ]
    }
   ],
   "source": [
    "!head analyses/$(date +%F)/*"
   ]
  },
  {
   "cell_type": "markdown",
   "metadata": {},
   "source": [
    "url for 8 tables..\n",
    "\n",
    "```\n",
    "https://github.com/sr320/sr320.github.io/tree/master/jupyter/analyses/2016-10-22\n",
    "```"
   ]
  },
  {
   "cell_type": "code",
   "execution_count": null,
   "metadata": {
    "collapsed": true
   },
   "outputs": [],
   "source": []
  }
 ],
 "metadata": {
  "kernelspec": {
   "display_name": "Python 2",
   "language": "python",
   "name": "python2"
  },
  "language_info": {
   "codemirror_mode": {
    "name": "ipython",
    "version": 2
   },
   "file_extension": ".py",
   "mimetype": "text/x-python",
   "name": "python",
   "nbconvert_exporter": "python",
   "pygments_lexer": "ipython2",
   "version": "2.7.12"
  }
 },
 "nbformat": 4,
 "nbformat_minor": 0
}
