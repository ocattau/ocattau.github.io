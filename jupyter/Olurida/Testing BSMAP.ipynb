{
 "cells": [
  {
   "cell_type": "code",
   "execution_count": 5,
   "metadata": {
    "collapsed": false
   },
   "outputs": [
    {
     "name": "stdout",
     "output_type": "stream",
     "text": [
      "Fri Nov 25 10:46:53 PST 2016\n",
      "Software:\n",
      "\n",
      "    System Software Overview:\n",
      "\n",
      "      System Version: macOS 10.12 (16A323)\n",
      "      Kernel Version: Darwin 16.0.0\n",
      "      Boot Volume: Macintosh HD\n",
      "      Boot Mode: Normal\n",
      "      Computer Name: genefish\n",
      "      User Name: Steven Roberts (Steven)\n",
      "      Secure Virtual Memory: Enabled\n",
      "      System Integrity Protection: Enabled\n",
      "      Time since boot: 38 days 22:54\n",
      "\n"
     ]
    }
   ],
   "source": [
    "%%bash\n",
    "date\n",
    "system_profiler SPSoftwareDataType"
   ]
  },
  {
   "cell_type": "code",
   "execution_count": 4,
   "metadata": {
    "collapsed": false
   },
   "outputs": [],
   "source": [
    "bsmaploc=\"/Users/Shared/Apps/bsmap-2.74/\"\n",
    "\n"
   ]
  },
  {
   "cell_type": "code",
   "execution_count": 7,
   "metadata": {
    "collapsed": false
   },
   "outputs": [],
   "source": [
    "mkdir /Volumes/web/halfshell/working-directory/16-11-25\n"
   ]
  },
  {
   "cell_type": "code",
   "execution_count": 8,
   "metadata": {
    "collapsed": true
   },
   "outputs": [],
   "source": [
    "!{bsmaploc}bsmap \\\n",
    "-a /Users/Shared/data/Oly_clambay/zr1394_1_s456.fastq.gz \\\n",
    "-d /Users/Shared/data/Oly_clambay/Ostrea_lurida-Scaff-10k.fa \\\n",
    "-o /Volumes/web/halfshell/working-directory/16-11-25/bsmap_out_Os10k.sam \\\n",
    "-p 8 \\\n",
    "2> /Volumes/web/halfshell/working-directory/16-11-25/bsmap_out_Os10k.stderr"
   ]
  },
  {
   "cell_type": "code",
   "execution_count": 9,
   "metadata": {
    "collapsed": true
   },
   "outputs": [],
   "source": [
    "!{bsmaploc}bsmap \\\n",
    "-a /Users/Shared/data/Oly_clambay/zr1394_1_s456.fastq.gz \\\n",
    "-d /Users/Steven/Documents/git-repos/student-fish546-2016/data/Ostrea_lurida-Scaff-30k.fa \\\n",
    "-o /Volumes/web/halfshell/working-directory/16-11-25/bsmap_out_O30k.sam \\\n",
    "-p 8 \\\n",
    "2> /Volumes/web/halfshell/working-directory/16-11-25/bsmap_out_O30k.stderr"
   ]
  },
  {
   "cell_type": "code",
   "execution_count": 10,
   "metadata": {
    "collapsed": true
   },
   "outputs": [],
   "source": [
    "!{bsmaploc}bsmap \\\n",
    "-a /Users/Shared/data/Oly_clambay/zr1394_1_s456.fastq.gz \\\n",
    "-d /Users/Steven/Documents/git-repos/student-fish546-2016/data/Panopea_generosa-Scaff-70k.fa \\\n",
    "-o /Volumes/web/halfshell/working-directory/16-11-25/bsmap_out_P70k.sam \\\n",
    "-p 8 \\\n",
    "2> /Volumes/web/halfshell/working-directory/16-11-25/bsmap_out_P70k.stderr"
   ]
  },
  {
   "cell_type": "code",
   "execution_count": 11,
   "metadata": {
    "collapsed": true
   },
   "outputs": [],
   "source": [
    "!{bsmaploc}bsmap \\\n",
    "-a /Users/Shared/data/Oly_clambay/zr1394_1_s456.fastq.gz \\\n",
    "-d /Users/Shared/data/Oly_clambay/Ostrea_lurida-Scaff-10k.fa \\\n",
    "-o /Volumes/web/halfshell/working-directory/16-11-25/bsmap_out_Os10k.bsp \\\n",
    "-p 8 \\\n",
    "2> /Volumes/web/halfshell/working-directory/16-11-25/bsmap_out_Os10k-bsp.stderr"
   ]
  },
  {
   "cell_type": "code",
   "execution_count": 12,
   "metadata": {
    "collapsed": true
   },
   "outputs": [],
   "source": [
    "!{bsmaploc}bsmap \\\n",
    "-a /Users/Shared/data/Oly_clambay/zr1394_1_s456.fastq.gz \\\n",
    "-d /Users/Steven/Documents/git-repos/student-fish546-2016/data/Ostrea_lurida-Scaff-30k.fa \\\n",
    "-o /Volumes/web/halfshell/working-directory/16-11-25/bsmap_out_O30k.bsp \\\n",
    "-p 8 \\\n",
    "2> /Volumes/web/halfshell/working-directory/16-11-25/bsmap_out_O30k-bsp.stderr"
   ]
  },
  {
   "cell_type": "code",
   "execution_count": 13,
   "metadata": {
    "collapsed": true
   },
   "outputs": [],
   "source": [
    "!{bsmaploc}bsmap \\\n",
    "-a /Users/Shared/data/Oly_clambay/zr1394_1_s456.fastq.gz \\\n",
    "-d /Users/Steven/Documents/git-repos/student-fish546-2016/data/Panopea_generosa-Scaff-70k.fa \\\n",
    "-o /Volumes/web/halfshell/working-directory/16-11-25/bsmap_out_P70k.bsp \\\n",
    "-p 8 \\\n",
    "2> /Volumes/web/halfshell/working-directory/16-11-25/bsmap_out_P70k-bsp.stderr"
   ]
  },
  {
   "cell_type": "code",
   "execution_count": 15,
   "metadata": {
    "collapsed": false
   },
   "outputs": [
    {
     "name": "stdout",
     "output_type": "stream",
     "text": [
      "Thread #2: \t47150000 reads finished. 1429 secs passed\r\n",
      "Thread #1: \t47200000 reads finished. 1429 secs passed\r\n",
      "Thread #6: \t47250000 reads finished. 1434 secs passed\r\n",
      "Thread #3: \t47300000 reads finished. 1434 secs passed\r\n",
      "Thread #7: \t47350000 reads finished. 1434 secs passed\r\n",
      "Thread #0: \t47399413 reads finished. 1434 secs passed\r\n",
      "Total number of aligned reads: 2952762 (6.2%)\r\n",
      "Done.\r\n",
      "Finished at Fri Nov 25 11:50:10 2016\r\n",
      "Total time consumed:  1435 secs\r\n"
     ]
    }
   ],
   "source": [
    "!tail /Volumes/web/halfshell/working-directory/16-11-25/bsmap_out_Os10k-bsp.stderr"
   ]
  },
  {
   "cell_type": "code",
   "execution_count": 16,
   "metadata": {
    "collapsed": false
   },
   "outputs": [
    {
     "name": "stdout",
     "output_type": "stream",
     "text": [
      "Thread #1: \t47150000 reads finished. 1382 secs passed\r\n",
      "Thread #4: \t47200000 reads finished. 1383 secs passed\r\n",
      "Thread #0: \t47250000 reads finished. 1386 secs passed\r\n",
      "Thread #2: \t47300000 reads finished. 1386 secs passed\r\n",
      "Thread #7: \t47350000 reads finished. 1386 secs passed\r\n",
      "Thread #6: \t47399413 reads finished. 1386 secs passed\r\n",
      "Total number of aligned reads: 2953001 (6.2%)\r\n",
      "Done.\r\n",
      "Finished at Fri Nov 25 11:22:07 2016\r\n",
      "Total time consumed:  1389 secs\r\n"
     ]
    }
   ],
   "source": [
    "!tail  /Volumes/web/halfshell/working-directory/16-11-25/bsmap_out_Os10k.stderr"
   ]
  },
  {
   "cell_type": "code",
   "execution_count": 17,
   "metadata": {
    "collapsed": false
   },
   "outputs": [
    {
     "name": "stdout",
     "output_type": "stream",
     "text": [
      "Thread #6: \t47150000 reads finished. 128 secs passed\r\n",
      "Thread #7: \t47200000 reads finished. 129 secs passed\r\n",
      "Thread #1: \t47250000 reads finished. 129 secs passed\r\n",
      "Thread #0: \t47300000 reads finished. 129 secs passed\r\n",
      "Thread #3: \t47350000 reads finished. 129 secs passed\r\n",
      "Thread #2: \t47399413 reads finished. 129 secs passed\r\n",
      "Total number of aligned reads: 1394687 (2.9%)\r\n",
      "Done.\r\n",
      "Finished at Fri Nov 25 11:24:21 2016\r\n",
      "Total time consumed:  133 secs\r\n"
     ]
    }
   ],
   "source": [
    "!tail /Volumes/web/halfshell/working-directory/16-11-25/bsmap_out_O30k.stderr"
   ]
  },
  {
   "cell_type": "code",
   "execution_count": 19,
   "metadata": {
    "collapsed": false
   },
   "outputs": [
    {
     "name": "stdout",
     "output_type": "stream",
     "text": [
      "Thread #6: \t47150000 reads finished. 105 secs passed\r\n",
      "Thread #7: \t47200000 reads finished. 105 secs passed\r\n",
      "Thread #0: \t47250000 reads finished. 105 secs passed\r\n",
      "Thread #4: \t47300000 reads finished. 106 secs passed\r\n",
      "Thread #1: \t47350000 reads finished. 106 secs passed\r\n",
      "Thread #3: \t47399413 reads finished. 106 secs passed\r\n",
      "Total number of aligned reads: 20423 (0.043%)\r\n",
      "Done.\r\n",
      "Finished at Fri Nov 25 11:26:08 2016\r\n",
      "Total time consumed:  106 secs\r\n"
     ]
    }
   ],
   "source": [
    "!tail /Volumes/web/halfshell/working-directory/16-11-25/bsmap_out_P70k.stderr"
   ]
  },
  {
   "cell_type": "code",
   "execution_count": 20,
   "metadata": {
    "collapsed": false
   },
   "outputs": [
    {
     "name": "stdout",
     "output_type": "stream",
     "text": [
      "HWI-C00124:164:C7URDANXX:3:2316:15900:100194\t0\ts_3622\t4089\t255\t51M\t*\t0\t0\tGGGTAAATTTTTTGTTAAGAGTAAATTAGTTAAAATGTTATGGTGTTTATA\tB<BBBFFFFFBFFFFFFF//<FFFFBFFFFFFFFFFFBF/F/F<BFBFF/<\tNM:i:2\tZS:Z:++\r\n",
      "HWI-C00124:164:C7URDANXX:3:2316:15826:100225\t256\ts_9202\t927\t255\t51M\t*\t0\t0\tCTTGGTATTTAATACGGCGGGTGTGATCGGTTAGTAGAGGATGTTTATTTT\tBBBBBFF/F<BF/BFF/</BF</</<BB<B/B/<<<BBFF///<FBBFFFF\tNM:i:3\tZS:Z:++\r\n",
      "HWI-C00124:164:C7URDANXX:3:2316:16427:100059\t16\ts_3113\t1870\t255\t51M\t*\t0\t0\tAAAAAACGAAAATAACGTTTTTCAAAATATAAAATCGAAAAAATCTCGCCT\tFFFFFFFFFFFFFFFFFFFFFFFFFFFFFFFFFFBFFFFFFFFF</BBBBB\tNM:i:2\tZS:Z:-+\r\n",
      "HWI-C00124:164:C7URDANXX:3:2316:16449:100126\t0\ts_5458\t10092\t255\t51M\t*\t0\t0\tTTATTTGTGTTGGGGTGTCGCGAAAAGTAAAATATTAGAGATTATCGCGAC\t/<</B/</BFB/BFB</F/F//<BB/<FF/<FF/BFFFF/<<B/<F/F<F7\tNM:i:3\tZS:Z:++\r\n",
      "HWI-C00124:164:C7URDANXX:3:2316:17137:100074\t16\ts_2131\t4384\t255\t50M\t*\t0\t0\tTAAATATAAAATCTATTATTTAATATCATATTTCAAAAATTACTATTAAG\tFFFFF/</FFF<FFF/<FFFFFF<FBFFFFFB/<FFFFFFFFFF<BBBBB\tNM:i:3\tZS:Z:-+\r\n",
      "HWI-C00124:164:C7URDANXX:3:2316:17605:100102\t16\ts_335\t5506\t255\t51M\t*\t0\t0\tAATATACCGCGATATACCGTAATATTTAAAAAATACCGCGATATATACCAG\tFFFF<BF<<F</FFFFFFFFFFFFFFFFFFFFFFFFFFBB/BF/F<BBBBB\tNM:i:2\tZS:Z:-+\r\n",
      "HWI-C00124:164:C7URDANXX:3:2316:17819:100039\t0\ts_4157\t15400\t255\t50M\t*\t0\t0\tGGCCTTTTAGGATGATAGTATATTATTTGAAGGTGTTCGGAACGATTGTT\tBBBBB/FFFF<FBFFFFFFFF<BFFFFFFFFFFFFF<FFF7FBBFFFFFF\tNM:i:4\tZS:Z:++\r\n",
      "HWI-C00124:164:C7URDANXX:3:2316:2709:100260\t256\ts_4142\t11562\t255\t47M\t*\t0\t0\tATTATTTTTGTAACGGTTGTATATATTTAATTTAAAATTGTTATATG\t/<BBBB/FFFFFFF<<<FF<///<BFFFFFFBBBBF/<<//FFF/B/\tNM:i:2\tZS:Z:++\r\n",
      "HWI-C00124:164:C7URDANXX:3:2316:4249:100278\t272\ts_901\t13312\t255\t51M\t*\t0\t0\tATAAAAATACTAAAAAAATAAATAATTAAAACCTCCAAATCAATTCGACAT\tBFFBBFFBFFFFFFFFFFF<FFFFFFFFFFBF/FBFFFFFFFFBB/BBBBB\tNM:i:0\tZS:Z:-+\r\n",
      "HWI-C00124:164:C7URDANXX:3:2316:12989:100298\t16\ts_6951\t9762\t255\t50M\t*\t0\t0\tCTTTCTCGATAAAAACAATCCATATAATCTCTCTCGTAATCATCTCTTAC\tFFF/BFFFFFFFFFFFFF<FFFFFFFF<FFB<B<FBFFFBFFFFBBBBBB\tNM:i:2\tZS:Z:-+\r\n"
     ]
    }
   ],
   "source": [
    "!tail /Volumes/web/halfshell/working-directory/16-11-25/bsmap_out_Os10k.sam"
   ]
  },
  {
   "cell_type": "code",
   "execution_count": null,
   "metadata": {
    "collapsed": true
   },
   "outputs": [],
   "source": []
  }
 ],
 "metadata": {
  "anaconda-cloud": {},
  "kernelspec": {
   "display_name": "Python [default]",
   "language": "python",
   "name": "python2"
  },
  "language_info": {
   "codemirror_mode": {
    "name": "ipython",
    "version": 2
   },
   "file_extension": ".py",
   "mimetype": "text/x-python",
   "name": "python",
   "nbconvert_exporter": "python",
   "pygments_lexer": "ipython2",
   "version": "2.7.12"
  }
 },
 "nbformat": 4,
 "nbformat_minor": 1
}
