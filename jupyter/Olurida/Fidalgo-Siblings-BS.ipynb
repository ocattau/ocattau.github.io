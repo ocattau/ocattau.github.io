{
 "cells": [
  {
   "cell_type": "markdown",
   "metadata": {},
   "source": [
    "<img src=\"http://eagle.fish.washington.edu/cnidarian/skitch/Whole_genome_BSseq_December_2015_·_RobertsLab_project-olympia_oyster-genomic_Wiki_1DAD4A4D.png\" alt=\"Whole_genome_BSseq_December_2015_·_RobertsLab_project-olympia_oyster-genomic_Wiki_1DAD4A4D.png\" width=50%/>"
   ]
  },
  {
   "cell_type": "code",
   "execution_count": 1,
   "metadata": {
    "collapsed": true
   },
   "outputs": [],
   "source": [
    "bsmaploc=\"/Applications/bioinfo/BSMAP/bsmap-2.74/\"\n"
   ]
  },
  {
   "cell_type": "code",
   "execution_count": 2,
   "metadata": {
    "collapsed": false
   },
   "outputs": [
    {
     "name": "stdout",
     "output_type": "stream",
     "text": [
      "/Volumes/caviar/wd/2016-10-11\n"
     ]
    }
   ],
   "source": [
    "cd /Volumes/caviar/wd/2016-10-11"
   ]
  },
  {
   "cell_type": "code",
   "execution_count": 2,
   "metadata": {
    "collapsed": false
   },
   "outputs": [
    {
     "name": "stdout",
     "output_type": "stream",
     "text": [
      "  % Total    % Received % Xferd  Average Speed   Time    Time     Time  Current\n",
      "                                 Dload  Upload   Total   Spent    Left  Speed\n",
      "100  502M  100  502M    0     0  40.3M      0  0:00:12  0:00:12 --:--:-- 75.3M\n",
      "  % Total    % Received % Xferd  Average Speed   Time    Time     Time  Current\n",
      "                                 Dload  Upload   Total   Spent    Left  Speed\n",
      "100  637M  100  637M    0     0  73.3M      0  0:00:08  0:00:08 --:--:-- 73.9M\n",
      "  % Total    % Received % Xferd  Average Speed   Time    Time     Time  Current\n",
      "                                 Dload  Upload   Total   Spent    Left  Speed\n",
      "100  633M  100  633M    0     0  41.1M      0  0:00:15  0:00:15 --:--:-- 68.8M\n",
      "  % Total    % Received % Xferd  Average Speed   Time    Time     Time  Current\n",
      "                                 Dload  Upload   Total   Spent    Left  Speed\n",
      "100  671M  100  671M    0     0  52.8M      0  0:00:12  0:00:12 --:--:-- 75.2M\n",
      "  % Total    % Received % Xferd  Average Speed   Time    Time     Time  Current\n",
      "                                 Dload  Upload   Total   Spent    Left  Speed\n",
      "100  667M  100  667M    0     0  42.3M      0  0:00:15  0:00:15 --:--:-- 70.0M\n",
      "  % Total    % Received % Xferd  Average Speed   Time    Time     Time  Current\n",
      "                                 Dload  Upload   Total   Spent    Left  Speed\n",
      "100  548M  100  548M    0     0  68.7M      0  0:00:07  0:00:07 --:--:-- 79.7M\n",
      "  % Total    % Received % Xferd  Average Speed   Time    Time     Time  Current\n",
      "                                 Dload  Upload   Total   Spent    Left  Speed\n",
      "100  764M  100  764M    0     0  34.5M      0  0:00:22  0:00:22 --:--:-- 69.6M\n"
     ]
    }
   ],
   "source": [
    "!curl -O http://owl.fish.washington.edu/nightingales/O_lurida/1_ATCACG_L001_R1_001.fastq.gz\n",
    "!curl -O http://owl.fish.washington.edu/nightingales/O_lurida/2_CGATGT_L001_R1_001.fastq.gz\n",
    "!curl -O http://owl.fish.washington.edu/nightingales/O_lurida/3_TTAGGC_L001_R1_001.fastq.gz\n",
    "!curl -O http://owl.fish.washington.edu/nightingales/O_lurida/5_ACAGTG_L001_R1_001.fastq.gz\n",
    "!curl -O http://owl.fish.washington.edu/nightingales/O_lurida/6_GCCAAT_L001_R1_001.fastq.gz\n",
    "!curl -O http://owl.fish.washington.edu/nightingales/O_lurida/7_CAGATC_L001_R1_001.fastq.gz\n",
    "!curl -O http://owl.fish.washington.edu/nightingales/O_lurida/8_ACTTGA_L001_R1_001.fastq.gz"
   ]
  },
  {
   "cell_type": "markdown",
   "metadata": {
    "collapsed": true
   },
   "source": [
    "<img src=\"http://eagle.fish.washington.edu/cnidarian/skitch/Whole_genome_BSseq_December_2015_·_RobertsLab_project-olympia_oyster-genomic_Wiki_1DAD4D68.png\" alt=\"Whole_genome_BSseq_December_2015_·_RobertsLab_project-olympia_oyster-genomic_Wiki_1DAD4D68.png\"/>\n"
   ]
  },
  {
   "cell_type": "code",
   "execution_count": 3,
   "metadata": {
    "collapsed": true
   },
   "outputs": [],
   "source": [
    "# Genome"
   ]
  },
  {
   "cell_type": "code",
   "execution_count": 3,
   "metadata": {
    "collapsed": false
   },
   "outputs": [
    {
     "name": "stdout",
     "output_type": "stream",
     "text": [
      "/Volumes/caviar/wd/data\n"
     ]
    }
   ],
   "source": [
    "cd ../data"
   ]
  },
  {
   "cell_type": "code",
   "execution_count": 5,
   "metadata": {
    "collapsed": false
   },
   "outputs": [
    {
     "name": "stdout",
     "output_type": "stream",
     "text": [
      "  % Total    % Received % Xferd  Average Speed   Time    Time     Time  Current\n",
      "                                 Dload  Upload   Total   Spent    Left  Speed\n",
      "100  761M  100  761M    0     0  49.3M      0  0:00:15  0:00:15 --:--:-- 66.0M\n"
     ]
    }
   ],
   "source": [
    "!curl -O http://owl.fish.washington.edu/O_lurida_genome_assemblies_BGI/20160512/Ostrea_lurida.scafSeq"
   ]
  },
  {
   "cell_type": "code",
   "execution_count": 6,
   "metadata": {
    "collapsed": false
   },
   "outputs": [
    {
     "name": "stdout",
     "output_type": "stream",
     "text": [
      "MD5 (/Volumes/caviar/wd/data/Ostrea_lurida.scafSeq) = f0a7772d4f1074698b50c913783c6fe2\r\n"
     ]
    }
   ],
   "source": [
    "!md5 /Volumes/caviar/wd/data/O*"
   ]
  },
  {
   "cell_type": "code",
   "execution_count": 8,
   "metadata": {
    "collapsed": false
   },
   "outputs": [
    {
     "name": "stdout",
     "output_type": "stream",
     "text": [
      "  % Total    % Received % Xferd  Average Speed   Time    Time     Time  Current\n",
      "                                 Dload  Upload   Total   Spent    Left  Speed\n",
      "100   913  100   913    0     0   8304      0 --:--:-- --:--:-- --:--:--  8376\n",
      "f0a7772d4f1074698b50c913783c6fe2  Assembly_Result/Ostrea_lurida.scafSeq\n"
     ]
    }
   ],
   "source": [
    "!curl http://owl.fish.washington.edu/O_lurida_genome_assemblies_BGI/20160512/md5.txt | grep scaf"
   ]
  },
  {
   "cell_type": "code",
   "execution_count": 4,
   "metadata": {
    "collapsed": false
   },
   "outputs": [
    {
     "name": "stdout",
     "output_type": "stream",
     "text": [
      "\u001b[34m2016-10-11\u001b[m\u001b[m/ \u001b[34m2016-10-18\u001b[m\u001b[m/ \u001b[34mdata\u001b[m\u001b[m/       \u001b[34mmisc\u001b[m\u001b[m/\r\n"
     ]
    }
   ],
   "source": [
    "ls ../"
   ]
  },
  {
   "cell_type": "code",
   "execution_count": 5,
   "metadata": {
    "collapsed": false
   },
   "outputs": [
    {
     "name": "stdout",
     "output_type": "stream",
     "text": [
      "/Volumes/caviar/wd/2016-10-11\n"
     ]
    }
   ],
   "source": [
    "cd ../2016-10-11/"
   ]
  },
  {
   "cell_type": "code",
   "execution_count": 7,
   "metadata": {
    "collapsed": false
   },
   "outputs": [
    {
     "name": "stdout",
     "output_type": "stream",
     "text": [
      "-rw-r--r--  1 sr320  staff   208M Oct 15 02:52 bsmap_out_1_ATCACG.sam\r\n",
      "-rw-r--r--  1 sr320  staff   254M Oct 16 04:21 bsmap_out_2_CGATGT.sam\r\n",
      "-rw-r--r--  1 sr320  staff   253M Oct 17 05:33 bsmap_out_3_TTAGGC.sam\r\n",
      "-rw-r--r--  1 sr320  staff   253M Oct 18 08:19 bsmap_out_4_TGACCA.sam\r\n",
      "-rw-r--r--  1 sr320  staff    40M Oct 18 10:54 bsmap_out_5_ACAGTG.sam\r\n",
      "-rw-r--r--  1 sr320  staff    19M Oct 18 10:55 bsmap_out_6_GCCAAT.sam\r\n",
      "-rw-r--r--  1 sr320  staff   215M Oct 19 08:02 bsmap_out_7_CAGATC.sam\r\n",
      "-rw-r--r--  1 sr320  staff   1.5G Oct 11 08:06 bsmap_out_M2.sam\r\n",
      "-rw-r--r--  1 sr320  staff   1.6G Oct 11 08:10 bsmap_out_M3.sam\r\n"
     ]
    }
   ],
   "source": [
    "ls -lh *.sam"
   ]
  },
  {
   "cell_type": "code",
   "execution_count": 12,
   "metadata": {
    "collapsed": false
   },
   "outputs": [
    {
     "name": "stdout",
     "output_type": "stream",
     "text": [
      "  % Total    % Received % Xferd  Average Speed   Time    Time     Time  Current\n",
      "                                 Dload  Upload   Total   Spent    Left  Speed\n",
      "100  619M  100  619M    0     0  51.2M      0  0:00:12  0:00:12 --:--:-- 32.3M\n"
     ]
    }
   ],
   "source": [
    "!curl -O http://owl.fish.washington.edu/nightingales/O_lurida/4_TGACCA_L001_R1_001.fastq.gz"
   ]
  },
  {
   "cell_type": "code",
   "execution_count": null,
   "metadata": {
    "collapsed": false
   },
   "outputs": [
    {
     "name": "stdout",
     "output_type": "stream",
     "text": [
      "\n",
      "BSMAP v2.74\n",
      "Start at:  Fri Oct 14 06:51:47 2016\n",
      "\n",
      "Input reference file: /Volumes/caviar/wd/data/Ostrea_lurida.scafSeq \t(format: FASTA)\n",
      "Load in 765755 db seqs, total size 776306190 bp. 11 secs passed\n",
      "total_kmers: 43046721\n"
     ]
    }
   ],
   "source": [
    "for i in (\"1_ATCACG\",\"2_CGATGT\",\"3_TTAGGC\",\"4_TGACCA\",\"5_ACAGTG\",\"6_GCCAAT\",\"7_CAGATC\",\"8_ACTTGA\"):\n",
    "    !{bsmaploc}bsmap \\\n",
    "-a {i}_L001_R1_001.fastq.gz \\\n",
    "-d /Volumes/caviar/wd/data/Ostrea_lurida.scafSeq \\\n",
    "-o bsmap_out_{i}.sam \\\n",
    "-p 7"
   ]
  },
  {
   "cell_type": "code",
   "execution_count": 8,
   "metadata": {
    "collapsed": false
   },
   "outputs": [
    {
     "name": "stdout",
     "output_type": "stream",
     "text": [
      "^C\r\n"
     ]
    }
   ],
   "source": [
    "for i in (\"5_ACAGTG\",\"6_GCCAAT\"):\n",
    "    !{bsmaploc}bsmap \\\n",
    "-a {i}_L001_R1_001.fastq.gz \\\n",
    "-d /Volumes/caviar/wd/data/Ostrea_lurida.scafSeq \\\n",
    "-o bsmap_out_{i}.sam \\\n",
    "-p 4 \\\n",
    "2> bsmap_out_{i}.stderr"
   ]
  },
  {
   "cell_type": "code",
   "execution_count": 10,
   "metadata": {
    "collapsed": false
   },
   "outputs": [
    {
     "name": "stdout",
     "output_type": "stream",
     "text": [
      "-rw-r--r--  1 sr320  staff   208M Oct 15 02:52 bsmap_out_1_ATCACG.sam\r\n",
      "-rw-r--r--  1 sr320  staff   254M Oct 16 04:21 bsmap_out_2_CGATGT.sam\r\n",
      "-rw-r--r--  1 sr320  staff   253M Oct 17 05:33 bsmap_out_3_TTAGGC.sam\r\n",
      "-rw-r--r--  1 sr320  staff   253M Oct 18 08:19 bsmap_out_4_TGACCA.sam\r\n",
      "-rw-r--r--  1 sr320  staff   264M Oct 20 15:50 bsmap_out_5_ACAGTG.sam\r\n",
      "-rw-r--r--  1 sr320  staff   143M Oct 21 04:59 bsmap_out_6_GCCAAT.sam\r\n",
      "-rw-r--r--  1 sr320  staff   215M Oct 19 08:02 bsmap_out_7_CAGATC.sam\r\n",
      "-rw-r--r--  1 sr320  staff   1.5G Oct 11 08:06 bsmap_out_M2.sam\r\n",
      "-rw-r--r--  1 sr320  staff   1.6G Oct 11 08:10 bsmap_out_M3.sam\r\n"
     ]
    }
   ],
   "source": [
    "ls -lh *.sam"
   ]
  },
  {
   "cell_type": "code",
   "execution_count": 11,
   "metadata": {
    "collapsed": false
   },
   "outputs": [
    {
     "data": {
      "text/plain": [
       "u'/Volumes/caviar/wd/2016-10-11'"
      ]
     },
     "execution_count": 11,
     "metadata": {},
     "output_type": "execute_result"
    }
   ],
   "source": [
    "pwd"
   ]
  },
  {
   "cell_type": "code",
   "execution_count": 13,
   "metadata": {
    "collapsed": false
   },
   "outputs": [
    {
     "name": "stdout",
     "output_type": "stream",
     "text": [
      "==> bsmap_out_4_TGACCA.stderr <==\r\n",
      "Total number of aligned reads: 1259433 (11%)\r\n",
      "Done.\r\n",
      "Finished at Tue Oct 18 08:19:22 2016\r\n",
      "Total time consumed:  88248 secs\r\n",
      "\r\n",
      "==> bsmap_out_5_ACAGTG.stderr <==\r\n",
      "Total number of aligned reads: 1319007 (10%)\r\n",
      "Done.\r\n",
      "Finished at Thu Oct 20 15:50:18 2016\r\n",
      "Total time consumed:  93263 secs\r\n",
      "\r\n",
      "==> bsmap_out_6_GCCAAT.stderr <==\r\n",
      "Thread #1: \t6150000 reads finished. 46321 secs passed\r\n",
      "Thread #3: \t6200000 reads finished. 46733 secs passed\r\n",
      "Thread #0: \t6250000 reads finished. 46816 secs passed\r\n",
      "Thread #2: \t6300000 reads finished. 47352 secs passed\r\n",
      "\r\n",
      "==> bsmap_out_7_CAGATC.stderr <==\r\n",
      "Thread #1: \t9700000 reads finished. 74754 secs passed\r\n",
      "Thread #2: \t9750000 reads finished. 75174 secs passed\r\n",
      "Thread #3: \t9800000 reads finished. 75483 secs passed\r\n",
      "Thread #0: \t9850000 reads finished. 75592 secs passed\r\n"
     ]
    }
   ],
   "source": [
    "!tail -4 *.stderr"
   ]
  },
  {
   "cell_type": "code",
   "execution_count": null,
   "metadata": {
    "collapsed": true
   },
   "outputs": [],
   "source": []
  }
 ],
 "metadata": {
  "kernelspec": {
   "display_name": "Python 2",
   "language": "python",
   "name": "python2"
  },
  "language_info": {
   "codemirror_mode": {
    "name": "ipython",
    "version": 2
   },
   "file_extension": ".py",
   "mimetype": "text/x-python",
   "name": "python",
   "nbconvert_exporter": "python",
   "pygments_lexer": "ipython2",
   "version": "2.7.12"
  }
 },
 "nbformat": 4,
 "nbformat_minor": 0
}
