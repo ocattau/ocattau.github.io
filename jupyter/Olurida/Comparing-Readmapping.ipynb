{
 "cells": [
  {
   "cell_type": "markdown",
   "metadata": {
    "collapsed": false
   },
   "source": [
    "# Determining how genome _might_ influence read mapping."
   ]
  },
  {
   "cell_type": "markdown",
   "metadata": {
    "collapsed": false
   },
   "source": [
    "When we did \n",
    "```\n",
    "for i in (\"1_ATCACG\",\"2_CGATGT\",\"3_TTAGGC\",\"4_TGACCA\",\"5_ACAGTG\",\"6_GCCAAT\",\"7_CAGATC\",\"8_ACTTGA\"):\n",
    "    !{bsmaploc}bsmap \\\n",
    "-a {i}_L001_R1_001.fastq.gz \\\n",
    "-d /Volumes/caviar/wd/data/Ostrea_lurida.scafSeq \\\n",
    "-o bsmap_out_{i}.sam \\\n",
    "-p 7\n",
    "```"
   ]
  },
  {
   "cell_type": "code",
   "execution_count": 11,
   "metadata": {
    "collapsed": false
   },
   "outputs": [
    {
     "name": "stdout",
     "output_type": "stream",
     "text": [
      "/Volumes/caviar/wd/2016-10-11/bsmap_out_4_TGACCA.stderr\r\n",
      "/Volumes/caviar/wd/2016-10-11/bsmap_out_5_ACAGTG.stderr\r\n",
      "/Volumes/caviar/wd/2016-10-11/bsmap_out_6_GCCAAT.stderr\r\n",
      "/Volumes/caviar/wd/2016-10-11/bsmap_out_7_CAGATC.stderr\r\n",
      "/Volumes/caviar/wd/2016-10-11/bsmap_out_8_ACTTGA.stderr\r\n"
     ]
    }
   ],
   "source": [
    "ls /Volumes/caviar/wd/2016-10-11/*stderr"
   ]
  },
  {
   "cell_type": "code",
   "execution_count": 14,
   "metadata": {
    "collapsed": false
   },
   "outputs": [
    {
     "name": "stdout",
     "output_type": "stream",
     "text": [
      "==> /Volumes/caviar/wd/2016-10-11/bsmap_out_4_TGACCA.stderr <==\r\n",
      "Thread #3: \t11600000 reads finished. 88248 secs passed\r\n",
      "Total number of aligned reads: 1259433 (11%)\r\n",
      "Done.\r\n",
      "Finished at Tue Oct 18 08:19:22 2016\r\n",
      "Total time consumed:  88248 secs\r\n",
      "\r\n",
      "==> /Volumes/caviar/wd/2016-10-11/bsmap_out_5_ACAGTG.stderr <==\r\n",
      "Thread #1: \t12550000 reads finished. 93263 secs passed\r\n",
      "Total number of aligned reads: 1319007 (10%)\r\n",
      "Done.\r\n",
      "Finished at Thu Oct 20 15:50:18 2016\r\n",
      "Total time consumed:  93263 secs\r\n",
      "\r\n",
      "==> /Volumes/caviar/wd/2016-10-11/bsmap_out_6_GCCAAT.stderr <==\r\n",
      "Thread #1: \t12450000 reads finished. 114455 secs passed\r\n",
      "Total number of aligned reads: 1312112 (11%)\r\n",
      "Done.\r\n",
      "Finished at Sat Oct 22 02:37:53 2016\r\n",
      "Total time consumed:  114482 secs\r\n",
      "\r\n",
      "==> /Volumes/caviar/wd/2016-10-11/bsmap_out_7_CAGATC.stderr <==\r\n",
      "Thread #1: \t10250000 reads finished. 86073 secs passed\r\n",
      "Total number of aligned reads: 1105402 (11%)\r\n",
      "Done.\r\n",
      "Finished at Thu Oct 20 18:49:48 2016\r\n",
      "Total time consumed:  86080 secs\r\n",
      "\r\n",
      "==> /Volumes/caviar/wd/2016-10-11/bsmap_out_8_ACTTGA.stderr <==\r\n",
      "Thread #7: \t14350000 reads finished. 194158 secs passed\r\n",
      "Total number of aligned reads: 1503061 (10%)\r\n",
      "Done.\r\n",
      "Finished at Wed Oct 19 18:55:06 2016\r\n",
      "Total time consumed:  194172 secs\r\n"
     ]
    }
   ],
   "source": [
    "!tail -5 /Volumes/caviar/wd/2016-10-11/*stderr"
   ]
  },
  {
   "cell_type": "markdown",
   "metadata": {
    "collapsed": false
   },
   "source": [
    "## Different Genome"
   ]
  },
  {
   "cell_type": "code",
   "execution_count": 17,
   "metadata": {
    "collapsed": false,
    "scrolled": false
   },
   "outputs": [
    {
     "name": "stdout",
     "output_type": "stream",
     "text": [
      ">scaffold114 34.4\r\n"
     ]
    }
   ],
   "source": [
    "!head -1 /Users/sr320/git-repos/student-fish546-2016/data/Ostrea_lurida-Scaff-30k.fa"
   ]
  },
  {
   "cell_type": "code",
   "execution_count": 26,
   "metadata": {
    "collapsed": true
   },
   "outputs": [],
   "source": [
    "bsmaploc=\"/Applications/bioinfo/BSMAP/bsmap-2.74/\"\n"
   ]
  },
  {
   "cell_type": "code",
   "execution_count": 25,
   "metadata": {
    "collapsed": false
   },
   "outputs": [
    {
     "name": "stdout",
     "output_type": "stream",
     "text": [
      "CPU times: user 2 µs, sys: 1 µs, total: 3 µs\n",
      "Wall time: 5.01 µs\n"
     ]
    }
   ],
   "source": [
    "%time"
   ]
  },
  {
   "cell_type": "code",
   "execution_count": 28,
   "metadata": {
    "collapsed": false
   },
   "outputs": [
    {
     "name": "stdout",
     "output_type": "stream",
     "text": [
      "/Volumes/caviar/wd/2016-10-24\n"
     ]
    }
   ],
   "source": [
    "cd /Volumes/caviar/wd/2016-10-24"
   ]
  },
  {
   "cell_type": "code",
   "execution_count": 30,
   "metadata": {
    "collapsed": false
   },
   "outputs": [
    {
     "name": "stdout",
     "output_type": "stream",
     "text": [
      "CPU times: user 2 µs, sys: 0 ns, total: 2 µs\n",
      "Wall time: 5.01 µs\n"
     ]
    }
   ],
   "source": [
    "%time\n",
    "for i in (\"1_ATCACG\",\"2_CGATGT\"):\n",
    "    !{bsmaploc}bsmap \\\n",
    "-a /Volumes/caviar/wd/2016-10-11/{i}_L001_R1_001.fastq.gz \\\n",
    "-d /Users/sr320/git-repos/student-fish546-2016/data/Ostrea_lurida-Scaff-30k.fa \\\n",
    "-o bsmap_out_{i}.sam \\\n",
    "-p 6 \\\n",
    "2> bsmap_out_{i}.stderr"
   ]
  },
  {
   "cell_type": "code",
   "execution_count": 31,
   "metadata": {
    "collapsed": false
   },
   "outputs": [
    {
     "name": "stdout",
     "output_type": "stream",
     "text": [
      "==> bsmap_out_1_ATCACG.stderr <==\r\n",
      "Thread #1: \t9400000 reads finished. 24 secs passed\r\n",
      "Total number of aligned reads: 1219262 (13%)\r\n",
      "Done.\r\n",
      "Finished at Mon Oct 24 15:14:49 2016\r\n",
      "Total time consumed:  24 secs\r\n",
      "\r\n",
      "==> bsmap_out_2_CGATGT.stderr <==\r\n",
      "Thread #4: \t11950000 reads finished. 29 secs passed\r\n",
      "Total number of aligned reads: 1524518 (13%)\r\n",
      "Done.\r\n",
      "Finished at Mon Oct 24 15:15:18 2016\r\n",
      "Total time consumed:  29 secs\r\n"
     ]
    }
   ],
   "source": [
    "!tail -5 *.stderr"
   ]
  },
  {
   "cell_type": "code",
   "execution_count": null,
   "metadata": {
    "collapsed": true
   },
   "outputs": [],
   "source": [
    "/Users/sr320/git-repos/student-fish546-2016/data/Ostrea_lurida-Scaff-10k.fa"
   ]
  },
  {
   "cell_type": "code",
   "execution_count": 32,
   "metadata": {
    "collapsed": false
   },
   "outputs": [
    {
     "name": "stdout",
     "output_type": "stream",
     "text": [
      "==> 10k_bsmap_out_1_ATCACG.stderr <==\r\n",
      "Thread #3: \t9400000 reads finished. 192 secs passed\r\n",
      "Total number of aligned reads: 2189320 (23%)\r\n",
      "Done.\r\n",
      "Finished at Mon Oct 24 15:28:11 2016\r\n",
      "Total time consumed:  192 secs\r\n",
      "\r\n",
      "==> 10k_bsmap_out_2_CGATGT.stderr <==\r\n",
      "Thread #2: \t11950000 reads finished. 235 secs passed\r\n",
      "Total number of aligned reads: 2732154 (23%)\r\n",
      "Done.\r\n",
      "Finished at Mon Oct 24 15:32:06 2016\r\n",
      "Total time consumed:  235 secs\r\n",
      "\r\n",
      "==> bsmap_out_1_ATCACG.stderr <==\r\n",
      "Thread #1: \t9400000 reads finished. 24 secs passed\r\n",
      "Total number of aligned reads: 1219262 (13%)\r\n",
      "Done.\r\n",
      "Finished at Mon Oct 24 15:14:49 2016\r\n",
      "Total time consumed:  24 secs\r\n",
      "\r\n",
      "==> bsmap_out_2_CGATGT.stderr <==\r\n",
      "Thread #4: \t11950000 reads finished. 29 secs passed\r\n",
      "Total number of aligned reads: 1524518 (13%)\r\n",
      "Done.\r\n",
      "Finished at Mon Oct 24 15:15:18 2016\r\n",
      "Total time consumed:  29 secs\r\n"
     ]
    }
   ],
   "source": [
    "for i in (\"1_ATCACG\",\"2_CGATGT\"):\n",
    "    !{bsmaploc}bsmap \\\n",
    "-a /Volumes/caviar/wd/2016-10-11/{i}_L001_R1_001.fastq.gz \\\n",
    "-d /Users/sr320/git-repos/student-fish546-2016/data/Ostrea_lurida-Scaff-10k.fa \\\n",
    "-o 10k_bsmap_out_{i}.sam \\\n",
    "-p 6 \\\n",
    "2> 10k_bsmap_out_{i}.stderr\n",
    "\n",
    "!tail -5 *.stderr"
   ]
  },
  {
   "cell_type": "code",
   "execution_count": 33,
   "metadata": {
    "collapsed": false
   },
   "outputs": [
    {
     "name": "stdout",
     "output_type": "stream",
     "text": [
      "/bin/sh: line 1: 76994 Abort trap: 6           /Applications/bioinfo/BSMAP/bsmap-2.74/bsmap -a /Volumes/caviar/wd/2016-10-11/2_CGATGT_L001_R1_001.fastq.gz -d /Users/sr320/git-repos/student-fish546-2016/data/Ostrea_lurida-Scaff-5k.fa -o 5k_bsmap_out_2_CGATGT.sam -p 6 2> 5k_bsmap_out_2_CGATGT.stderr\n",
      "==> 10k_bsmap_out_1_ATCACG.stderr <==\n",
      "Thread #3: \t9400000 reads finished. 192 secs passed\n",
      "Total number of aligned reads: 2189320 (23%)\n",
      "Done.\n",
      "Finished at Mon Oct 24 15:28:11 2016\n",
      "Total time consumed:  192 secs\n",
      "\n",
      "==> 10k_bsmap_out_2_CGATGT.stderr <==\n",
      "Thread #2: \t11950000 reads finished. 235 secs passed\n",
      "Total number of aligned reads: 2732154 (23%)\n",
      "Done.\n",
      "Finished at Mon Oct 24 15:32:06 2016\n",
      "Total time consumed:  235 secs\n",
      "\n",
      "==> 5k_bsmap_out_1_ATCACG.stderr <==\n",
      "Thread #5: \t9400000 reads finished. 2576 secs passed\n",
      "Total number of aligned reads: 961476 (10%)\n",
      "Done.\n",
      "Finished at Mon Oct 24 16:15:03 2016\n",
      "Total time consumed:  2577 secs\n",
      "\n",
      "==> 5k_bsmap_out_2_CGATGT.stderr <==\n",
      "Thread #2: \t250000 reads finished. 91 secs passed\n",
      "Thread #0: \t100000 reads finished. 91 secs passed\n",
      "Thread #4: \t350000 reads finished. 168 secs passed\n",
      "Thread #1: \t400000 reads finished. 169 secs passed\n",
      "libc++abi.dylib: terminating with uncaught exception of type std::out_of_range: basic_string::erase\n",
      "\n",
      "==> bsmap_out_1_ATCACG.stderr <==\n",
      "Thread #1: \t9400000 reads finished. 24 secs passed\n",
      "Total number of aligned reads: 1219262 (13%)\n",
      "Done.\n",
      "Finished at Mon Oct 24 15:14:49 2016\n",
      "Total time consumed:  24 secs\n",
      "\n",
      "==> bsmap_out_2_CGATGT.stderr <==\n",
      "Thread #4: \t11950000 reads finished. 29 secs passed\n",
      "Total number of aligned reads: 1524518 (13%)\n",
      "Done.\n",
      "Finished at Mon Oct 24 15:15:18 2016\n",
      "Total time consumed:  29 secs\n"
     ]
    }
   ],
   "source": [
    "for i in (\"1_ATCACG\",\"2_CGATGT\"):\n",
    "    !{bsmaploc}bsmap \\\n",
    "-a /Volumes/caviar/wd/2016-10-11/{i}_L001_R1_001.fastq.gz \\\n",
    "-d /Users/sr320/git-repos/student-fish546-2016/data/Ostrea_lurida-Scaff-5k.fa \\\n",
    "-o 5k_bsmap_out_{i}.sam \\\n",
    "-p 6 \\\n",
    "2> 5k_bsmap_out_{i}.stderr\n",
    "\n",
    "!tail -5 *.stderr"
   ]
  },
  {
   "cell_type": "code",
   "execution_count": null,
   "metadata": {
    "collapsed": true
   },
   "outputs": [],
   "source": []
  }
 ],
 "metadata": {
  "kernelspec": {
   "display_name": "Python [default]",
   "language": "python",
   "name": "python2"
  },
  "language_info": {
   "codemirror_mode": {
    "name": "ipython",
    "version": 2
   },
   "file_extension": ".py",
   "mimetype": "text/x-python",
   "name": "python",
   "nbconvert_exporter": "python",
   "pygments_lexer": "ipython2",
   "version": "2.7.12"
  }
 },
 "nbformat": 4,
 "nbformat_minor": 0
}
