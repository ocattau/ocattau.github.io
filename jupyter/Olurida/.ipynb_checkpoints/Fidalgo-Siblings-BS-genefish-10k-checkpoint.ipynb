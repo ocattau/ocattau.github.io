{
 "cells": [
  {
   "cell_type": "markdown",
   "metadata": {},
   "source": [
    "# Running BSMAP with different version of Genome\n",
    "10k cuttoff"
   ]
  },
  {
   "cell_type": "code",
   "execution_count": 4,
   "metadata": {
    "collapsed": false
   },
   "outputs": [
    {
     "name": "stdout",
     "output_type": "stream",
     "text": [
      "Sat Oct 29 16:56:40 PDT 2016\n",
      "Software:\n",
      "\n",
      "    System Software Overview:\n",
      "\n",
      "      System Version: macOS 10.12 (16A323)\n",
      "      Kernel Version: Darwin 16.0.0\n",
      "      Boot Volume: Macintosh HD\n",
      "      Boot Mode: Normal\n",
      "      Computer Name: genefish\n",
      "      User Name: Steven Roberts (Steven)\n",
      "      Secure Virtual Memory: Enabled\n",
      "      System Integrity Protection: Enabled\n",
      "      Time since boot: 12 days 4:04\n",
      "\n"
     ]
    }
   ],
   "source": [
    "%%bash\n",
    "date\n",
    "system_profiler SPSoftwareDataType"
   ]
  },
  {
   "cell_type": "markdown",
   "metadata": {},
   "source": [
    "<img src=\"http://eagle.fish.washington.edu/cnidarian/skitch/Whole_genome_BSseq_December_2015_·_RobertsLab_project-olympia_oyster-genomic_Wiki_1DAD4A4D.png\" alt=\"Whole_genome_BSseq_December_2015_·_RobertsLab_project-olympia_oyster-genomic_Wiki_1DAD4A4D.png\" width=50%/>"
   ]
  },
  {
   "cell_type": "code",
   "execution_count": 5,
   "metadata": {
    "collapsed": true
   },
   "outputs": [],
   "source": [
    "bsmaploc=\"/Users/Shared/Apps/bsmap-2.74/\"\n"
   ]
  },
  {
   "cell_type": "code",
   "execution_count": 8,
   "metadata": {
    "collapsed": false
   },
   "outputs": [
    {
     "name": "stdout",
     "output_type": "stream",
     "text": [
      "/Volumes/web/halfshell/working-directory\n"
     ]
    }
   ],
   "source": [
    "cd /Volumes/web/halfshell/working-directory/"
   ]
  },
  {
   "cell_type": "code",
   "execution_count": 9,
   "metadata": {
    "collapsed": false
   },
   "outputs": [
    {
     "name": "stdout",
     "output_type": "stream",
     "text": [
      "total 0\r\n",
      "drwxrwxrwx  1 Steven  staff   1.7K Jan 27  2016 \u001b[30m\u001b[43m16-01-271\u001b[m\u001b[m\r\n",
      "drwxrwxrwx  1 Steven  staff   1.7K Jan 27  2016 \u001b[30m\u001b[43m16-01-27b\u001b[m\u001b[m\r\n",
      "drwxrwxrwx  1 Steven  staff   264B Apr  1  2016 \u001b[30m\u001b[43m16-04-01\u001b[m\u001b[m\r\n",
      "drwxrwxrwx  1 Steven  staff   264B Apr  4  2016 \u001b[30m\u001b[43m16-04-01c\u001b[m\u001b[m\r\n",
      "drwxrwxrwx  1 Steven  staff   264B Apr  4  2016 \u001b[30m\u001b[43m16-04-04\u001b[m\u001b[m\r\n",
      "drwxrwxrwx  1 Steven  staff   264B Apr  4  2016 \u001b[30m\u001b[43m16-04-04b\u001b[m\u001b[m\r\n",
      "drwxrwxrwx  1 Steven  staff   1.4K Apr  5  2016 \u001b[30m\u001b[43m16-04-04c\u001b[m\u001b[m\r\n",
      "drwxrwxrwx  1 Steven  staff   264B Apr  4  2016 \u001b[30m\u001b[43m16-04-04d\u001b[m\u001b[m\r\n",
      "drwxrwxrwx  1 Steven  staff   1.1K Apr  5  2016 \u001b[30m\u001b[43m16-04-05\u001b[m\u001b[m\r\n",
      "drwxrwxrwx  1 Steven  staff   3.0K Apr 12  2016 \u001b[30m\u001b[43m16-04-11\u001b[m\u001b[m\r\n",
      "drwxrwxrwx  1 Steven  staff   264B Apr 11  2016 \u001b[30m\u001b[43m16-04-11-hum-a\u001b[m\u001b[m\r\n",
      "drwxrwxrwx  1 Steven  staff   3.0K Apr 13  2016 \u001b[30m\u001b[43m16-04-12\u001b[m\u001b[m\r\n",
      "drwxrwxrwx  1 Steven  staff   2.4K Apr 14  2016 \u001b[30m\u001b[43m16-04-13\u001b[m\u001b[m\r\n",
      "drwxrwxrwx  1 Steven  staff   264B Apr 13  2016 \u001b[30m\u001b[43m16-04-13b\u001b[m\u001b[m\r\n",
      "drwxrwxrwx  1 Steven  staff   6.5K Apr 15  2016 \u001b[30m\u001b[43m16-04-15\u001b[m\u001b[m\r\n",
      "drwxrwxrwx  1 Steven  staff   466B Apr 17  2016 \u001b[30m\u001b[43m16-04-15b\u001b[m\u001b[m\r\n",
      "drwxrwxrwx  1 Steven  staff   264B Apr 15  2016 \u001b[30m\u001b[43m16-04-15c\u001b[m\u001b[m\r\n",
      "drwxrwxrwx  1 Steven  staff   264B Apr 18  2016 \u001b[30m\u001b[43m16-04-17\u001b[m\u001b[m\r\n",
      "drwxrwxrwx  1 Steven  staff   670B May 13 07:41 \u001b[30m\u001b[43m16-05-05\u001b[m\u001b[m\r\n",
      "drwxrwxrwx  1 Steven  staff   264B May 12 15:43 \u001b[30m\u001b[43m16-05-12\u001b[m\u001b[m\r\n",
      "drwxrwxrwx  1 Steven  staff   432B May 13 13:02 \u001b[30m\u001b[43m16-05-13\u001b[m\u001b[m\r\n",
      "drwxrwxrwx  1 Steven  staff   466B May 25 10:43 \u001b[30m\u001b[43m16-05-17\u001b[m\u001b[m\r\n",
      "drwxrwxrwx  1 Steven  staff   264B May 17 08:47 \u001b[30m\u001b[43m16-05-17b\u001b[m\u001b[m\r\n",
      "drwxrwxrwx  1 Steven  staff   264B May 17 09:19 \u001b[30m\u001b[43m16-05-17c\u001b[m\u001b[m\r\n",
      "drwxrwxrwx  1 Steven  staff   432B May 30 14:29 \u001b[30m\u001b[43m16-05-27\u001b[m\u001b[m\r\n",
      "drwxrwxrwx  1 Steven  staff   364B Sep 19 09:53 \u001b[30m\u001b[43m16-09-19\u001b[m\u001b[m\r\n",
      "drwxrwxrwx  1 Steven  staff   568B Oct 22 02:44 \u001b[30m\u001b[43m16-10-17\u001b[m\u001b[m\r\n",
      "drwxrwxrwx  1 Steven  staff   264B Oct 19 07:50 \u001b[30m\u001b[43m16-10-19\u001b[m\u001b[m\r\n",
      "drwxrwxrwx  1 Steven  staff   264B Oct 24 16:05 \u001b[30m\u001b[43m16-10-24\u001b[m\u001b[m\r\n",
      "drwxrwxrwx  1 Steven  staff   772B Oct 25 07:32 \u001b[30m\u001b[43m16-10-25\u001b[m\u001b[m\r\n",
      "drwxrwxrwx  1 Steven  staff   1.8K Jan 27  2016 \u001b[30m\u001b[43m16-27-01\u001b[m\u001b[m\r\n",
      "drwxrwxrwx  1 Steven  staff   264B Jan 27  2016 \u001b[30m\u001b[43mscripts\u001b[m\u001b[m\r\n"
     ]
    }
   ],
   "source": [
    "!ls -lh "
   ]
  },
  {
   "cell_type": "code",
   "execution_count": 10,
   "metadata": {
    "collapsed": true
   },
   "outputs": [],
   "source": [
    "mkdir 16-10-29"
   ]
  },
  {
   "cell_type": "code",
   "execution_count": 11,
   "metadata": {
    "collapsed": false
   },
   "outputs": [
    {
     "name": "stdout",
     "output_type": "stream",
     "text": [
      "/Volumes/web/halfshell/working-directory/16-10-29\n"
     ]
    }
   ],
   "source": [
    "cd 16-10-29"
   ]
  },
  {
   "cell_type": "markdown",
   "metadata": {
    "collapsed": true
   },
   "source": [
    "<img src=\"http://eagle.fish.washington.edu/cnidarian/skitch/Whole_genome_BSseq_December_2015_·_RobertsLab_project-olympia_oyster-genomic_Wiki_1DAD4D68.png\" alt=\"Whole_genome_BSseq_December_2015_·_RobertsLab_project-olympia_oyster-genomic_Wiki_1DAD4D68.png\"/>\n"
   ]
  },
  {
   "cell_type": "code",
   "execution_count": 3,
   "metadata": {
    "collapsed": true
   },
   "outputs": [],
   "source": [
    "# Genome"
   ]
  },
  {
   "cell_type": "code",
   "execution_count": 3,
   "metadata": {
    "collapsed": false
   },
   "outputs": [
    {
     "name": "stdout",
     "output_type": "stream",
     "text": [
      "/Volumes/caviar/wd/data\n"
     ]
    }
   ],
   "source": [
    "cd ../data"
   ]
  },
  {
   "cell_type": "code",
   "execution_count": 12,
   "metadata": {
    "collapsed": false
   },
   "outputs": [
    {
     "name": "stdout",
     "output_type": "stream",
     "text": [
      "  % Total    % Received % Xferd  Average Speed   Time    Time     Time  Current\n",
      "                                 Dload  Upload   Total   Spent    Left  Speed\n",
      "100  125M  100  125M    0     0  11.1M      0  0:00:11  0:00:11 --:--:-- 12.8M\n"
     ]
    }
   ],
   "source": [
    "!curl -O http://owl.fish.washington.edu/halfshell/working-directory/16-10-24/Ostrea_lurida-Scaff-10k.fa"
   ]
  },
  {
   "cell_type": "code",
   "execution_count": 13,
   "metadata": {
    "collapsed": false
   },
   "outputs": [
    {
     "name": "stdout",
     "output_type": "stream",
     "text": [
      "Ostrea_lurida-Scaff-10k.fa\r\n"
     ]
    }
   ],
   "source": [
    "!ls"
   ]
  },
  {
   "cell_type": "code",
   "execution_count": 19,
   "metadata": {
    "collapsed": false
   },
   "outputs": [
    {
     "name": "stdout",
     "output_type": "stream",
     "text": [
      "  % Total    % Received % Xferd  Average Speed   Time    Time     Time  Current\n",
      "                                 Dload  Upload   Total   Spent    Left  Speed\n",
      "100  619M  100  619M    0     0  4372k      0  0:02:25  0:02:25 --:--:--  9.8M\n"
     ]
    }
   ],
   "source": [
    "!curl -O http://owl.fish.washington.edu/nightingales/O_lurida/4_TGACCA_L001_R1_001.fastq.gz"
   ]
  },
  {
   "cell_type": "code",
   "execution_count": 23,
   "metadata": {
    "collapsed": true
   },
   "outputs": [],
   "source": [
    "!mv 4_TGACCA_L001_R1_001.fastq.gz ../16-10-17/4_TGACCA_L001_R1_001.fastq.gz"
   ]
  },
  {
   "cell_type": "code",
   "execution_count": 25,
   "metadata": {
    "collapsed": false
   },
   "outputs": [
    {
     "name": "stdout",
     "output_type": "stream",
     "text": [
      "../16-10-17/1_ATCACG_L001_R1_001.fastq.gz\r\n",
      "../16-10-17/2_CGATGT_L001_R1_001.fastq.gz\r\n",
      "../16-10-17/3_TTAGGC_L001_R1_001.fastq.gz\r\n",
      "../16-10-17/4_TGACCA_L001_R1_001.fastq.gz\r\n",
      "../16-10-17/5_ACAGTG_L001_R1_001.fastq.gz\r\n",
      "../16-10-17/6_GCCAAT_L001_R1_001.fastq.gz\r\n",
      "../16-10-17/7_CAGATC_L001_R1_001.fastq.gz\r\n",
      "../16-10-17/8_ACTTGA_L001_R1_001.fastq.gz\r\n"
     ]
    }
   ],
   "source": [
    "!ls ../16-10-17/*gz\n"
   ]
  },
  {
   "cell_type": "code",
   "execution_count": 26,
   "metadata": {
    "collapsed": false
   },
   "outputs": [
    {
     "data": {
      "text/plain": [
       "u'/Volumes/web/halfshell/working-directory/16-10-29'"
      ]
     },
     "execution_count": 26,
     "metadata": {},
     "output_type": "execute_result"
    }
   ],
   "source": [
    "pwd"
   ]
  },
  {
   "cell_type": "code",
   "execution_count": null,
   "metadata": {
    "collapsed": true
   },
   "outputs": [],
   "source": [
    "for i in (\"1_ATCACG\",\"2_CGATGT\",\"3_TTAGGC\",\"5_ACAGTG\",\"4_TGACCA\", \"6_GCCAAT\", \"7_CAGATC\", \"8_ACTTGA\"):\n",
    "    !{bsmaploc}bsmap \\\n",
    "-a ../16-10-17/{i}_L001_R1_001.fastq.gz \\\n",
    "-d Ostrea_lurida-Scaff-10k.fa \\\n",
    "-o bsmap_out_{i}.sam \\\n",
    "-p 8 \\\n",
    "2> bsmap_out_{i}.stderr"
   ]
  },
  {
   "cell_type": "code",
   "execution_count": null,
   "metadata": {
    "collapsed": true
   },
   "outputs": [],
   "source": [
    "!date"
   ]
  },
  {
   "cell_type": "code",
   "execution_count": null,
   "metadata": {
    "collapsed": true
   },
   "outputs": [],
   "source": [
    "!ls bsmap"
   ]
  },
  {
   "cell_type": "code",
   "execution_count": null,
   "metadata": {
    "collapsed": true
   },
   "outputs": [],
   "source": [
    "!tail *err"
   ]
  },
  {
   "cell_type": "code",
   "execution_count": null,
   "metadata": {
    "collapsed": true
   },
   "outputs": [],
   "source": []
  }
 ],
 "metadata": {
  "anaconda-cloud": {},
  "kernelspec": {
   "display_name": "Python [default]",
   "language": "python",
   "name": "python2"
  },
  "language_info": {
   "codemirror_mode": {
    "name": "ipython",
    "version": 2
   },
   "file_extension": ".py",
   "mimetype": "text/x-python",
   "name": "python",
   "nbconvert_exporter": "python",
   "pygments_lexer": "ipython2",
   "version": "2.7.12"
  }
 },
 "nbformat": 4,
 "nbformat_minor": 0
}
