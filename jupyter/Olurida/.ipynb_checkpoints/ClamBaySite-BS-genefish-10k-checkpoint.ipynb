{
 "cells": [
  {
   "cell_type": "markdown",
   "metadata": {},
   "source": [
    "# Running BSMAP \n",
    "10k cuttoff"
   ]
  },
  {
   "cell_type": "markdown",
   "metadata": {},
   "source": [
    "\n",
    "| Sample  | Weight (grams in shell)| Length (mm) | Raw 2bRAD reads |\n",
    "|---------|------------------------|-------------|-----------------|\n",
    "| hc1_2B  | 2.2                    |  17.41      | 1521\n",
    "| hc1_4B  | 1.9                    |  20.43           | 2294290\n",
    "| hc2_15B | 2.2                    |  25.33      | 2498\n",
    "| hc2_17  | 1.1                    |  19.38      | (seq 4x)best = 2964986\n",
    "| hc3_1   | 2.2                    |  26.79        | 1863108\n",
    "| hc3_5   | 1.9                    |  19.5       | 1915\n",
    "| hc3_7   | 1.4                    | 18.43            | 2438612\n",
    "| hc3_10  | 1.2                    |  19.80           | 4091281\n",
    "| hc3_11  | 2.1                    |   20.54          | 2901608\n",
    "| ss2_9B  | 1.5                    | 17.2        | 749\n",
    "| ss2_14B | 2.2                    | 21.02       | 29745\n",
    "| ss2_18B | 5.3                    | 35.76       | 3016\n",
    "| ss3_3B  | 2.1                    | 22.71       | 2076769\n",
    "| ss3_14B | 2.4                    | 24.71       | 2661152\n",
    "| ss3_15B | 2.6                    | 26.78       | 2816364\n",
    "| ss3_16B | 4.2                    | 39.57       | 2070520\n",
    "| ss3_20  | 2.3                    | 26.96       | 1656456\n",
    "| ss5_18  | 5.4                    | 27.34       | 2358172\n",
    "\n"
   ]
  },
  {
   "cell_type": "code",
   "execution_count": 1,
   "metadata": {
    "collapsed": false
   },
   "outputs": [
    {
     "name": "stdout",
     "output_type": "stream",
     "text": [
      "Wed Nov 23 13:08:33 PST 2016\n",
      "Software:\n",
      "\n",
      "    System Software Overview:\n",
      "\n",
      "      System Version: macOS 10.12 (16A323)\n",
      "      Kernel Version: Darwin 16.0.0\n",
      "      Boot Volume: Macintosh HD\n",
      "      Boot Mode: Normal\n",
      "      Computer Name: genefish\n",
      "      User Name: Steven Roberts (Steven)\n",
      "      Secure Virtual Memory: Enabled\n",
      "      System Integrity Protection: Enabled\n",
      "      Time since boot: 37 days 1:16\n",
      "\n"
     ]
    }
   ],
   "source": [
    "%%bash\n",
    "date\n",
    "system_profiler SPSoftwareDataType"
   ]
  },
  {
   "cell_type": "code",
   "execution_count": 2,
   "metadata": {
    "collapsed": true
   },
   "outputs": [],
   "source": [
    "bsmaploc=\"/Users/Shared/Apps/bsmap-2.74/\"\n"
   ]
  },
  {
   "cell_type": "code",
   "execution_count": 4,
   "metadata": {
    "collapsed": false
   },
   "outputs": [
    {
     "name": "stdout",
     "output_type": "stream",
     "text": [
      "/Volumes/web/halfshell/working-directory\n"
     ]
    }
   ],
   "source": [
    "cd /Volumes/web/halfshell/working-directory/"
   ]
  },
  {
   "cell_type": "code",
   "execution_count": 5,
   "metadata": {
    "collapsed": false
   },
   "outputs": [
    {
     "name": "stdout",
     "output_type": "stream",
     "text": [
      "total 0\r\n",
      "drwxrwxrwx  1 Steven  staff   1.7K Jan 27  2016 \u001b[30m\u001b[43m16-01-271\u001b[m\u001b[m\r\n",
      "drwxrwxrwx  1 Steven  staff   1.7K Jan 27  2016 \u001b[30m\u001b[43m16-01-27b\u001b[m\u001b[m\r\n",
      "drwxrwxrwx  1 Steven  staff   264B Apr  1  2016 \u001b[30m\u001b[43m16-04-01\u001b[m\u001b[m\r\n",
      "drwxrwxrwx  1 Steven  staff   264B Apr  4  2016 \u001b[30m\u001b[43m16-04-01c\u001b[m\u001b[m\r\n",
      "drwxrwxrwx  1 Steven  staff   264B Apr  4  2016 \u001b[30m\u001b[43m16-04-04\u001b[m\u001b[m\r\n",
      "drwxrwxrwx  1 Steven  staff   264B Apr  4  2016 \u001b[30m\u001b[43m16-04-04b\u001b[m\u001b[m\r\n",
      "drwxrwxrwx  1 Steven  staff   1.4K Apr  5  2016 \u001b[30m\u001b[43m16-04-04c\u001b[m\u001b[m\r\n",
      "drwxrwxrwx  1 Steven  staff   264B Apr  4  2016 \u001b[30m\u001b[43m16-04-04d\u001b[m\u001b[m\r\n",
      "drwxrwxrwx  1 Steven  staff   1.1K Apr  5  2016 \u001b[30m\u001b[43m16-04-05\u001b[m\u001b[m\r\n",
      "drwxrwxrwx  1 Steven  staff   3.0K Apr 12  2016 \u001b[30m\u001b[43m16-04-11\u001b[m\u001b[m\r\n",
      "drwxrwxrwx  1 Steven  staff   264B Apr 11  2016 \u001b[30m\u001b[43m16-04-11-hum-a\u001b[m\u001b[m\r\n",
      "drwxrwxrwx  1 Steven  staff   3.0K Apr 13  2016 \u001b[30m\u001b[43m16-04-12\u001b[m\u001b[m\r\n",
      "drwxrwxrwx  1 Steven  staff   2.4K Apr 14  2016 \u001b[30m\u001b[43m16-04-13\u001b[m\u001b[m\r\n",
      "drwxrwxrwx  1 Steven  staff   264B Apr 13  2016 \u001b[30m\u001b[43m16-04-13b\u001b[m\u001b[m\r\n",
      "drwxrwxrwx  1 Steven  staff   6.5K Apr 15  2016 \u001b[30m\u001b[43m16-04-15\u001b[m\u001b[m\r\n",
      "drwxrwxrwx  1 Steven  staff   466B Apr 17  2016 \u001b[30m\u001b[43m16-04-15b\u001b[m\u001b[m\r\n",
      "drwxrwxrwx  1 Steven  staff   264B Apr 15  2016 \u001b[30m\u001b[43m16-04-15c\u001b[m\u001b[m\r\n",
      "drwxrwxrwx  1 Steven  staff   264B Apr 18  2016 \u001b[30m\u001b[43m16-04-17\u001b[m\u001b[m\r\n",
      "drwxrwxrwx  1 Steven  staff   670B May 13  2016 \u001b[30m\u001b[43m16-05-05\u001b[m\u001b[m\r\n",
      "drwxrwxrwx  1 Steven  staff   264B May 12  2016 \u001b[30m\u001b[43m16-05-12\u001b[m\u001b[m\r\n",
      "drwxrwxrwx  1 Steven  staff   432B May 13  2016 \u001b[30m\u001b[43m16-05-13\u001b[m\u001b[m\r\n",
      "drwxrwxrwx  1 Steven  staff   466B May 25  2016 \u001b[30m\u001b[43m16-05-17\u001b[m\u001b[m\r\n",
      "drwxrwxrwx  1 Steven  staff   264B May 17  2016 \u001b[30m\u001b[43m16-05-17b\u001b[m\u001b[m\r\n",
      "drwxrwxrwx  1 Steven  staff   264B May 17  2016 \u001b[30m\u001b[43m16-05-17c\u001b[m\u001b[m\r\n",
      "drwxrwxrwx  1 Steven  staff   432B May 30 14:29 \u001b[30m\u001b[43m16-05-27\u001b[m\u001b[m\r\n",
      "drwxrwxrwx  1 Steven  staff   364B Sep 19 09:53 \u001b[30m\u001b[43m16-09-19\u001b[m\u001b[m\r\n",
      "drwxrwxrwx  1 Steven  staff   602B Oct 29 18:15 \u001b[30m\u001b[43m16-10-17\u001b[m\u001b[m\r\n",
      "drwxrwxrwx  1 Steven  staff   264B Oct 19 07:50 \u001b[30m\u001b[43m16-10-19\u001b[m\u001b[m\r\n",
      "drwxrwxrwx  1 Steven  staff   264B Oct 24 16:05 \u001b[30m\u001b[43m16-10-24\u001b[m\u001b[m\r\n",
      "drwxrwxrwx  1 Steven  staff   772B Oct 25 07:32 \u001b[30m\u001b[43m16-10-25\u001b[m\u001b[m\r\n",
      "drwxrwxrwx  1 Steven  staff   1.1K Oct 29 19:02 \u001b[30m\u001b[43m16-10-29\u001b[m\u001b[m\r\n",
      "drwxrwxrwx  1 Steven  staff   1.8K Jan 27  2016 \u001b[30m\u001b[43m16-27-01\u001b[m\u001b[m\r\n",
      "drwxrwxrwx  1 Steven  staff   264B Jan 27  2016 \u001b[30m\u001b[43mscripts\u001b[m\u001b[m\r\n"
     ]
    }
   ],
   "source": [
    "!ls -lh "
   ]
  },
  {
   "cell_type": "code",
   "execution_count": 6,
   "metadata": {
    "collapsed": true
   },
   "outputs": [],
   "source": [
    "mkdir 16-11-23"
   ]
  },
  {
   "cell_type": "code",
   "execution_count": 7,
   "metadata": {
    "collapsed": false
   },
   "outputs": [
    {
     "name": "stdout",
     "output_type": "stream",
     "text": [
      "/Volumes/web/halfshell/working-directory/16-11-23\n"
     ]
    }
   ],
   "source": [
    "cd 16-11-23"
   ]
  },
  {
   "cell_type": "code",
   "execution_count": 8,
   "metadata": {
    "collapsed": false
   },
   "outputs": [
    {
     "name": "stdout",
     "output_type": "stream",
     "text": [
      "/Volumes/web/nightingales/O_lurida/20160203_mbdseq/zr1394_10_s456.fastq.gz\r\n",
      "/Volumes/web/nightingales/O_lurida/20160203_mbdseq/zr1394_11_s456.fastq.gz\r\n",
      "/Volumes/web/nightingales/O_lurida/20160203_mbdseq/zr1394_12_s456.fastq.gz\r\n",
      "/Volumes/web/nightingales/O_lurida/20160203_mbdseq/zr1394_13_s456.fastq.gz\r\n",
      "/Volumes/web/nightingales/O_lurida/20160203_mbdseq/zr1394_14_s456.fastq.gz\r\n",
      "/Volumes/web/nightingales/O_lurida/20160203_mbdseq/zr1394_15_s456.fastq.gz\r\n",
      "/Volumes/web/nightingales/O_lurida/20160203_mbdseq/zr1394_16_s456.fastq.gz\r\n",
      "/Volumes/web/nightingales/O_lurida/20160203_mbdseq/zr1394_17_s456.fastq.gz\r\n",
      "/Volumes/web/nightingales/O_lurida/20160203_mbdseq/zr1394_18_s456.fastq.gz\r\n",
      "/Volumes/web/nightingales/O_lurida/20160203_mbdseq/zr1394_1_s456.fastq.gz\r\n",
      "/Volumes/web/nightingales/O_lurida/20160203_mbdseq/zr1394_2_s456.fastq.gz\r\n",
      "/Volumes/web/nightingales/O_lurida/20160203_mbdseq/zr1394_3_s456.fastq.gz\r\n",
      "/Volumes/web/nightingales/O_lurida/20160203_mbdseq/zr1394_4_s456.fastq.gz\r\n",
      "/Volumes/web/nightingales/O_lurida/20160203_mbdseq/zr1394_5_s456.fastq.gz\r\n",
      "/Volumes/web/nightingales/O_lurida/20160203_mbdseq/zr1394_6_s456.fastq.gz\r\n",
      "/Volumes/web/nightingales/O_lurida/20160203_mbdseq/zr1394_7_s456.fastq.gz\r\n",
      "/Volumes/web/nightingales/O_lurida/20160203_mbdseq/zr1394_8_s456.fastq.gz\r\n",
      "/Volumes/web/nightingales/O_lurida/20160203_mbdseq/zr1394_9_s456.fastq.gz\r\n"
     ]
    }
   ],
   "source": [
    "!ls /Volumes/web/nightingales/O_lurida/20160203_mbdseq/*s456.fastq.gz"
   ]
  },
  {
   "cell_type": "code",
   "execution_count": 10,
   "metadata": {
    "collapsed": false
   },
   "outputs": [],
   "source": [
    "!cp /Volumes/web/nightingales/O_lurida/20160203_mbdseq/*s456.fastq.gz /Users/Shared/data/Oly_clambay"
   ]
  },
  {
   "cell_type": "code",
   "execution_count": null,
   "metadata": {
    "collapsed": false
   },
   "outputs": [],
   "source": [
    "pwd"
   ]
  },
  {
   "cell_type": "code",
   "execution_count": 12,
   "metadata": {
    "collapsed": true
   },
   "outputs": [],
   "source": [
    "!cp /Users/Steven/Documents/git-repos/student-fish546-2016/data/Ostrea_lurida-Scaff-10k.fa /Users/Shared/data/Oly_clambay"
   ]
  },
  {
   "cell_type": "code",
   "execution_count": null,
   "metadata": {
    "collapsed": false
   },
   "outputs": [],
   "source": [
    "for i in (\"1\",\"2\",\"3\", \"4\", \"5\", \"6\", \"7\", \"8\",\"9\", \"10\", \"11\",\"12\",\"13\", \"14\", \"15\", \"16\", \"17\", \"18\"):\n",
    "    !{bsmaploc}bsmap \\\n",
    "-a /Users/Shared/data/Oly_clambay/zr1394_{i}_s456.fastq.gz \\\n",
    "-d /Users/Shared/data/Oly_clambay/Ostrea_lurida-Scaff-10k.fa \\\n",
    "-o bsmap_out_{i}.sam \\\n",
    "-p 8 \\\n",
    "2> bsmap_out_{i}.stderr\n"
   ]
  },
  {
   "cell_type": "code",
   "execution_count": 28,
   "metadata": {
    "collapsed": false
   },
   "outputs": [
    {
     "name": "stdout",
     "output_type": "stream",
     "text": [
      "Sat Oct 29 18:04:27 PDT 2016\r\n"
     ]
    }
   ],
   "source": [
    "!date"
   ]
  },
  {
   "cell_type": "code",
   "execution_count": 30,
   "metadata": {
    "collapsed": false
   },
   "outputs": [
    {
     "name": "stdout",
     "output_type": "stream",
     "text": [
      "==> bsmap_out_1_ATCACG.stderr <==\n",
      "Input read file: ../16-10-17/1_ATCACG_L001_R1_001.fastq.gz \t(format: gzipped FASTQ)\n",
      "Output file: bsmap_out_1_ATCACG.sam\t (format: SAM)\n",
      "Thread #1: \t171696 reads finished. 11 secs passed\n",
      "Thread #0: \t50000 reads finished. 13 secs passed\n",
      "Thread #4: \t100000 reads finished. 13 secs passed\n",
      "Thread #5: \t150000 reads finished. 13 secs passed\n",
      "Total number of aligned reads: 41116 (24%)\n",
      "Done.\n",
      "Finished at Sat Oct 29 17:16:55 2016\n",
      "Total time consumed:  14 secs\n",
      "\n",
      "==> bsmap_out_2_CGATGT.stderr <==\n",
      "Thread #4: \t11750000 reads finished. 385 secs passed\n",
      "Thread #7: \t11800000 reads finished. 385 secs passed\n",
      "Thread #5: \t11850000 reads finished. 385 secs passed\n",
      "Thread #3: \t11900000 reads finished. 385 secs passed\n",
      "Thread #6: \t11954873 reads finished. 385 secs passed\n",
      "Thread #1: \t11950000 reads finished. 389 secs passed\n",
      "Total number of aligned reads: 2731891 (23%)\n",
      "Done.\n",
      "Finished at Sat Oct 29 17:23:25 2016\n",
      "Total time consumed:  390 secs\n",
      "\n",
      "==> bsmap_out_3_TTAGGC.stderr <==\n",
      "Thread #7: \t11600000 reads finished. 372 secs passed\n",
      "Thread #2: \t11650000 reads finished. 372 secs passed\n",
      "Thread #1: \t11700000 reads finished. 372 secs passed\n",
      "Thread #5: \t11817358 reads finished. 373 secs passed\n",
      "Thread #0: \t11750000 reads finished. 373 secs passed\n",
      "Thread #3: \t11800000 reads finished. 374 secs passed\n",
      "Total number of aligned reads: 2681600 (23%)\n",
      "Done.\n",
      "Finished at Sat Oct 29 17:29:40 2016\n",
      "Total time consumed:  375 secs\n",
      "\n",
      "==> bsmap_out_4_TGACCA.stderr <==\n",
      "Thread #2: \t11350000 reads finished. 374 secs passed\n",
      "Thread #5: \t11400000 reads finished. 374 secs passed\n",
      "Thread #3: \t11450000 reads finished. 375 secs passed\n",
      "Thread #6: \t11500000 reads finished. 375 secs passed\n",
      "Thread #4: \t11550000 reads finished. 376 secs passed\n",
      "Thread #1: \t11600000 reads finished. 377 secs passed\n",
      "Total number of aligned reads: 2727290 (23%)\n",
      "Done.\n",
      "Finished at Sat Oct 29 17:43:23 2016\n",
      "Total time consumed:  392 secs\n",
      "\n",
      "==> bsmap_out_5_ACAGTG.stderr <==\n",
      "Thread #1: \t12350000 reads finished. 418 secs passed\n",
      "Thread #3: \t12400000 reads finished. 419 secs passed\n",
      "Thread #0: \t12589609 reads finished. 421 secs passed\n",
      "Thread #4: \t12450000 reads finished. 424 secs passed\n",
      "Thread #7: \t12500000 reads finished. 424 secs passed\n",
      "Thread #6: \t12550000 reads finished. 425 secs passed\n",
      "Total number of aligned reads: 2817591 (22%)\n",
      "Done.\n",
      "Finished at Sat Oct 29 17:36:49 2016\n",
      "Total time consumed:  427 secs\n",
      "\n",
      "==> bsmap_out_6_GCCAAT.stderr <==\n",
      "Thread #7: \t12250000 reads finished. 397 secs passed\n",
      "Thread #6: \t12300000 reads finished. 397 secs passed\n",
      "Thread #3: \t12350000 reads finished. 397 secs passed\n",
      "Thread #5: \t12400000 reads finished. 397 secs passed\n",
      "Thread #2: \t12450000 reads finished. 398 secs passed\n",
      "Thread #4: \t12489766 reads finished. 398 secs passed\n",
      "Total number of aligned reads: 2795408 (22%)\n",
      "Done.\n",
      "Finished at Sat Oct 29 17:50:10 2016\n",
      "Total time consumed:  400 secs\n",
      "\n",
      "==> bsmap_out_7_CAGATC.stderr <==\n",
      "Thread #2: \t10050000 reads finished. 351 secs passed\n",
      "Thread #1: \t10100000 reads finished. 352 secs passed\n",
      "Thread #0: \t10150000 reads finished. 352 secs passed\n",
      "Thread #5: \t10295293 reads finished. 362 secs passed\n",
      "Thread #3: \t10200000 reads finished. 369 secs passed\n",
      "Thread #4: \t10250000 reads finished. 375 secs passed\n",
      "Total number of aligned reads: 2394320 (23%)\n",
      "Done.\n",
      "Finished at Sat Oct 29 17:56:29 2016\n",
      "Total time consumed:  377 secs\n",
      "\n",
      "==> bsmap_out_8_ACTTGA.stderr <==\n",
      "Thread #0: \t14150000 reads finished. 467 secs passed\n",
      "Thread #3: \t14200000 reads finished. 467 secs passed\n",
      "Thread #6: \t14250000 reads finished. 468 secs passed\n",
      "Thread #2: \t14374642 reads finished. 468 secs passed\n",
      "Thread #1: \t14300000 reads finished. 470 secs passed\n",
      "Thread #7: \t14350000 reads finished. 470 secs passed\n",
      "Total number of aligned reads: 3229689 (22%)\n",
      "Done.\n",
      "Finished at Sat Oct 29 18:04:26 2016\n",
      "Total time consumed:  472 secs\n"
     ]
    }
   ],
   "source": [
    "!tail *err"
   ]
  },
  {
   "cell_type": "code",
   "execution_count": 35,
   "metadata": {
    "collapsed": true
   },
   "outputs": [],
   "source": [
    "for i in (\"1_ATCACG\",\"2_CGATGT\",\"3_TTAGGC\",\"5_ACAGTG\",\"4_TGACCA\", \"6_GCCAAT\", \"7_CAGATC\", \"8_ACTTGA\"):\n",
    "    !{bsmaploc}bsmap \\\n",
    "-a ../16-10-17/{i}_L001_R1_001.fastq.gz \\\n",
    "-d Ostrea_lurida-Scaff-10k.fa \\\n",
    "-o bsmap_out_{i}-2.sam \\\n",
    "-p 8 \\\n",
    "2> bsmap_out_{i}-2.stderr"
   ]
  },
  {
   "cell_type": "code",
   "execution_count": 38,
   "metadata": {
    "collapsed": false
   },
   "outputs": [
    {
     "name": "stdout",
     "output_type": "stream",
     "text": [
      "-rw-rw-rw-  1 Steven  staff   411M Oct 29 18:21 bsmap_out_1_ATCACG-2.sam\r\n",
      "-rw-rw-rw-  1 Steven  staff    10K Oct 29 18:21 bsmap_out_1_ATCACG-2.stderr\r\n",
      "-rw-rw-rw-  1 Steven  staff   8.0M Oct 29 17:16 bsmap_out_1_ATCACG.sam\r\n",
      "-rw-rw-rw-  1 Steven  staff   1.0K Oct 29 17:16 bsmap_out_1_ATCACG.stderr\r\n",
      "-rw-rw-rw-  1 Steven  staff   513M Oct 29 18:28 bsmap_out_2_CGATGT-2.sam\r\n",
      "-rw-rw-rw-  1 Steven  staff    13K Oct 29 18:28 bsmap_out_2_CGATGT-2.stderr\r\n",
      "-rw-rw-rw-  1 Steven  staff   513M Oct 29 17:23 bsmap_out_2_CGATGT.sam\r\n",
      "-rw-rw-rw-  1 Steven  staff    13K Oct 29 17:23 bsmap_out_2_CGATGT.stderr\r\n",
      "-rw-rw-rw-  1 Steven  staff   503M Oct 29 18:36 bsmap_out_3_TTAGGC-2.sam\r\n",
      "-rw-rw-rw-  1 Steven  staff    13K Oct 29 18:36 bsmap_out_3_TTAGGC-2.stderr\r\n",
      "-rw-rw-rw-  1 Steven  staff   503M Oct 29 17:29 bsmap_out_3_TTAGGC.sam\r\n",
      "-rw-rw-rw-  1 Steven  staff    13K Oct 29 17:29 bsmap_out_3_TTAGGC.stderr\r\n",
      "-rw-rw-rw-  1 Steven  staff   512M Oct 29 18:49 bsmap_out_4_TGACCA-2.sam\r\n",
      "-rw-rw-rw-  1 Steven  staff    13K Oct 29 18:49 bsmap_out_4_TGACCA-2.stderr\r\n",
      "-rw-rw-rw-  1 Steven  staff   512M Oct 29 17:43 bsmap_out_4_TGACCA.sam\r\n",
      "-rw-rw-rw-  1 Steven  staff    13K Oct 29 17:43 bsmap_out_4_TGACCA.stderr\r\n",
      "-rw-rw-rw-  1 Steven  staff   529M Oct 29 18:43 bsmap_out_5_ACAGTG-2.sam\r\n",
      "-rw-rw-rw-  1 Steven  staff    14K Oct 29 18:43 bsmap_out_5_ACAGTG-2.stderr\r\n",
      "-rw-rw-rw-  1 Steven  staff   529M Oct 29 17:36 bsmap_out_5_ACAGTG.sam\r\n",
      "-rw-rw-rw-  1 Steven  staff    14K Oct 29 17:36 bsmap_out_5_ACAGTG.stderr\r\n",
      "-rw-rw-rw-  1 Steven  staff   525M Oct 29 18:56 bsmap_out_6_GCCAAT-2.sam\r\n",
      "-rw-rw-rw-  1 Steven  staff    14K Oct 29 18:56 bsmap_out_6_GCCAAT-2.stderr\r\n",
      "-rw-rw-rw-  1 Steven  staff   525M Oct 29 17:50 bsmap_out_6_GCCAAT.sam\r\n",
      "-rw-rw-rw-  1 Steven  staff    14K Oct 29 17:50 bsmap_out_6_GCCAAT.stderr\r\n",
      "-rw-rw-rw-  1 Steven  staff   449M Oct 29 19:01 bsmap_out_7_CAGATC-2.sam\r\n",
      "-rw-rw-rw-  1 Steven  staff    11K Oct 29 19:01 bsmap_out_7_CAGATC-2.stderr\r\n",
      "-rw-rw-rw-  1 Steven  staff   449M Oct 29 17:56 bsmap_out_7_CAGATC.sam\r\n",
      "-rw-rw-rw-  1 Steven  staff    11K Oct 29 17:56 bsmap_out_7_CAGATC.stderr\r\n",
      "-rw-rw-rw-  1 Steven  staff   606M Oct 29 19:12 bsmap_out_8_ACTTGA-2.sam\r\n",
      "-rw-rw-rw-  1 Steven  staff    15K Oct 29 19:12 bsmap_out_8_ACTTGA-2.stderr\r\n",
      "-rw-rw-rw-  1 Steven  staff   606M Oct 29 18:04 bsmap_out_8_ACTTGA.sam\r\n",
      "-rw-rw-rw-  1 Steven  staff    15K Oct 29 18:04 bsmap_out_8_ACTTGA.stderr\r\n"
     ]
    }
   ],
   "source": [
    "ls -lh bsmap*\n"
   ]
  },
  {
   "cell_type": "code",
   "execution_count": null,
   "metadata": {
    "collapsed": true
   },
   "outputs": [],
   "source": []
  }
 ],
 "metadata": {
  "anaconda-cloud": {},
  "kernelspec": {
   "display_name": "Python [default]",
   "language": "python",
   "name": "python2"
  },
  "language_info": {
   "codemirror_mode": {
    "name": "ipython",
    "version": 2
   },
   "file_extension": ".py",
   "mimetype": "text/x-python",
   "name": "python",
   "nbconvert_exporter": "python",
   "pygments_lexer": "ipython2",
   "version": "2.7.12"
  }
 },
 "nbformat": 4,
 "nbformat_minor": 0
}
