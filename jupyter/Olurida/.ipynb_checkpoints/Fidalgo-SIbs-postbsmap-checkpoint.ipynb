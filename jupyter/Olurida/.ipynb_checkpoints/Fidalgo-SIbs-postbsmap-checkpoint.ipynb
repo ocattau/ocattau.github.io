{
 "cells": [
  {
   "cell_type": "markdown",
   "metadata": {},
   "source": [
    "# BSMAP was run on 8 samples (on different machines)"
   ]
  },
  {
   "cell_type": "code",
   "execution_count": 4,
   "metadata": {
    "collapsed": false
   },
   "outputs": [
    {
     "name": "stdout",
     "output_type": "stream",
     "text": [
      "\u001b[34m2016-10-11\u001b[m\u001b[m/\r\n"
     ]
    }
   ],
   "source": [
    "ls analyses/2016-10-11"
   ]
  },
  {
   "cell_type": "code",
   "execution_count": null,
   "metadata": {
    "collapsed": true
   },
   "outputs": [],
   "source": []
  },
  {
   "cell_type": "code",
   "execution_count": null,
   "metadata": {
    "collapsed": true
   },
   "outputs": [],
   "source": []
  },
  {
   "cell_type": "code",
   "execution_count": null,
   "metadata": {
    "collapsed": true
   },
   "outputs": [],
   "source": []
  },
  {
   "cell_type": "code",
   "execution_count": null,
   "metadata": {
    "collapsed": true
   },
   "outputs": [],
   "source": []
  },
  {
   "cell_type": "code",
   "execution_count": 42,
   "metadata": {
    "collapsed": false,
    "scrolled": true
   },
   "outputs": [
    {
     "name": "stdout",
     "output_type": "stream",
     "text": [
      "@ Tue Oct 11 08:10:48 2016: reading reference ../data/Crassostrea_gigas.GCAz_000297895.1.dna_sm.toplevel.fa ...\n",
      "@ Tue Oct 11 08:11:11 2016: reading bsmap_out_M2.sam ...\n",
      "[samopen] SAM header is present: 7658 sequences.\n",
      "@ Tue Oct 11 08:13:23 2016: combining CpG methylation from both strands ...\n",
      "@ Tue Oct 11 08:13:44 2016: writing methratio_out_M2.txt ...\n",
      "@ Tue Oct 11 08:16:58 2016: done.\n",
      "total 5453853 valid mappings, 21735799 covered cytosines, average coverage: 1.86 fold.\n",
      "@ Tue Oct 11 08:16:59 2016: reading reference ../data/Crassostrea_gigas.GCAz_000297895.1.dna_sm.toplevel.fa ...\n",
      "@ Tue Oct 11 08:17:21 2016: reading bsmap_out_M3.sam ...\n",
      "[samopen] SAM header is present: 7658 sequences.\n",
      "@ Tue Oct 11 08:19:41 2016: combining CpG methylation from both strands ...\n",
      "@ Tue Oct 11 08:20:00 2016: writing methratio_out_M3.txt ...\n",
      "@ Tue Oct 11 08:23:17 2016: done.\n",
      "total 5974521 valid mappings, 23104419 covered cytosines, average coverage: 1.89 fold.\n"
     ]
    }
   ],
   "source": [
    "for i in (\"M2\",\"M3\"):\n",
    "    !python {bsmaploc}methratio.py \\\n",
    "-d ../data/Crassostrea_gigas.GCAz_000297895.1.dna_sm.toplevel.fa \\\n",
    "-u -z -g \\\n",
    "-o methratio_out_{i}.txt \\\n",
    "-s {bsmaploc}samtools \\\n",
    "bsmap_out_{i}.sam \\"
   ]
  },
  {
   "cell_type": "code",
   "execution_count": 43,
   "metadata": {
    "collapsed": false
   },
   "outputs": [
    {
     "name": "stdout",
     "output_type": "stream",
     "text": [
      "  % Total    % Received % Xferd  Average Speed   Time    Time     Time  Current\n",
      "                                 Dload  Upload   Total   Spent    Left  Speed\n",
      "100    83  100    83    0     0     88      0 --:--:-- --:--:-- --:--:--    88\n",
      "  % Total    % Received % Xferd  Average Speed   Time    Time     Time  Current\n",
      "                                 Dload  Upload   Total   Spent    Left  Speed\n",
      "100   286  100   286    0     0   1665      0 --:--:-- --:--:-- --:--:--  1672\n"
     ]
    }
   ],
   "source": [
    "!curl https://raw.githubusercontent.com/che625/olson-ms-nb/master/scripts/mr3x.awk \\\n",
    "> /Users/sr320/git-repos/sr320.github.io/jupyter/scripts/mr3x.awk\n",
    "\n",
    "!curl https://raw.githubusercontent.com/che625/olson-ms-nb/master/scripts/mr_gg.awk.sh \\\n",
    "> /Users/sr320/git-repos/sr320.github.io/jupyter/scripts/mr_gg.awk.sh"
   ]
  },
  {
   "cell_type": "code",
   "execution_count": 45,
   "metadata": {
    "collapsed": false
   },
   "outputs": [
    {
     "name": "stdout",
     "output_type": "stream",
     "text": [
      "M2\n",
      "M3\n"
     ]
    }
   ],
   "source": [
    "#first methratio files are converted to filter for CG context, 3x coverage (mr3x.awk), and reformatting (mr_gg.awk.sh).\n",
    "#due to issue passing variable to awk, simple scripts were used (included in repository)\n",
    "for i in (\"M2\",\"M3\"):\n",
    "    !echo {i}\n",
    "    !grep \"[A-Z][A-Z]CG[A-Z]\" <methratio_out_{i}.txt> methratio_out_{i}CG.txt\n",
    "    !awk -f /Users/sr320/git-repos/sr320.github.io/jupyter/scripts/mr3x.awk methratio_out_{i}CG.txt \\\n",
    "    > mr3x.{i}.txt\n",
    "    !awk -f /Users/sr320/git-repos/sr320.github.io/jupyter/scripts/mr_gg.awk.sh \\\n",
    "    mr3x.{i}.txt > mkfmt_{i}.txt"
   ]
  },
  {
   "cell_type": "code",
   "execution_count": 47,
   "metadata": {
    "collapsed": false
   },
   "outputs": [
    {
     "name": "stdout",
     "output_type": "stream",
     "text": [
      "M2\n",
      "M3\n"
     ]
    }
   ],
   "source": [
    "#first methratio files are converted to filter for CG context, 3x coverage (mr3x.awk), and reformatting (mr_gg.awk.sh).\n",
    "#due to issue passing variable to awk, simple scripts were used (included in repository)\n",
    "for i in (\"M2\",\"M3\"):\n",
    "    !echo {i}\n",
    "    !grep -i \"[A-Z][A-Z]CG[A-Z]\" <methratio_out_{i}.txt> methratio_out_{i}CGi.txt\n",
    "    !awk -f /Users/sr320/git-repos/sr320.github.io/jupyter/scripts/mr3x.awk methratio_out_{i}CGi.txt \\\n",
    "    > mr3xi.{i}.txt\n",
    "    !awk -f /Users/sr320/git-repos/sr320.github.io/jupyter/scripts/mr_gg.awk.sh \\\n",
    "    mr3xi.{i}.txt > mkfmti_{i}.txt"
   ]
  },
  {
   "cell_type": "code",
   "execution_count": 46,
   "metadata": {
    "collapsed": true
   },
   "outputs": [],
   "source": [
    "#maybe we need to ignore case"
   ]
  },
  {
   "cell_type": "code",
   "execution_count": 51,
   "metadata": {
    "collapsed": false
   },
   "outputs": [
    {
     "name": "stdout",
     "output_type": "stream",
     "text": [
      "MD5 (mkfmt_M2.txt) = df67fde9e87ec165618d384374074057\r\n",
      "MD5 (mkfmti_M2.txt) = df67fde9e87ec165618d384374074057\r\n"
     ]
    }
   ],
   "source": [
    "!md5 mkfmt_M2.txt mkfmti_M2.txt | head"
   ]
  },
  {
   "cell_type": "code",
   "execution_count": 52,
   "metadata": {
    "collapsed": true
   },
   "outputs": [],
   "source": [
    "#nope"
   ]
  },
  {
   "cell_type": "code",
   "execution_count": 54,
   "metadata": {
    "collapsed": false
   },
   "outputs": [
    {
     "name": "stdout",
     "output_type": "stream",
     "text": [
      "chr.Base\tchr\tbase\tstrand\tcoverage\tfreqC\tfreqT\r\n",
      "scaffold1.14274\tscaffold1\t14274\tF\t4\t0.00\t100.00\r\n",
      "scaffold1.14305\tscaffold1\t14305\tF\t4\t0.00\t100.00\r\n",
      "scaffold1.15309\tscaffold1\t15309\tF\t4\t0.00\t100.00\r\n",
      "scaffold1.15315\tscaffold1\t15315\tF\t4\t0.00\t100.00\r\n",
      "scaffold1.15336\tscaffold1\t15336\tF\t5\t0.00\t100.00\r\n",
      "scaffold1.16016\tscaffold1\t16016\tF\t3\t0.00\t100.00\r\n",
      "scaffold1.17209\tscaffold1\t17209\tF\t3\t0.00\t100.00\r\n",
      "scaffold1.19038\tscaffold1\t19038\tF\t4\t0.00\t100.00\r\n",
      "scaffold1.19069\tscaffold1\t19069\tF\t4\t0.00\t100.00\r\n",
      "scaffold1.19077\tscaffold1\t19077\tF\t3\t0.00\t100.00\r\n",
      "scaffold1.19147\tscaffold1\t19147\tF\t7\t0.00\t100.00\r\n",
      "scaffold1.19211\tscaffold1\t19211\tF\t3\t0.00\t100.00\r\n",
      "scaffold1.19222\tscaffold1\t19222\tF\t3\t0.00\t100.00\r\n",
      "scaffold1.19427\tscaffold1\t19427\tF\t5\t0.00\t100.00\r\n",
      "scaffold1.19454\tscaffold1\t19454\tF\t3\t0.00\t100.00\r\n",
      "scaffold1.19456\tscaffold1\t19456\tF\t3\t0.00\t100.00\r\n",
      "scaffold1.19864\tscaffold1\t19864\tF\t3\t0.00\t100.00\r\n",
      "scaffold1.19935\tscaffold1\t19935\tF\t5\t0.00\t100.00\r\n",
      "scaffold1.19963\tscaffold1\t19963\tF\t4\t0.00\t100.00\r\n",
      "scaffold1.20056\tscaffold1\t20056\tF\t7\t0.00\t100.00\r\n",
      "scaffold1.20067\tscaffold1\t20067\tF\t7\t0.00\t100.00\r\n",
      "scaffold1.20087\tscaffold1\t20087\tF\t5\t0.00\t100.00\r\n",
      "scaffold1.20116\tscaffold1\t20116\tF\t3\t0.00\t100.00\r\n",
      "scaffold1.20119\tscaffold1\t20119\tF\t3\t0.00\t100.00\r\n",
      "scaffold1.20180\tscaffold1\t20180\tF\t4\t0.00\t100.00\r\n",
      "scaffold1.20215\tscaffold1\t20215\tF\t5\t0.00\t100.00\r\n",
      "scaffold1.20253\tscaffold1\t20253\tF\t6\t0.00\t100.00\r\n",
      "scaffold1.20275\tscaffold1\t20275\tF\t5\t0.00\t100.00\r\n",
      "scaffold1.20278\tscaffold1\t20278\tF\t5\t0.00\t100.00\r\n",
      "scaffold1.20560\tscaffold1\t20560\tF\t3\t0.00\t100.00\r\n",
      "scaffold1.20564\tscaffold1\t20564\tF\t3\t0.00\t100.00\r\n",
      "scaffold1.20756\tscaffold1\t20756\tF\t4\t25.00\t75.00\r\n",
      "scaffold1.21325\tscaffold1\t21325\tF\t3\t33.33\t66.67\r\n",
      "scaffold1.21633\tscaffold1\t21633\tF\t4\t25.00\t75.00\r\n",
      "scaffold1.22985\tscaffold1\t22985\tF\t3\t100.00\t0.00\r\n",
      "scaffold1.23091\tscaffold1\t23091\tF\t3\t33.33\t66.67\r\n",
      "scaffold1.23095\tscaffold1\t23095\tF\t5\t40.00\t60.00\r\n",
      "scaffold1.23099\tscaffold1\t23099\tF\t3\t66.67\t33.33\r\n",
      "scaffold1.23469\tscaffold1\t23469\tF\t5\t0.00\t100.00\r\n",
      "scaffold1.23979\tscaffold1\t23979\tF\t5\t80.00\t20.00\r\n",
      "scaffold1.24040\tscaffold1\t24040\tF\t3\t66.67\t33.33\r\n",
      "scaffold1.24627\tscaffold1\t24627\tF\t3\t0.00\t100.00\r\n",
      "scaffold1.25289\tscaffold1\t25289\tF\t12\t83.33\t16.67\r\n",
      "scaffold1.25324\tscaffold1\t25324\tF\t8\t50.00\t50.00\r\n",
      "scaffold1.25489\tscaffold1\t25489\tF\t6\t16.67\t83.33\r\n",
      "scaffold1.25503\tscaffold1\t25503\tF\t3\t100.00\t0.00\r\n",
      "scaffold1.25517\tscaffold1\t25517\tF\t3\t0.00\t100.00\r\n",
      "scaffold1.30312\tscaffold1\t30312\tF\t3\t0.00\t100.00\r\n",
      "scaffold1.30364\tscaffold1\t30364\tF\t5\t0.00\t100.00\r\n",
      "scaffold1.34376\tscaffold1\t34376\tF\t3\t0.00\t100.00\r\n",
      "scaffold1.34387\tscaffold1\t34387\tF\t8\t12.50\t87.50\r\n",
      "scaffold1.34409\tscaffold1\t34409\tF\t7\t0.00\t100.00\r\n",
      "scaffold1.37888\tscaffold1\t37888\tF\t3\t0.00\t100.00\r\n",
      "scaffold1.38052\tscaffold1\t38052\tF\t3\t0.00\t100.00\r\n",
      "scaffold1.38200\tscaffold1\t38200\tF\t3\t0.00\t100.00\r\n",
      "scaffold1.38307\tscaffold1\t38307\tF\t3\t0.00\t100.00\r\n",
      "scaffold1.38396\tscaffold1\t38396\tF\t3\t0.00\t100.00\r\n",
      "scaffold1.38420\tscaffold1\t38420\tF\t8\t0.00\t100.00\r\n",
      "scaffold1.38451\tscaffold1\t38451\tF\t6\t0.00\t100.00\r\n",
      "scaffold1.38454\tscaffold1\t38454\tF\t6\t0.00\t100.00\r\n",
      "scaffold1.38457\tscaffold1\t38457\tF\t7\t0.00\t100.00\r\n",
      "scaffold1.38473\tscaffold1\t38473\tF\t7\t0.00\t100.00\r\n",
      "scaffold1.38477\tscaffold1\t38477\tF\t7\t14.29\t85.71\r\n",
      "scaffold1.38502\tscaffold1\t38502\tF\t8\t0.00\t100.00\r\n",
      "scaffold1.38528\tscaffold1\t38528\tF\t4\t0.00\t100.00\r\n",
      "scaffold1.41897\tscaffold1\t41897\tF\t3\t0.00\t100.00\r\n",
      "scaffold1.42178\tscaffold1\t42178\tF\t6\t0.00\t100.00\r\n",
      "scaffold1.42189\tscaffold1\t42189\tF\t4\t0.00\t100.00\r\n",
      "scaffold1.42210\tscaffold1\t42210\tF\t6\t0.00\t100.00\r\n",
      "scaffold1.43637\tscaffold1\t43637\tF\t4\t0.00\t100.00\r\n",
      "scaffold1.43648\tscaffold1\t43648\tF\t4\t0.00\t100.00\r\n",
      "scaffold1.43788\tscaffold1\t43788\tF\t3\t0.00\t100.00\r\n",
      "scaffold1.43818\tscaffold1\t43818\tF\t3\t0.00\t100.00\r\n",
      "scaffold1.44516\tscaffold1\t44516\tF\t3\t0.00\t100.00\r\n",
      "scaffold1.44713\tscaffold1\t44713\tF\t5\t0.00\t100.00\r\n",
      "scaffold1.44719\tscaffold1\t44719\tF\t6\t0.00\t100.00\r\n",
      "scaffold1.44860\tscaffold1\t44860\tF\t3\t0.00\t100.00\r\n",
      "scaffold1.44862\tscaffold1\t44862\tF\t3\t0.00\t100.00\r\n",
      "scaffold1.45677\tscaffold1\t45677\tF\t3\t0.00\t100.00\r\n",
      "scaffold1.45683\tscaffold1\t45683\tF\t3\t0.00\t100.00\r\n",
      "scaffold1.45736\tscaffold1\t45736\tF\t5\t0.00\t100.00\r\n",
      "scaffold1.47244\tscaffold1\t47244\tF\t8\t0.00\t100.00\r\n",
      "scaffold1.47265\tscaffold1\t47265\tF\t5\t20.00\t80.00\r\n",
      "scaffold1.49801\tscaffold1\t49801\tF\t4\t0.00\t100.00\r\n",
      "scaffold1.50021\tscaffold1\t50021\tF\t5\t0.00\t100.00\r\n",
      "scaffold1.52362\tscaffold1\t52362\tF\t5\t0.00\t100.00\r\n",
      "scaffold1.52371\tscaffold1\t52371\tF\t5\t0.00\t100.00\r\n",
      "scaffold1.52400\tscaffold1\t52400\tF\t3\t0.00\t100.00\r\n",
      "scaffold1.52406\tscaffold1\t52406\tF\t3\t0.00\t100.00\r\n",
      "scaffold1.52408\tscaffold1\t52408\tF\t4\t0.00\t100.00\r\n",
      "scaffold1.52418\tscaffold1\t52418\tF\t5\t0.00\t100.00\r\n",
      "scaffold1.52422\tscaffold1\t52422\tF\t4\t0.00\t100.00\r\n",
      "scaffold1.52454\tscaffold1\t52454\tF\t4\t0.00\t100.00\r\n",
      "scaffold1.52467\tscaffold1\t52467\tF\t3\t0.00\t100.00\r\n",
      "scaffold1.52472\tscaffold1\t52472\tF\t3\t0.00\t100.00\r\n",
      "scaffold1.52512\tscaffold1\t52512\tF\t4\t0.00\t100.00\r\n",
      "scaffold1.52528\tscaffold1\t52528\tF\t4\t0.00\t100.00\r\n",
      "scaffold1.53044\tscaffold1\t53044\tF\t5\t0.00\t100.00\r\n",
      "scaffold1.53050\tscaffold1\t53050\tF\t5\t0.00\t100.00\r\n"
     ]
    }
   ],
   "source": [
    "!head -100 mkfmt_M2.txt"
   ]
  },
  {
   "cell_type": "markdown",
   "metadata": {},
   "source": [
    "# Products"
   ]
  },
  {
   "cell_type": "code",
   "execution_count": 56,
   "metadata": {
    "collapsed": false
   },
   "outputs": [
    {
     "name": "stdout",
     "output_type": "stream",
     "text": [
      "/Users/sr320/git-repos/sr320.github.io/jupyter\n"
     ]
    }
   ],
   "source": [
    "cd /Users/sr320/git-repos/sr320.github.io/jupyter"
   ]
  },
  {
   "cell_type": "code",
   "execution_count": 58,
   "metadata": {
    "collapsed": false
   },
   "outputs": [],
   "source": [
    "mkdir analyses"
   ]
  },
  {
   "cell_type": "code",
   "execution_count": 59,
   "metadata": {
    "collapsed": true
   },
   "outputs": [],
   "source": [
    "mkdir analyses/$(date +%F)"
   ]
  },
  {
   "cell_type": "code",
   "execution_count": 61,
   "metadata": {
    "collapsed": false
   },
   "outputs": [],
   "source": [
    "for i in (\"M2\",\"M3\"):\n",
    "    !cp /Volumes/caviar/wd/2016-10-11/mkfmt_{i}.txt analyses/$(date +%F)/mkfmt_{i}.txt"
   ]
  },
  {
   "cell_type": "code",
   "execution_count": 63,
   "metadata": {
    "collapsed": false
   },
   "outputs": [
    {
     "name": "stdout",
     "output_type": "stream",
     "text": [
      "==> analyses/2016-10-11/mkfmt_M2.txt <==\r\n",
      "chr.Base\tchr\tbase\tstrand\tcoverage\tfreqC\tfreqT\r\n",
      "scaffold1.14274\tscaffold1\t14274\tF\t4\t0.00\t100.00\r\n",
      "scaffold1.14305\tscaffold1\t14305\tF\t4\t0.00\t100.00\r\n",
      "scaffold1.15309\tscaffold1\t15309\tF\t4\t0.00\t100.00\r\n",
      "scaffold1.15315\tscaffold1\t15315\tF\t4\t0.00\t100.00\r\n",
      "scaffold1.15336\tscaffold1\t15336\tF\t5\t0.00\t100.00\r\n",
      "scaffold1.16016\tscaffold1\t16016\tF\t3\t0.00\t100.00\r\n",
      "scaffold1.17209\tscaffold1\t17209\tF\t3\t0.00\t100.00\r\n",
      "scaffold1.19038\tscaffold1\t19038\tF\t4\t0.00\t100.00\r\n",
      "scaffold1.19069\tscaffold1\t19069\tF\t4\t0.00\t100.00\r\n",
      "\r\n",
      "==> analyses/2016-10-11/mkfmt_M3.txt <==\r\n",
      "chr.Base\tchr\tbase\tstrand\tcoverage\tfreqC\tfreqT\r\n",
      "scaffold1.259\tscaffold1\t259\tF\t4\t100.00\t0.00\r\n",
      "scaffold1.263\tscaffold1\t263\tF\t4\t100.00\t0.00\r\n",
      "scaffold1.267\tscaffold1\t267\tF\t4\t100.00\t0.00\r\n",
      "scaffold1.271\tscaffold1\t271\tF\t4\t100.00\t0.00\r\n",
      "scaffold1.299\tscaffold1\t299\tF\t4\t50.00\t50.00\r\n",
      "scaffold1.10033\tscaffold1\t10033\tF\t3\t0.00\t100.00\r\n",
      "scaffold1.10343\tscaffold1\t10343\tF\t4\t0.00\t100.00\r\n",
      "scaffold1.10530\tscaffold1\t10530\tF\t4\t0.00\t100.00\r\n",
      "scaffold1.10569\tscaffold1\t10569\tF\t5\t0.00\t100.00\r\n"
     ]
    }
   ],
   "source": [
    "!head analyses/$(date +%F)/*"
   ]
  },
  {
   "cell_type": "markdown",
   "metadata": {},
   "source": [
    "urls\n",
    "\n",
    "```\n",
    "https://raw.githubusercontent.com/sr320/sr320.github.io/master/jupyter/analyses/2016-10-11/mkfmt_M2.txt\n",
    "\n",
    "https://raw.githubusercontent.com/sr320/sr320.github.io/master/jupyter/analyses/2016-10-11/mkfmt_M3.txt\n",
    "```"
   ]
  },
  {
   "cell_type": "code",
   "execution_count": null,
   "metadata": {
    "collapsed": true
   },
   "outputs": [],
   "source": []
  }
 ],
 "metadata": {
  "kernelspec": {
   "display_name": "Python 2",
   "language": "python",
   "name": "python2"
  },
  "language_info": {
   "codemirror_mode": {
    "name": "ipython",
    "version": 2
   },
   "file_extension": ".py",
   "mimetype": "text/x-python",
   "name": "python",
   "nbconvert_exporter": "python",
   "pygments_lexer": "ipython2",
   "version": "2.7.12"
  }
 },
 "nbformat": 4,
 "nbformat_minor": 0
}
