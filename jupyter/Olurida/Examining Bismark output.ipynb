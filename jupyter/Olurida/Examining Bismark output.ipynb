{
 "cells": [
  {
   "cell_type": "code",
   "execution_count": 1,
   "metadata": {
    "collapsed": false
   },
   "outputs": [
    {
     "name": "stdout",
     "output_type": "stream",
     "text": [
      "\u001b[31mzr1394_1_cleaned_all_bismark_bt2.bam\u001b[m\u001b[m\r\n",
      "\u001b[31mzr1394_1_cleaned_all_bismark_bt2_SE_report.txt\u001b[m\u001b[m\r\n",
      "\u001b[31mzr1394_1_cleaned_all_bismark_bt2_sorted.bam\u001b[m\u001b[m\r\n",
      "\u001b[31mzr1394_1_cleaned_all_bismark_bt2_sorted.bam.bai\u001b[m\u001b[m\r\n",
      "\u001b[31mzr1394_1_cleaned_all_bismark_bt2_sorted.sam\u001b[m\u001b[m\r\n"
     ]
    }
   ],
   "source": [
    "!ls /Volumes/web/symbiodinium/Oly_MBD/Bismark/"
   ]
  },
  {
   "cell_type": "code",
   "execution_count": null,
   "metadata": {
    "collapsed": true
   },
   "outputs": [],
   "source": [
    "%%bash\n",
    "bedtools genomecov \\\n",
    "-ibam /Volumes/web/symbiodinium/Oly_MBD/Bismark/zr1394_1_cleaned_all_bismark_bt2.bam \\\n",
    "-bg | awk '$4 > 9' \\\n",
    "> /Volumes/web/symbiodinium/Oly_MBD/Bismark/sr_zr1394_1.bedgraph\n"
   ]
  },
  {
   "cell_type": "code",
   "execution_count": null,
   "metadata": {
    "collapsed": true
   },
   "outputs": [],
   "source": []
  }
 ],
 "metadata": {
  "anaconda-cloud": {},
  "kernelspec": {
   "display_name": "Python [default]",
   "language": "python",
   "name": "python2"
  },
  "language_info": {
   "codemirror_mode": {
    "name": "ipython",
    "version": 2
   },
   "file_extension": ".py",
   "mimetype": "text/x-python",
   "name": "python",
   "nbconvert_exporter": "python",
   "pygments_lexer": "ipython2",
   "version": "2.7.12"
  }
 },
 "nbformat": 4,
 "nbformat_minor": 1
}
