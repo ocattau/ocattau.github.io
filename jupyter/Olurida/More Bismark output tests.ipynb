{
 "cells": [
  {
   "cell_type": "code",
   "execution_count": 21,
   "metadata": {
    "collapsed": false
   },
   "outputs": [
    {
     "name": "stdout",
     "output_type": "stream",
     "text": [
      "zr1394_1_cleaned_all_bismark_bt2.bam\r\n",
      "zr1394_1_cleaned_all_bismark_bt2.bam.sorted\r\n",
      "zr1394_1_cleaned_all_bismark_bt2_SE_report.txt\r\n",
      "zr1394_1_cleaned_all_bismark_bt2_sorted.bam\r\n",
      "zr1394_1_cleaned_all_bismark_bt2_sorted.bam.bai\r\n",
      "zr1394_1_cleaned_all_bismark_bt2_sorted.sam\r\n"
     ]
    }
   ],
   "source": [
    "!ls /Volumes/Monarch/tmp/"
   ]
  },
  {
   "cell_type": "code",
   "execution_count": 16,
   "metadata": {
    "collapsed": false
   },
   "outputs": [
    {
     "name": "stdout",
     "output_type": "stream",
     "text": [
      "/Volumes/Monarch/tmp\n"
     ]
    }
   ],
   "source": [
    "cd /Volumes/Monarch/tmp/"
   ]
  },
  {
   "cell_type": "code",
   "execution_count": 25,
   "metadata": {
    "collapsed": false
   },
   "outputs": [
    {
     "name": "stdout",
     "output_type": "stream",
     "text": [
      "Usage: samtools sort [options...] [in.bam]\r\n",
      "Options:\r\n",
      "  -l INT     Set compression level, from 0 (uncompressed) to 9 (best)\r\n",
      "  -m INT     Set maximum memory per thread; suffix K/M/G recognized [768M]\r\n",
      "  -n         Sort by read name\r\n",
      "  -o FILE    Write final output to FILE rather than standard output\r\n",
      "  -O FORMAT  Write output as FORMAT ('sam'/'bam'/'cram')   (either -O or\r\n",
      "  -T PREFIX  Write temporary files to PREFIX.nnnn.bam       -T is required)\r\n",
      "  -@ INT     Set number of sorting and compression threads [1]\r\n",
      "\r\n",
      "Legacy usage: samtools sort [options...] <in.bam> <out.prefix>\r\n",
      "Options:\r\n",
      "  -f         Use <out.prefix> as full final filename rather than prefix\r\n",
      "  -o         Write final output to stdout rather than <out.prefix>.bam\r\n",
      "  -l,m,n,@   Similar to corresponding options above\r\n"
     ]
    }
   ],
   "source": [
    "!samtools sort zr1394_1_cleaned_all_bismark_bt2.bam"
   ]
  },
  {
   "cell_type": "code",
   "execution_count": 26,
   "metadata": {
    "collapsed": false
   },
   "outputs": [
    {
     "name": "stdout",
     "output_type": "stream",
     "text": [
      "Failed to open BAM file zr1394_1_cleaned_all_bismark_bt2_sorted.bam\r\n"
     ]
    }
   ],
   "source": [
    "!/Applications/bedtools2/bin/bedtools genomecov \\\n",
    "-ibam zr1394_1_cleaned_all_bismark_bt2_sorted.bam \\\n",
    "-bg > zr1394_1_cleaned_all_bismark_bt2.bedgraph\n"
   ]
  },
  {
   "cell_type": "code",
   "execution_count": 29,
   "metadata": {
    "collapsed": false
   },
   "outputs": [
    {
     "name": "stdout",
     "output_type": "stream",
     "text": [
      "HWI-C00124:163:C7V3AANXX:3:2204:4642:40683_1:N:0:ATCACG\t0\tscaffold293370\t12564\t42\t51M\t*\t0\t0\tAGTTTAATATTTTTATTTATTATAGTTTGGTATGAGGTTTTTAAATTGTAT\tBBBBBFFFFFFFFFFFFFFFFFFBFFFFFFFFFFFFFFFFFFF<BFFFFFF\tNM:i:12\tMD:Z:3C5C1C0C0C8C4C2C9C0C6C1C0\tXM:Z:...h.....h.hhh........x....z..h.........hh......h.h\tXR:Z:CT\tXG:Z:CT\r\n",
      "HWI-C00124:164:C7URDANXX:2:2203:15612:74873_1:Y:0:ATCACG\t16\tscaffold293370\t13046\t42\t51M\t*\t0\t0\tATATTCTTTCTTAAAAATCCCTCAATTCAACAAACTCCAATCTAAATAAAA\tB/B//B</FFFFFFF<<//FBBF<FFF<BF//</B/FFF</B/FFFBBB/B\tNM:i:7\tMD:Z:2G9G3G7G8G9G1G5\tXM:Z:..h.........h...h.......x........h.........x.h.....\tXR:Z:CT\tXG:Z:GA\r\n",
      "HWI-C00124:163:C7V3AANXX:3:1301:16874:84316_1:Y:0:ATNACG\t0\tscaffold293370\t13217\t42\t20M\t*\t0\t0\tATTTTGGTGTATATATTTGT\t<B/<///<</B/</B/FB<<\tNM:i:4\tMD:Z:9C3C1C0C3\tXM:Z:.........h...h.hx...\tXR:Z:CT\tXG:Z:CT\r\n",
      "HWI-C00124:164:C7URDANXX:2:2101:11133:33551_1:N:0:ATCACG\t16\tscaffold293370\t13393\t8\t51M\t*\t0\t0\tAACCTAATTTATCATAATTACTATCACTCTATTAAAACAATTTTACTCCCC\tBFFFF<F<FFFFFFFFF<BFFFFBFFFFFFFFFFFFFFFFB<FFFBBBBBB\tNM:i:6\tMD:Z:1G4G15G3T6G1G15\tXM:Z:.h....h...............x..........h.h...............\tXR:Z:CT\tXG:Z:GA\r\n",
      "HWI-C00124:164:C7URDANXX:1:2108:11347:44060_1:Y:0:ATCACG\t0\tscaffold293370\t13655\t42\t20M\t*\t0\t0\tACATATACAATAATTTATTA\t//<<B/<<<<F/<B<FF/<B\tNM:i:5\tMD:Z:1T1C6C4C2C1\tXM:Z:...h...H..h....h..h.\tXR:Z:CT\tXG:Z:CT\r\n",
      "HWI-C00124:164:C7URDANXX:2:1301:14084:85680_1:N:0:ATCACG\t16\tscaffold293370\t14844\t42\t51M\t*\t0\t0\tATAATAACTTAAATACTATCCAACATTTATCAAACATAAATATTTTCATAC\tFFFFFFFFFFFFFFFFFFFFFFFFFFFFFFFFFFFFFFFFFFFFFFBBBBB\tNM:i:2\tMD:Z:6G3G40\tXM:Z:......h...h........................................\tXR:Z:CT\tXG:Z:GA\r\n",
      "HWI-C00124:164:C7URDANXX:3:1116:11723:32358_1:Y:0:ATCACG\t0\tscaffold293370\t15753\t42\t20M\t*\t0\t0\tTTCCGAAACTAATTATCCCA\t/<<///<<</B//B///BBB\tNM:i:4\tMD:Z:3T4T0C7T2\tXM:Z:..X......h......H.X.\tXR:Z:CT\tXG:Z:CT\r\n",
      "HWI-C00124:164:C7URDANXX:2:1116:13663:5056_1:N:0:ATCACG\t0\tscaffold293370\t16796\t8\t50M\t*\t0\t0\tATTTTTTTATTATTTTGTTTATGAGGTTATTTTTTATTTATTAGGGTTAA\tBBBBBFFFFFFFFFFFFFFFFFFFFFFFFFFFFFFFFFFFFFFFFFFF/<\tNM:i:15\tMD:Z:2C0C3C2C2C3C3C12C2C0C1C0C4C0C0C1\tXM:Z:..hh...h..h..h...h...z............h..hh.hx....hh..\tXR:Z:CT\tXG:Z:CT\r\n",
      "HWI-C00124:164:C7URDANXX:1:2206:2981:21620_1:Y:0:ATCACG\t0\tscaffold293370\t16869\t42\t50M\t*\t0\t0\tGGTGTTTGTTGTATTTTATTTTTTTTTAATAGTTATTGTTTGGTTATAGG\t/BBBBFB/BFFF/FBFF//FBFFFFFFFFF/FFFBFFF//FBF<F/FBFF\tNM:i:6\tMD:Z:4C16C4C12C4C1C3\tXM:Z:....h................h....h............x....h.x...\tXR:Z:CT\tXG:Z:CT\r\n",
      "HWI-C00124:164:C7URDANXX:3:1110:18597:17007_1:Y:0:ATCACG\t0\tscaffold293370\t17018\t42\t22M\t*\t0\t0\tGCCTATCTTATGTATTAAATTT\tBBBBB</<<F//<B<B///B/<\tNM:i:8\tMD:Z:1T4T0C0C3C1C0C4C1\tXM:Z:..H....hh...h.hh....h.\tXR:Z:CT\tXG:Z:CT\r\n"
     ]
    }
   ],
   "source": [
    "!tail /Volumes/Monarch/tmp/zr1394_1_cleaned_all_bismark_bt2_sorted.sam"
   ]
  },
  {
   "cell_type": "code",
   "execution_count": 28,
   "metadata": {
    "collapsed": false
   },
   "outputs": [
    {
     "name": "stdout",
     "output_type": "stream",
     "text": [
      "BAM\u0001w\u0004\u0004\u0000@HD\tVN:1.0\tSO:coordinate\r\n",
      "@SQ\tSN:scaffold8\tLN:11846\r\n",
      "@SQ\tSN:scaffold22\tLN:14736\r\n",
      "@SQ\tSN:scaffold44\tLN:12682\r\n",
      "@SQ\tSN:scaffold50\tLN:19195\r\n",
      "@SQ\tSN:scaffold52\tLN:12148\r\n",
      "@SQ\tSN:scaffold53\tLN:10757\r\n",
      "@SQ\tSN:scaffold59\tLN:20611\r\n",
      "@SQ\tSN:scaffold69\tLN:17075\r\n",
      "@SQ\tSN:scaffold77\tLN:15814\r\n"
     ]
    }
   ],
   "source": [
    "!head zr1394_1_cleaned_all_bismark_bt2_sorted.bam"
   ]
  },
  {
   "cell_type": "code",
   "execution_count": 6,
   "metadata": {
    "collapsed": false
   },
   "outputs": [
    {
     "name": "stdout",
     "output_type": "stream",
     "text": [
      "/Volumes/Monarch/tmp\n"
     ]
    }
   ],
   "source": [
    "cd /Volumes/Monarch/tmp/"
   ]
  },
  {
   "cell_type": "code",
   "execution_count": 7,
   "metadata": {
    "collapsed": false
   },
   "outputs": [
    {
     "name": "stdout",
     "output_type": "stream",
     "text": [
      "  % Total    % Received % Xferd  Average Speed   Time    Time     Time  Current\n",
      "                                 Dload  Upload   Total   Spent    Left  Speed\n",
      "100  125M  100  125M    0     0  1242k      0  0:01:43  0:01:43 --:--:-- 2392k\n"
     ]
    }
   ],
   "source": [
    "!curl http://owl.fish.washington.edu/halfshell/working-directory/16-10-29/Ostrea_lurida-Scaff-10k.fa \\\n",
    "-o Ostrea_lurida-Scaff-10k.fa    "
   ]
  },
  {
   "cell_type": "code",
   "execution_count": 8,
   "metadata": {
    "collapsed": false
   },
   "outputs": [
    {
     "name": "stdout",
     "output_type": "stream",
     "text": [
      "[samfaipath] build FASTA index...\r\n"
     ]
    }
   ],
   "source": [
    "!samtools view -bT Ostrea_lurida-Scaff-10k.fa \\\n",
    "zr1394_1_cleaned_all_bismark_bt2_sorted.sam \\\n",
    "> SRzr1394_1_cleaned_all_bismark_bt2.bam\n",
    "\n"
   ]
  },
  {
   "cell_type": "code",
   "execution_count": 9,
   "metadata": {
    "collapsed": true
   },
   "outputs": [],
   "source": [
    "!/Applications/bedtools2/bin/bedtools genomecov \\\n",
    "-ibam SRzr1394_1_cleaned_all_bismark_bt2.bam \\\n",
    "-bg > SRzr1394_1_cleaned_all_bismark_bt2.bedgraph"
   ]
  },
  {
   "cell_type": "code",
   "execution_count": 10,
   "metadata": {
    "collapsed": false
   },
   "outputs": [
    {
     "name": "stdout",
     "output_type": "stream",
     "text": [
      "scaffold8\t1049\t1059\t1\r\n",
      "scaffold8\t1059\t1071\t2\r\n",
      "scaffold8\t1071\t1081\t1\r\n",
      "scaffold8\t1187\t1210\t1\r\n",
      "scaffold8\t1795\t1815\t1\r\n",
      "scaffold8\t2208\t2230\t1\r\n",
      "scaffold8\t3029\t3035\t1\r\n",
      "scaffold8\t3035\t3037\t3\r\n",
      "scaffold8\t3037\t3039\t4\r\n",
      "scaffold8\t3039\t3047\t5\r\n"
     ]
    }
   ],
   "source": [
    "!head SRzr1394_1_cleaned_all_bismark_bt2.bedgraph"
   ]
  },
  {
   "cell_type": "code",
   "execution_count": 12,
   "metadata": {
    "collapsed": false
   },
   "outputs": [
    {
     "name": "stdout",
     "output_type": "stream",
     "text": [
      "Binary files /Volumes/Monarch/tmp/SRzr1394_1_cleaned_all_bismark_bt2.bam and /Volumes/Monarch/tmp/zr1394_1_cleaned_all_bismark_bt2_sorted.bam differ\r\n"
     ]
    }
   ],
   "source": [
    "!diff /Volumes/Monarch/tmp/SRzr1394_1_cleaned_all_bismark_bt2.bam \\\n",
    "/Volumes/Monarch/tmp/zr1394_1_cleaned_all_bismark_bt2_sorted.bam"
   ]
  },
  {
   "cell_type": "code",
   "execution_count": 21,
   "metadata": {
    "collapsed": false
   },
   "outputs": [
    {
     "name": "stdout",
     "output_type": "stream",
     "text": [
      "@ Sun Nov 27 09:23:46 2016: reading reference Ostrea_lurida-Scaff-10k.fa ...\n",
      "@ Sun Nov 27 09:23:58 2016: reading zr1394_1_cleaned_all_bismark_bt2_sorted.sam ...\n",
      "view: illegal option -- X\n",
      "Traceback (most recent call last):\n",
      "  File \"/Volumes/air_clone/Applications/bsmap-2.74/methratio.py\", line 126, in <module>\n",
      "    map_info = get_alignment(line)\n",
      "  File \"/Volumes/air_clone/Applications/bsmap-2.74/methratio.py\", line 51, in get_alignment\n",
      "    assert strand, 'missing strand information \"ZS:Z:xx\"'\n",
      "AssertionError: missing strand information \"ZS:Z:xx\"\n",
      "samtools: writing to standard output failed: Broken pipe\n",
      "samtools: error closing standard output: -1\n"
     ]
    }
   ],
   "source": [
    "!python /Volumes/air_clone/Applications/bsmap-2.74/methratio.py \\\n",
    "-d Ostrea_lurida-Scaff-10k.fa \\\n",
    "-u -z -g \\\n",
    "-o methratio_out_.txt \\\n",
    "-s /Applications/samtools-1.2 \\\n",
    "zr1394_1_cleaned_all_bismark_bt2_sorted.sam"
   ]
  },
  {
   "cell_type": "code",
   "execution_count": 17,
   "metadata": {
    "collapsed": false
   },
   "outputs": [
    {
     "name": "stdout",
     "output_type": "stream",
     "text": [
      "Usage: methratio.py [options] BSMAP_MAPPING_FILES\r\n",
      "\r\n",
      "Options:\r\n",
      "  -h, --help            show this help message and exit\r\n",
      "  -o FILE, --out=FILE   output file name. (required)\r\n",
      "  -d FILE, --ref=FILE   reference genome fasta file. (required)\r\n",
      "  -c CHR, --chr=CHR     process only specified chromosomes, separated by ','.\r\n",
      "                        [default: all] example: --chroms=chr1,chr2\r\n",
      "  -s PATH, --sam-path=PATH\r\n",
      "                        path to samtools. [default: none]\r\n",
      "  -u, --unique          process only unique mappings/pairs.\r\n",
      "  -p, --pair            process only properly paired mappings.\r\n",
      "  -z, --zero-meth       report loci with zero methylation ratios.\r\n",
      "  -q, --quiet           don't print progress on stderr.\r\n",
      "  -r, --remove-duplicate\r\n",
      "                        remove duplicated reads.\r\n",
      "  -t N, --trim-fillin=N\r\n",
      "                        trim N end-repairing fill-in nucleotides. [default: 2]\r\n",
      "  -g, --combine-CpG     combine CpG methylaion ratios on both strands.\r\n",
      "  -m FOLD, --min-depth=FOLD\r\n",
      "                        report loci with sequencing depth>=FOLD. [default: 1]\r\n",
      "  -n, --no-header       don't print a header line\r\n",
      "  -i CT_SNP, --ct-snp=CT_SNP\r\n",
      "                        how to handle CT SNP (\"no-action\", \"correct\", \"skip\"),\r\n",
      "                        default: \"correct\".\r\n"
     ]
    }
   ],
   "source": [
    "!python /Volumes/air_clone/Applications/bsmap-2.74/methratio.py -help"
   ]
  },
  {
   "cell_type": "code",
   "execution_count": null,
   "metadata": {
    "collapsed": true
   },
   "outputs": [],
   "source": []
  }
 ],
 "metadata": {
  "kernelspec": {
   "display_name": "Python 2",
   "language": "python",
   "name": "python2"
  },
  "language_info": {
   "codemirror_mode": {
    "name": "ipython",
    "version": 2
   },
   "file_extension": ".py",
   "mimetype": "text/x-python",
   "name": "python",
   "nbconvert_exporter": "python",
   "pygments_lexer": "ipython2",
   "version": "2.7.12"
  }
 },
 "nbformat": 4,
 "nbformat_minor": 0
}
