{
 "cells": [
  {
   "cell_type": "markdown",
   "metadata": {},
   "source": [
    "<img src=\"http://eagle.fish.washington.edu/cnidarian/skitch/Whole_genome_BSseq_December_2015_·_RobertsLab_project-olympia_oyster-genomic_Wiki_1DAD4A4D.png\" alt=\"Whole_genome_BSseq_December_2015_·_RobertsLab_project-olympia_oyster-genomic_Wiki_1DAD4A4D.png\" width=50%/>"
   ]
  },
  {
   "cell_type": "code",
   "execution_count": 1,
   "metadata": {
    "collapsed": true
   },
   "outputs": [],
   "source": [
    "bsmaploc=\"/Users/Shared/Apps/bsmap-2.74/\"\n"
   ]
  },
  {
   "cell_type": "code",
   "execution_count": 3,
   "metadata": {
    "collapsed": false
   },
   "outputs": [
    {
     "name": "stdout",
     "output_type": "stream",
     "text": [
      "/Volumes/web/halfshell/working-directory/16-10-17\n"
     ]
    }
   ],
   "source": [
    "cd /Volumes/web/halfshell/working-directory/16-10-17"
   ]
  },
  {
   "cell_type": "code",
   "execution_count": 4,
   "metadata": {
    "collapsed": false
   },
   "outputs": [
    {
     "name": "stdout",
     "output_type": "stream",
     "text": [
      "total 5392464\r\n",
      "-rw-rw-rw-  1 Steven  staff   8.9M Oct 17 12:06 1_ATCACG_L001_R1_001.fastq.gz\r\n",
      "-rw-rw-rw-  1 Steven  staff   638M Oct 17 12:14 2_CGATGT_L001_R1_001.fastq.gz\r\n",
      "-rw-rw-rw-  1 Steven  staff   633M Oct 17 12:20 3_TTAGGC_L001_R1_001.fastq.gz\r\n",
      "-rw-rw-rw-  1 Steven  staff   671M Oct 17 12:25 5_ACAGTG_L001_R1_001.fastq.gz\r\n",
      "-rw-rw-rw-  1 Steven  staff   667M Oct 17 12:29 6_GCCAAT_L001_R1_001.fastq.gz\r\n",
      "-rw-rw-rw-  1 Steven  staff    15M Oct 17 12:29 7_CAGATC_L001_R1_001.fastq.gz\r\n"
     ]
    }
   ],
   "source": [
    "!ls -lh"
   ]
  },
  {
   "cell_type": "code",
   "execution_count": 5,
   "metadata": {
    "collapsed": false
   },
   "outputs": [
    {
     "name": "stdout",
     "output_type": "stream",
     "text": [
      "  % Total    % Received % Xferd  Average Speed   Time    Time     Time  Current\n",
      "                                 Dload  Upload   Total   Spent    Left  Speed\n",
      "100  548M  100  548M    0     0  23.6M      0  0:00:23  0:00:23 --:--:-- 25.9M\n",
      "  % Total    % Received % Xferd  Average Speed   Time    Time     Time  Current\n",
      "                                 Dload  Upload   Total   Spent    Left  Speed\n",
      "100  764M  100  764M    0     0  13.2M      0  0:00:57  0:00:57 --:--:-- 17.5M\n"
     ]
    }
   ],
   "source": [
    "\n",
    "!curl -O http://owl.fish.washington.edu/nightingales/O_lurida/7_CAGATC_L001_R1_001.fastq.gz\n",
    "!curl -O http://owl.fish.washington.edu/nightingales/O_lurida/8_ACTTGA_L001_R1_001.fastq.gz"
   ]
  },
  {
   "cell_type": "markdown",
   "metadata": {
    "collapsed": true
   },
   "source": [
    "<img src=\"http://eagle.fish.washington.edu/cnidarian/skitch/Whole_genome_BSseq_December_2015_·_RobertsLab_project-olympia_oyster-genomic_Wiki_1DAD4D68.png\" alt=\"Whole_genome_BSseq_December_2015_·_RobertsLab_project-olympia_oyster-genomic_Wiki_1DAD4D68.png\"/>\n"
   ]
  },
  {
   "cell_type": "code",
   "execution_count": 3,
   "metadata": {
    "collapsed": true
   },
   "outputs": [],
   "source": [
    "# Genome"
   ]
  },
  {
   "cell_type": "code",
   "execution_count": 3,
   "metadata": {
    "collapsed": false
   },
   "outputs": [
    {
     "name": "stdout",
     "output_type": "stream",
     "text": [
      "/Volumes/caviar/wd/data\n"
     ]
    }
   ],
   "source": [
    "cd ../data"
   ]
  },
  {
   "cell_type": "code",
   "execution_count": null,
   "metadata": {
    "collapsed": false
   },
   "outputs": [
    {
     "name": "stdout",
     "output_type": "stream",
     "text": [
      "  % Total    % Received % Xferd  Average Speed   Time    Time     Time  Current\n",
      "                                 Dload  Upload   Total   Spent    Left  Speed\n",
      "100  761M  100  761M    0     0  14.3M      0  0:00:53  0:00:53 --:--:-- 15.5M\n"
     ]
    }
   ],
   "source": [
    "!curl -O http://owl.fish.washington.edu/O_lurida_genome_assemblies_BGI/20160512/Ostrea_lurida.scafSeq"
   ]
  },
  {
   "cell_type": "code",
   "execution_count": 6,
   "metadata": {
    "collapsed": false
   },
   "outputs": [
    {
     "name": "stdout",
     "output_type": "stream",
     "text": [
      "MD5 (/Volumes/caviar/wd/data/Ostrea_lurida.scafSeq) = f0a7772d4f1074698b50c913783c6fe2\r\n"
     ]
    }
   ],
   "source": [
    "!md5 /Volumes/caviar/wd/data/O*"
   ]
  },
  {
   "cell_type": "code",
   "execution_count": 8,
   "metadata": {
    "collapsed": false
   },
   "outputs": [
    {
     "name": "stdout",
     "output_type": "stream",
     "text": [
      "  % Total    % Received % Xferd  Average Speed   Time    Time     Time  Current\n",
      "                                 Dload  Upload   Total   Spent    Left  Speed\n",
      "100   913  100   913    0     0   8304      0 --:--:-- --:--:-- --:--:--  8376\n",
      "f0a7772d4f1074698b50c913783c6fe2  Assembly_Result/Ostrea_lurida.scafSeq\n"
     ]
    }
   ],
   "source": [
    "!curl http://owl.fish.washington.edu/O_lurida_genome_assemblies_BGI/20160512/md5.txt | grep scaf"
   ]
  },
  {
   "cell_type": "code",
   "execution_count": 4,
   "metadata": {
    "collapsed": false
   },
   "outputs": [
    {
     "name": "stdout",
     "output_type": "stream",
     "text": [
      "\u001b[34m2016-10-11\u001b[m\u001b[m/ \u001b[34mdata\u001b[m\u001b[m/\r\n"
     ]
    }
   ],
   "source": [
    "ls ../"
   ]
  },
  {
   "cell_type": "code",
   "execution_count": 4,
   "metadata": {
    "collapsed": false
   },
   "outputs": [
    {
     "name": "stdout",
     "output_type": "stream",
     "text": [
      "/Volumes/caviar/wd/2016-10-11\n"
     ]
    }
   ],
   "source": [
    "cd ../2016-10-11/"
   ]
  },
  {
   "cell_type": "code",
   "execution_count": 5,
   "metadata": {
    "collapsed": false
   },
   "outputs": [
    {
     "name": "stdout",
     "output_type": "stream",
     "text": [
      "10_TAGCTT_L001_R1_001.fastq.gz  bsmap_out_M3.sam\r\n",
      "1_ATCACG_L001_R1_001.fastq.gz   methratio_out_M2.txt\r\n",
      "2_CGATGT_L001_R1_001.fastq.gz   methratio_out_M2CG.txt\r\n",
      "3_TTAGGC_L001_R1_001.fastq.gz   methratio_out_M2CGi.txt\r\n",
      "4_TGACCA_L001_R1_001.fastq.gz   methratio_out_M3.txt\r\n",
      "5_ACAGTG_L001_R1_001.fastq.gz   methratio_out_M3CG.txt\r\n",
      "6_GCCAAT_L001_R1_001.fastq.gz   methratio_out_M3CGi.txt\r\n",
      "7_CAGATC_L001_R1_001.fastq.gz   mkfmt_M2.txt\r\n",
      "8_ACTTGA_L001_R1_001.fastq.gz   mkfmt_M3.txt\r\n",
      "9_GATCAG_L001_R1_001.fastq.gz   mkfmti_M2.txt\r\n",
      "M2.fastq.gz                     mkfmti_M3.txt\r\n",
      "M3.fastq.gz                     mr3x.M1.txt\r\n",
      "bsmap_out_1_ATCACG.sam          mr3x.M2.txt\r\n",
      "bsmap_out_2_CGATGT.sam          mr3x.M3.txt\r\n",
      "bsmap_out_3_TTAGGC.sam          mr3xi.M2.txt\r\n",
      "bsmap_out_4_TGACCA.sam          mr3xi.M3.txt\r\n",
      "bsmap_out_M2.sam\r\n"
     ]
    }
   ],
   "source": [
    "ls"
   ]
  },
  {
   "cell_type": "code",
   "execution_count": 12,
   "metadata": {
    "collapsed": false
   },
   "outputs": [
    {
     "name": "stdout",
     "output_type": "stream",
     "text": [
      "  % Total    % Received % Xferd  Average Speed   Time    Time     Time  Current\n",
      "                                 Dload  Upload   Total   Spent    Left  Speed\n",
      "100  619M  100  619M    0     0  51.2M      0  0:00:12  0:00:12 --:--:-- 32.3M\n"
     ]
    }
   ],
   "source": [
    "!curl -O http://owl.fish.washington.edu/nightingales/O_lurida/4_TGACCA_L001_R1_001.fastq.gz"
   ]
  },
  {
   "cell_type": "code",
   "execution_count": null,
   "metadata": {
    "collapsed": true
   },
   "outputs": [],
   "source": [
    "for i in (\"8_ACTTGA\",\"7_CAGATC\",\"6_GCCAAT\",\"5_ACAGTG\",\"4_TGACCA\"):\n",
    "    !{bsmaploc}bsmap \\\n",
    "-a {i}_L001_R1_001.fastq.gz \\\n",
    "-d Ostrea_lurida.scafSeq \\\n",
    "-o bsmap_out_{i}.sam \\\n",
    "-p 8 \\\n",
    "2> bsmap_out_{i}.stderr"
   ]
  },
  {
   "cell_type": "code",
   "execution_count": null,
   "metadata": {
    "collapsed": true
   },
   "outputs": [],
   "source": [
    "#check to se if SE"
   ]
  }
 ],
 "metadata": {
  "anaconda-cloud": {},
  "kernelspec": {
   "display_name": "Python [default]",
   "language": "python",
   "name": "python2"
  },
  "language_info": {
   "codemirror_mode": {
    "name": "ipython",
    "version": 2
   },
   "file_extension": ".py",
   "mimetype": "text/x-python",
   "name": "python",
   "nbconvert_exporter": "python",
   "pygments_lexer": "ipython2",
   "version": "2.7.12"
  }
 },
 "nbformat": 4,
 "nbformat_minor": 0
}
