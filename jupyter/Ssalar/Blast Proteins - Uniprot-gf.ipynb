{
 "cells": [
  {
   "cell_type": "code",
   "execution_count": 1,
   "metadata": {
    "collapsed": false
   },
   "outputs": [
    {
     "name": "stdout",
     "output_type": "stream",
     "text": [
      ">NP_001116995.1 dj-1 protein [Salmo salar]\r\n",
      "METVIPVDVMRRAGIAVTLAGLTGKDPVQCSRDIYLVPDSSLEDARKQGPYDVILLPGGALGAQNLSESPAVKEVLKDQE\r\n",
      "GRKGLIAAICAGPTALLAHGIAYGSTVTTHPGAKDKMMTGGHYTYSEARVQKDCHLITSRGPGTSFEFALAIVEELMGAE\r\n",
      "VAATVKAPLVLKD\r\n",
      ">NP_001116996.1 serine/threonine protein kinase RAF1c [Salmo salar]\r\n",
      "MEHIQGAWKTLSNGLGLKDSGFDDSCMSPTIMKGFPYQRRSSDDGKMADPKTSSTIRVFLPNKQCTVVNARPGMTLHNCL\r\n",
      "IKAMKVXGLQPECCAVFRLHSAQSRKSRMDWNTDATSLIGEELLVDVLDHVPLTTHNFVRNTFLKLAFCDICQKFLLNGF\r\n",
      "RCQTCGYKFHEHCSTKVPTMCVDWSNIRQLLLFPTPGETGGPSLPPLTSRRLRDSLSRFPVRHSTLHAFNQAPGSVLGAG\r\n",
      "PAVLSHRLRSTSTPNVHMVSTTLPLDSTAFKDAMRSHESESPSDLSLTCWSQSVSSRAPAPMHKERAGSSNTQVKNRMRP\r\n",
      "RXKRASSYYWEIEASEVVLQNRIGSGSFGTVYKGKWHGDVAVKILXVVDPTPEQFQAFRNEVAVLRKTRHVNILLFMGYM\r\n"
     ]
    }
   ],
   "source": [
    "!head data/GCF_000233375.1_ICSASG_v2_protein.faa"
   ]
  },
  {
   "cell_type": "code",
   "execution_count": null,
   "metadata": {
    "collapsed": false
   },
   "outputs": [],
   "source": [
    "!/Users/Shared/Apps/ncbi-blast-2.2.29\\+/bin/blastp \\\n",
    "-query data/GCF_000233375.1_ICSASG_v2_protein.faa \\\n",
    "-db /Users/Steven/Documents/git-repos/course-fish546-2016/data/uniprot_sprot_r2016-09 \\\n",
    "-out ../analyses/2016-10-24/ICSASG-blastp-uniprot01.tab \\\n",
    "-num_threads 4 \\\n",
    "-max_target_seqs 1 \\\n",
    "-max_hsps 1 \\\n",
    "-outfmt 6\n",
    "\n"
   ]
  },
  {
   "cell_type": "code",
   "execution_count": null,
   "metadata": {
    "collapsed": true
   },
   "outputs": [],
   "source": []
  }
 ],
 "metadata": {
  "anaconda-cloud": {},
  "kernelspec": {
   "display_name": "Python [conda root]",
   "language": "python",
   "name": "conda-root-py"
  },
  "language_info": {
   "codemirror_mode": {
    "name": "ipython",
    "version": 2
   },
   "file_extension": ".py",
   "mimetype": "text/x-python",
   "name": "python",
   "nbconvert_exporter": "python",
   "pygments_lexer": "ipython2",
   "version": "2.7.12"
  }
 },
 "nbformat": 4,
 "nbformat_minor": 1
}
