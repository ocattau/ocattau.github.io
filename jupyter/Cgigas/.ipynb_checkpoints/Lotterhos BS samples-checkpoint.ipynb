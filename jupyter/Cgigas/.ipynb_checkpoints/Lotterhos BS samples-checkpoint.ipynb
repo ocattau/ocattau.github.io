{
 "cells": [
  {
   "cell_type": "markdown",
   "metadata": {},
   "source": [
    "# Analysis of two oyster samples where Lotterhos did methylRAD"
   ]
  },
  {
   "cell_type": "markdown",
   "metadata": {},
   "source": [
    "The M2 and M3 samples are here:\n",
    "\n",
    "http://owl.fish.washington.edu/nightingales/C_gigas/9_GATCAG_L001_R1_001.fastq.gz\n",
    "http://owl.fish.washington.edu/nightingales/C_gigas/10_TAGCTT_L001_R1_001.fastq.gz\n",
    "\n"
   ]
  },
  {
   "cell_type": "code",
   "execution_count": 40,
   "metadata": {
    "collapsed": false
   },
   "outputs": [],
   "source": [
    "bsmaploc=\"/Applications/bioinfo/BSMAP/bsmap-2.74/\"\n"
   ]
  },
  {
   "cell_type": "markdown",
   "metadata": {},
   "source": [
    "## Genome version"
   ]
  },
  {
   "cell_type": "code",
   "execution_count": 12,
   "metadata": {
    "collapsed": false
   },
   "outputs": [
    {
     "name": "stdout",
     "output_type": "stream",
     "text": [
      "  % Total    % Received % Xferd  Average Speed   Time    Time     Time  Current\n",
      "                                 Dload  Upload   Total   Spent    Left  Speed\n",
      "100  148M  100  148M    0     0  5192k      0  0:00:29  0:00:29 --:--:-- 5790k\n"
     ]
    }
   ],
   "source": [
    "!curl \\\n",
    "ftp://ftp.ensemblgenomes.org/pub/release-32/metazoa/fasta/crassostrea_gigas/dna/Crassostrea_gigas.GCA_000297895.1.dna_sm.toplevel.fa.gz \\\n",
    "> /Volumes/caviar/wd/data/Crassostrea_gigas.GCAz_000297895.1.dna_sm.toplevel.fa.gz    "
   ]
  },
  {
   "cell_type": "code",
   "execution_count": 7,
   "metadata": {
    "collapsed": false
   },
   "outputs": [
    {
     "name": "stdout",
     "output_type": "stream",
     "text": [
      "08778 148199 Crassostrea_gigas.GCA_000297895.1.dna.nonchromosomal.fa.gz\r\n",
      "08778 148199 Crassostrea_gigas.GCA_000297895.1.dna.toplevel.fa.gz\r\n",
      "57175 143732 Crassostrea_gigas.GCA_000297895.1.dna_rm.nonchromosomal.fa.gz\r\n",
      "57175 143732 Crassostrea_gigas.GCA_000297895.1.dna_rm.toplevel.fa.gz\r\n",
      "45604 151782 Crassostrea_gigas.GCA_000297895.1.dna_sm.nonchromosomal.fa.gz\r\n",
      "45604 151782 Crassostrea_gigas.GCA_000297895.1.dna_sm.toplevel.fa.gz\r\n",
      "62118     5 README\r\n"
     ]
    }
   ],
   "source": [
    "!curl ftp://ftp.ensemblgenomes.org/pub/release-32/metazoa/fasta/crassostrea_gigas/dna/CHECKSUMS "
   ]
  },
  {
   "cell_type": "code",
   "execution_count": 13,
   "metadata": {
    "collapsed": false
   },
   "outputs": [
    {
     "name": "stdout",
     "output_type": "stream",
     "text": [
      "Crassostrea_gigas.GCAz_000297895.1.dna_sm.toplevel.fa.gz\r\n"
     ]
    }
   ],
   "source": [
    "!ls /Volumes/caviar/wd/data/"
   ]
  },
  {
   "cell_type": "code",
   "execution_count": 14,
   "metadata": {
    "collapsed": false
   },
   "outputs": [
    {
     "name": "stdout",
     "output_type": "stream",
     "text": [
      "MD5 (/Volumes/caviar/wd/data/Crassostrea_gigas.GCAz_000297895.1.dna_sm.toplevel.fa.gz) = c70084d76bd6d7a1ba52c13843e69ccc\r\n"
     ]
    }
   ],
   "source": [
    "!md5 /Volumes/caviar/wd/data/Crassostrea_gigas.GCAz_000297895.1.dna_sm.toplevel.fa.gz"
   ]
  },
  {
   "cell_type": "code",
   "execution_count": 17,
   "metadata": {
    "collapsed": false
   },
   "outputs": [
    {
     "name": "stdout",
     "output_type": "stream",
     "text": [
      "/Volumes/caviar/wd\n"
     ]
    }
   ],
   "source": [
    "cd /Volumes/caviar/wd/"
   ]
  },
  {
   "cell_type": "code",
   "execution_count": 22,
   "metadata": {
    "collapsed": true
   },
   "outputs": [],
   "source": [
    "mkdir $(date +%F)"
   ]
  },
  {
   "cell_type": "code",
   "execution_count": 24,
   "metadata": {
    "collapsed": false
   },
   "outputs": [
    {
     "name": "stdout",
     "output_type": "stream",
     "text": [
      "\u001b[34m2016-10-11\u001b[m\u001b[m/ \u001b[34mdata\u001b[m\u001b[m/\r\n"
     ]
    }
   ],
   "source": [
    "ls"
   ]
  },
  {
   "cell_type": "code",
   "execution_count": null,
   "metadata": {
    "collapsed": true
   },
   "outputs": [],
   "source": [
    "ls /Volumes/web/nightingales/C"
   ]
  },
  {
   "cell_type": "code",
   "execution_count": 28,
   "metadata": {
    "collapsed": false
   },
   "outputs": [
    {
     "name": "stdout",
     "output_type": "stream",
     "text": [
      "  % Total    % Received % Xferd  Average Speed   Time    Time     Time  Current\n",
      "                                 Dload  Upload   Total   Spent    Left  Speed\n",
      "100  560M  100  560M    0     0  55.6M      0  0:00:10  0:00:10 --:--:-- 77.8M\n"
     ]
    }
   ],
   "source": [
    "!curl \\\n",
    "http://owl.fish.washington.edu/nightingales/C_gigas/9_GATCAG_L001_R1_001.fastq.gz \\\n",
    "> /Volumes/caviar/wd/2016-10-11/9_GATCAG_L001_R1_001.fastq.gz"
   ]
  },
  {
   "cell_type": "code",
   "execution_count": 32,
   "metadata": {
    "collapsed": false
   },
   "outputs": [
    {
     "name": "stdout",
     "output_type": "stream",
     "text": [
      "  % Total    % Received % Xferd  Average Speed   Time    Time     Time  Current\n",
      "                                 Dload  Upload   Total   Spent    Left  Speed\n",
      "100  619M  100  619M    0     0  46.1M      0  0:00:13  0:00:13 --:--:-- 44.0M\n"
     ]
    }
   ],
   "source": [
    "!curl \\\n",
    "http://owl.fish.washington.edu/nightingales/C_gigas/10_TAGCTT_L001_R1_001.fastq.gz \\\n",
    "> /Volumes/caviar/wd/2016-10-11/10_TAGCTT_L001_R1_001.fastq.gz"
   ]
  },
  {
   "cell_type": "code",
   "execution_count": 36,
   "metadata": {
    "collapsed": false
   },
   "outputs": [
    {
     "name": "stdout",
     "output_type": "stream",
     "text": [
      "/Volumes/caviar/wd/2016-10-11\n"
     ]
    }
   ],
   "source": [
    "cd 2016-10-11/"
   ]
  },
  {
   "cell_type": "code",
   "execution_count": 38,
   "metadata": {
    "collapsed": false
   },
   "outputs": [],
   "source": [
    "!cp 9_GATCAG_L001_R1_001.fastq.gz M2.fastq.gz"
   ]
  },
  {
   "cell_type": "code",
   "execution_count": 39,
   "metadata": {
    "collapsed": true
   },
   "outputs": [],
   "source": [
    "!cp 10_TAGCTT_L001_R1_001.fastq.gz M3.fastq.gz"
   ]
  },
  {
   "cell_type": "code",
   "execution_count": 41,
   "metadata": {
    "collapsed": false,
    "scrolled": true
   },
   "outputs": [
    {
     "name": "stdout",
     "output_type": "stream",
     "text": [
      "\n",
      "BSMAP v2.74\n",
      "Start at:  Tue Oct 11 08:02:27 2016\n",
      "\n",
      "Input reference file: ../data/Crassostrea_gigas.GCAz_000297895.1.dna_sm.toplevel.fa \t(format: FASTA)\n",
      "Load in 7658 db seqs, total size 557717710 bp. 8 secs passed\n",
      "total_kmers: 43046721\n",
      "Create seed table. 24 secs passed\n",
      "max number of mismatches: read_length * 8% \tmax gap size: 0\n",
      "kmer cut-off ratio: 5e-07\n",
      "max multi-hits: 100\tmax Ns: 5\tseed size: 16\tindex interval: 4\n",
      "quality cutoff: 0\tbase quality char: '!'\n",
      "min fragment size:28\tmax fragemt size:500\n",
      "start from read #1\tend at read #4294967295\n",
      "additional alignment: T in reads => C in reference\n",
      "mapping strand: ++,-+\n",
      "Single-end alignment(6 threads)\n",
      "Input read file: M2.fastq.gz \t(format: gzipped FASTQ)\n",
      "Output file: bsmap_out_M2.sam\t (format: SAM)\n",
      "Thread #1: \t100000 reads finished. 30 secs passed\n",
      "Thread #0: \t50000 reads finished. 30 secs passed\n",
      "Thread #2: \t150000 reads finished. 31 secs passed\n",
      "Thread #3: \t200000 reads finished. 31 secs passed\n",
      "Thread #5: \t250000 reads finished. 31 secs passed\n",
      "Thread #4: \t300000 reads finished. 31 secs passed\n",
      "Thread #1: \t350000 reads finished. 36 secs passed\n",
      "Thread #0: \t400000 reads finished. 36 secs passed\n",
      "Thread #2: \t450000 reads finished. 36 secs passed\n",
      "Thread #3: \t500000 reads finished. 36 secs passed\n",
      "Thread #5: \t550000 reads finished. 37 secs passed\n",
      "Thread #4: \t600000 reads finished. 37 secs passed\n",
      "Thread #1: \t650000 reads finished. 42 secs passed\n",
      "Thread #2: \t750000 reads finished. 42 secs passed\n",
      "Thread #0: \t700000 reads finished. 42 secs passed\n",
      "Thread #3: \t800000 reads finished. 42 secs passed\n",
      "Thread #5: \t850000 reads finished. 42 secs passed\n",
      "Thread #4: \t900000 reads finished. 43 secs passed\n",
      "Thread #1: \t950000 reads finished. 48 secs passed\n",
      "Thread #2: \t1000000 reads finished. 48 secs passed\n",
      "Thread #3: \t1100000 reads finished. 48 secs passed\n",
      "Thread #0: \t1050000 reads finished. 49 secs passed\n",
      "Thread #5: \t1150000 reads finished. 49 secs passed\n",
      "Thread #4: \t1200000 reads finished. 49 secs passed\n",
      "Thread #1: \t1250000 reads finished. 54 secs passed\n",
      "Thread #2: \t1300000 reads finished. 54 secs passed\n",
      "Thread #3: \t1350000 reads finished. 55 secs passed\n",
      "Thread #5: \t1450000 reads finished. 55 secs passed\n",
      "Thread #4: \t1500000 reads finished. 55 secs passed\n",
      "Thread #0: \t1400000 reads finished. 55 secs passed\n",
      "Thread #1: \t1550000 reads finished. 60 secs passed\n",
      "Thread #2: \t1600000 reads finished. 60 secs passed\n",
      "Thread #3: \t1650000 reads finished. 61 secs passed\n",
      "Thread #4: \t1750000 reads finished. 61 secs passed\n",
      "Thread #5: \t1700000 reads finished. 61 secs passed\n",
      "Thread #0: \t1800000 reads finished. 61 secs passed\n",
      "Thread #1: \t1850000 reads finished. 67 secs passed\n",
      "Thread #2: \t1900000 reads finished. 67 secs passed\n",
      "Thread #3: \t1950000 reads finished. 68 secs passed\n",
      "Thread #4: \t2000000 reads finished. 68 secs passed\n",
      "Thread #5: \t2050000 reads finished. 68 secs passed\n",
      "Thread #0: \t2100000 reads finished. 68 secs passed\n",
      "Thread #1: \t2150000 reads finished. 73 secs passed\n",
      "Thread #2: \t2200000 reads finished. 74 secs passed\n",
      "Thread #3: \t2250000 reads finished. 74 secs passed\n",
      "Thread #4: \t2300000 reads finished. 74 secs passed\n",
      "Thread #5: \t2350000 reads finished. 74 secs passed\n",
      "Thread #0: \t2400000 reads finished. 75 secs passed\n",
      "Thread #1: \t2450000 reads finished. 80 secs passed\n",
      "Thread #2: \t2500000 reads finished. 80 secs passed\n",
      "Thread #3: \t2550000 reads finished. 80 secs passed\n",
      "Thread #4: \t2600000 reads finished. 81 secs passed\n",
      "Thread #5: \t2650000 reads finished. 81 secs passed\n",
      "Thread #0: \t2700000 reads finished. 81 secs passed\n",
      "Thread #2: \t2800000 reads finished. 86 secs passed\n",
      "Thread #1: \t2750000 reads finished. 86 secs passed\n",
      "Thread #3: \t2850000 reads finished. 86 secs passed\n",
      "Thread #4: \t2900000 reads finished. 87 secs passed\n",
      "Thread #5: \t2950000 reads finished. 87 secs passed\n",
      "Thread #0: \t3000000 reads finished. 88 secs passed\n",
      "Thread #2: \t3050000 reads finished. 92 secs passed\n",
      "Thread #1: \t3100000 reads finished. 92 secs passed\n",
      "Thread #3: \t3150000 reads finished. 92 secs passed\n",
      "Thread #4: \t3200000 reads finished. 92 secs passed\n",
      "Thread #5: \t3250000 reads finished. 93 secs passed\n",
      "Thread #0: \t3300000 reads finished. 94 secs passed\n",
      "Thread #2: \t3350000 reads finished. 98 secs passed\n",
      "Thread #1: \t3400000 reads finished. 98 secs passed\n",
      "Thread #3: \t3450000 reads finished. 98 secs passed\n",
      "Thread #4: \t3500000 reads finished. 98 secs passed\n",
      "Thread #5: \t3550000 reads finished. 99 secs passed\n",
      "Thread #0: \t3600000 reads finished. 100 secs passed\n",
      "Thread #2: \t3650000 reads finished. 104 secs passed\n",
      "Thread #1: \t3700000 reads finished. 104 secs passed\n",
      "Thread #3: \t3750000 reads finished. 104 secs passed\n",
      "Thread #4: \t3800000 reads finished. 104 secs passed\n",
      "Thread #5: \t3850000 reads finished. 105 secs passed\n",
      "Thread #0: \t3900000 reads finished. 106 secs passed\n",
      "Thread #2: \t3950000 reads finished. 110 secs passed\n",
      "Thread #1: \t4000000 reads finished. 110 secs passed\n",
      "Thread #3: \t4050000 reads finished. 110 secs passed\n",
      "Thread #4: \t4100000 reads finished. 110 secs passed\n",
      "Thread #5: \t4150000 reads finished. 111 secs passed\n",
      "Thread #0: \t4200000 reads finished. 112 secs passed\n",
      "Thread #2: \t4250000 reads finished. 116 secs passed\n",
      "Thread #1: \t4300000 reads finished. 116 secs passed\n",
      "Thread #3: \t4350000 reads finished. 116 secs passed\n",
      "Thread #4: \t4400000 reads finished. 117 secs passed\n",
      "Thread #5: \t4450000 reads finished. 117 secs passed\n",
      "Thread #0: \t4500000 reads finished. 119 secs passed\n",
      "Thread #2: \t4550000 reads finished. 122 secs passed\n",
      "Thread #1: \t4600000 reads finished. 122 secs passed\n",
      "Thread #3: \t4650000 reads finished. 122 secs passed\n",
      "Thread #4: \t4700000 reads finished. 123 secs passed\n",
      "Thread #5: \t4750000 reads finished. 123 secs passed\n",
      "Thread #0: \t4800000 reads finished. 125 secs passed\n",
      "Thread #2: \t4850000 reads finished. 128 secs passed\n",
      "Thread #1: \t4900000 reads finished. 128 secs passed\n",
      "Thread #3: \t4950000 reads finished. 129 secs passed\n",
      "Thread #4: \t5000000 reads finished. 129 secs passed\n",
      "Thread #5: \t5050000 reads finished. 129 secs passed\n",
      "Thread #0: \t5100000 reads finished. 131 secs passed\n",
      "Thread #2: \t5150000 reads finished. 134 secs passed\n",
      "Thread #1: \t5200000 reads finished. 134 secs passed\n",
      "Thread #3: \t5250000 reads finished. 134 secs passed\n",
      "Thread #4: \t5300000 reads finished. 135 secs passed\n",
      "Thread #5: \t5350000 reads finished. 135 secs passed\n",
      "Thread #0: \t5400000 reads finished. 137 secs passed\n",
      "Thread #2: \t5450000 reads finished. 140 secs passed\n",
      "Thread #1: \t5500000 reads finished. 140 secs passed\n",
      "Thread #3: \t5550000 reads finished. 141 secs passed\n",
      "Thread #4: \t5600000 reads finished. 141 secs passed\n",
      "Thread #5: \t5650000 reads finished. 141 secs passed\n",
      "Thread #0: \t5700000 reads finished. 143 secs passed\n",
      "Thread #2: \t5750000 reads finished. 147 secs passed\n",
      "Thread #1: \t5800000 reads finished. 147 secs passed\n",
      "Thread #3: \t5850000 reads finished. 147 secs passed\n",
      "Thread #4: \t5900000 reads finished. 147 secs passed\n",
      "Thread #5: \t5950000 reads finished. 148 secs passed\n",
      "Thread #0: \t6000000 reads finished. 150 secs passed\n",
      "Thread #2: \t6050000 reads finished. 153 secs passed\n",
      "Thread #1: \t6100000 reads finished. 153 secs passed\n",
      "Thread #3: \t6150000 reads finished. 153 secs passed\n",
      "Thread #4: \t6200000 reads finished. 153 secs passed\n",
      "Thread #5: \t6250000 reads finished. 154 secs passed\n",
      "Thread #0: \t6300000 reads finished. 156 secs passed\n",
      "Thread #1: \t6400000 reads finished. 160 secs passed\n",
      "Thread #2: \t6350000 reads finished. 160 secs passed\n",
      "Thread #4: \t6500000 reads finished. 160 secs passed\n",
      "Thread #3: \t6450000 reads finished. 160 secs passed\n",
      "Thread #5: \t6550000 reads finished. 161 secs passed\n",
      "Thread #0: \t6600000 reads finished. 164 secs passed\n",
      "Thread #1: \t6650000 reads finished. 166 secs passed\n",
      "Thread #4: \t6750000 reads finished. 167 secs passed\n",
      "Thread #2: \t6700000 reads finished. 167 secs passed\n",
      "Thread #3: \t6800000 reads finished. 167 secs passed\n",
      "Thread #5: \t6850000 reads finished. 168 secs passed\n",
      "Thread #0: \t6900000 reads finished. 171 secs passed\n",
      "Thread #1: \t6950000 reads finished. 173 secs passed\n",
      "Thread #2: \t7050000 reads finished. 174 secs passed\n",
      "Thread #4: \t7000000 reads finished. 174 secs passed\n",
      "Thread #3: \t7100000 reads finished. 174 secs passed\n",
      "Thread #5: \t7150000 reads finished. 174 secs passed\n",
      "Thread #0: \t7200000 reads finished. 177 secs passed\n",
      "Thread #1: \t7250000 reads finished. 179 secs passed\n",
      "Thread #2: \t7300000 reads finished. 180 secs passed\n",
      "Thread #4: \t7350000 reads finished. 180 secs passed\n",
      "Thread #3: \t7400000 reads finished. 180 secs passed\n",
      "Thread #5: \t7450000 reads finished. 180 secs passed\n",
      "Thread #0: \t7500000 reads finished. 184 secs passed\n",
      "Thread #1: \t7550000 reads finished. 186 secs passed\n",
      "Thread #2: \t7600000 reads finished. 186 secs passed\n",
      "Thread #4: \t7650000 reads finished. 187 secs passed\n",
      "Thread #3: \t7700000 reads finished. 187 secs passed\n",
      "Thread #5: \t7750000 reads finished. 187 secs passed\n",
      "Thread #0: \t7800000 reads finished. 191 secs passed\n",
      "Thread #1: \t7850000 reads finished. 193 secs passed\n",
      "Thread #2: \t7900000 reads finished. 193 secs passed\n",
      "Thread #4: \t7950000 reads finished. 193 secs passed\n",
      "Thread #3: \t8000000 reads finished. 193 secs passed\n",
      "Thread #5: \t8050000 reads finished. 193 secs passed\n",
      "Thread #0: \t8100000 reads finished. 196 secs passed\n",
      "Thread #1: \t8150000 reads finished. 198 secs passed\n",
      "Thread #2: \t8200000 reads finished. 199 secs passed\n",
      "Thread #4: \t8250000 reads finished. 199 secs passed\n",
      "Thread #3: \t8300000 reads finished. 199 secs passed\n",
      "Thread #5: \t8350000 reads finished. 199 secs passed\n",
      "Thread #0: \t8400000 reads finished. 203 secs passed\n",
      "Thread #1: \t8450000 reads finished. 205 secs passed\n",
      "Thread #2: \t8500000 reads finished. 205 secs passed\n",
      "Thread #4: \t8550000 reads finished. 205 secs passed\n",
      "Thread #5: \t8650000 reads finished. 205 secs passed\n",
      "Thread #3: \t8600000 reads finished. 205 secs passed\n",
      "Thread #0: \t8700000 reads finished. 209 secs passed\n",
      "Thread #1: \t8750000 reads finished. 210 secs passed\n",
      "Thread #2: \t8800000 reads finished. 211 secs passed\n",
      "Thread #4: \t8850000 reads finished. 211 secs passed\n",
      "Thread #5: \t8900000 reads finished. 211 secs passed\n",
      "Thread #3: \t8950000 reads finished. 211 secs passed\n",
      "Thread #0: \t9000000 reads finished. 215 secs passed\n",
      "Thread #1: \t9050000 reads finished. 216 secs passed\n",
      "Thread #2: \t9100000 reads finished. 217 secs passed\n",
      "Thread #4: \t9150000 reads finished. 217 secs passed\n",
      "Thread #5: \t9200000 reads finished. 217 secs passed\n",
      "Thread #3: \t9250000 reads finished. 217 secs passed\n",
      "Thread #0: \t9300000 reads finished. 221 secs passed\n",
      "Thread #1: \t9350000 reads finished. 222 secs passed\n",
      "Thread #2: \t9400000 reads finished. 223 secs passed\n",
      "Thread #4: \t9450000 reads finished. 223 secs passed\n",
      "Thread #5: \t9500000 reads finished. 223 secs passed\n",
      "Thread #3: \t9550000 reads finished. 223 secs passed\n",
      "Thread #0: \t9600000 reads finished. 227 secs passed\n",
      "Thread #1: \t9650000 reads finished. 228 secs passed\n",
      "Thread #2: \t9700000 reads finished. 228 secs passed\n",
      "Thread #4: \t9750000 reads finished. 229 secs passed\n",
      "Thread #5: \t9800000 reads finished. 229 secs passed\n",
      "Thread #3: \t9850000 reads finished. 229 secs passed\n",
      "Thread #0: \t9900000 reads finished. 233 secs passed\n",
      "Thread #1: \t9950000 reads finished. 234 secs passed\n",
      "Thread #2: \t10000000 reads finished. 235 secs passed\n",
      "Thread #4: \t10050000 reads finished. 235 secs passed\n",
      "Thread #5: \t10100000 reads finished. 235 secs passed\n",
      "Thread #3: \t10150000 reads finished. 235 secs passed\n",
      "Thread #0: \t10200000 reads finished. 239 secs passed\n",
      "Thread #1: \t10250000 reads finished. 240 secs passed\n",
      "Thread #2: \t10300000 reads finished. 241 secs passed\n",
      "Thread #4: \t10350000 reads finished. 241 secs passed\n",
      "Thread #5: \t10400000 reads finished. 241 secs passed\n",
      "Thread #3: \t10450000 reads finished. 241 secs passed\n",
      "Thread #2: \t10564512 reads finished. 242 secs passed\n",
      "Thread #0: \t10500000 reads finished. 244 secs passed\n",
      "Thread #1: \t10550000 reads finished. 244 secs passed\n",
      "Total number of aligned reads: 7966031 (75%)\n",
      "Done.\n",
      "Finished at Tue Oct 11 08:06:32 2016\n",
      "Total time consumed:  245 secs\n",
      "\n",
      "BSMAP v2.74\n",
      "Start at:  Tue Oct 11 08:06:32 2016\n",
      "\n",
      "Input reference file: ../data/Crassostrea_gigas.GCAz_000297895.1.dna_sm.toplevel.fa \t(format: FASTA)\n",
      "Load in 7658 db seqs, total size 557717710 bp. 6 secs passed\n",
      "total_kmers: 43046721\n",
      "Create seed table. 22 secs passed\n",
      "max number of mismatches: read_length * 8% \tmax gap size: 0\n",
      "kmer cut-off ratio: 5e-07\n",
      "max multi-hits: 100\tmax Ns: 5\tseed size: 16\tindex interval: 4\n",
      "quality cutoff: 0\tbase quality char: '!'\n",
      "min fragment size:28\tmax fragemt size:500\n",
      "start from read #1\tend at read #4294967295\n",
      "additional alignment: T in reads => C in reference\n",
      "mapping strand: ++,-+\n",
      "Single-end alignment(6 threads)\n",
      "Input read file: M3.fastq.gz \t(format: gzipped FASTQ)\n",
      "Output file: bsmap_out_M3.sam\t (format: SAM)\n",
      "Thread #2: \t50000 reads finished. 28 secs passed\n",
      "Thread #0: \t100000 reads finished. 28 secs passed\n",
      "Thread #4: \t150000 reads finished. 28 secs passed\n",
      "Thread #3: \t200000 reads finished. 28 secs passed\n",
      "Thread #1: \t300000 reads finished. 28 secs passed\n",
      "Thread #5: \t250000 reads finished. 28 secs passed\n",
      "Thread #2: \t350000 reads finished. 33 secs passed\n",
      "Thread #0: \t400000 reads finished. 33 secs passed\n",
      "Thread #4: \t450000 reads finished. 34 secs passed\n",
      "Thread #3: \t500000 reads finished. 34 secs passed\n",
      "Thread #1: \t550000 reads finished. 34 secs passed\n",
      "Thread #5: \t600000 reads finished. 34 secs passed\n",
      "Thread #2: \t650000 reads finished. 39 secs passed\n",
      "Thread #0: \t700000 reads finished. 39 secs passed\n",
      "Thread #4: \t750000 reads finished. 39 secs passed\n",
      "Thread #3: \t800000 reads finished. 39 secs passed\n",
      "Thread #1: \t850000 reads finished. 39 secs passed\n",
      "Thread #5: \t900000 reads finished. 40 secs passed\n",
      "Thread #2: \t950000 reads finished. 45 secs passed\n",
      "Thread #0: \t1000000 reads finished. 45 secs passed\n",
      "Thread #4: \t1050000 reads finished. 45 secs passed\n",
      "Thread #3: \t1100000 reads finished. 45 secs passed\n",
      "Thread #1: \t1150000 reads finished. 45 secs passed\n",
      "Thread #5: \t1200000 reads finished. 45 secs passed\n",
      "Thread #2: \t1250000 reads finished. 50 secs passed\n",
      "Thread #0: \t1300000 reads finished. 50 secs passed\n",
      "Thread #4: \t1350000 reads finished. 51 secs passed\n",
      "Thread #3: \t1400000 reads finished. 51 secs passed\n",
      "Thread #1: \t1450000 reads finished. 51 secs passed\n",
      "Thread #5: \t1500000 reads finished. 51 secs passed\n",
      "Thread #2: \t1550000 reads finished. 56 secs passed\n",
      "Thread #0: \t1600000 reads finished. 56 secs passed\n",
      "Thread #4: \t1650000 reads finished. 57 secs passed\n",
      "Thread #3: \t1700000 reads finished. 57 secs passed\n",
      "Thread #1: \t1750000 reads finished. 57 secs passed\n",
      "Thread #5: \t1800000 reads finished. 57 secs passed\n",
      "Thread #2: \t1850000 reads finished. 62 secs passed\n",
      "Thread #0: \t1900000 reads finished. 62 secs passed\n",
      "Thread #4: \t1950000 reads finished. 62 secs passed\n",
      "Thread #3: \t2000000 reads finished. 62 secs passed\n",
      "Thread #1: \t2050000 reads finished. 63 secs passed\n",
      "Thread #5: \t2100000 reads finished. 63 secs passed\n",
      "Thread #2: \t2150000 reads finished. 68 secs passed\n",
      "Thread #0: \t2200000 reads finished. 68 secs passed\n",
      "Thread #4: \t2250000 reads finished. 68 secs passed\n",
      "Thread #3: \t2300000 reads finished. 68 secs passed\n",
      "Thread #1: \t2350000 reads finished. 68 secs passed\n",
      "Thread #5: \t2400000 reads finished. 69 secs passed\n",
      "Thread #2: \t2450000 reads finished. 73 secs passed\n",
      "Thread #0: \t2500000 reads finished. 73 secs passed\n",
      "Thread #4: \t2550000 reads finished. 74 secs passed\n",
      "Thread #3: \t2600000 reads finished. 74 secs passed\n",
      "Thread #1: \t2650000 reads finished. 74 secs passed\n",
      "Thread #5: \t2700000 reads finished. 74 secs passed\n",
      "Thread #2: \t2750000 reads finished. 79 secs passed\n",
      "Thread #0: \t2800000 reads finished. 79 secs passed\n",
      "Thread #4: \t2850000 reads finished. 79 secs passed\n",
      "Thread #3: \t2900000 reads finished. 79 secs passed\n",
      "Thread #1: \t2950000 reads finished. 80 secs passed\n",
      "Thread #5: \t3000000 reads finished. 80 secs passed\n",
      "Thread #2: \t3050000 reads finished. 85 secs passed\n",
      "Thread #0: \t3100000 reads finished. 85 secs passed\n",
      "Thread #4: \t3150000 reads finished. 85 secs passed\n",
      "Thread #3: \t3200000 reads finished. 85 secs passed\n",
      "Thread #1: \t3250000 reads finished. 85 secs passed\n",
      "Thread #5: \t3300000 reads finished. 86 secs passed\n",
      "Thread #2: \t3350000 reads finished. 90 secs passed\n",
      "Thread #0: \t3400000 reads finished. 91 secs passed\n",
      "Thread #4: \t3450000 reads finished. 91 secs passed\n",
      "Thread #3: \t3500000 reads finished. 91 secs passed\n",
      "Thread #1: \t3550000 reads finished. 91 secs passed\n",
      "Thread #5: \t3600000 reads finished. 92 secs passed\n",
      "Thread #2: \t3650000 reads finished. 96 secs passed\n",
      "Thread #0: \t3700000 reads finished. 96 secs passed\n",
      "Thread #4: \t3750000 reads finished. 97 secs passed\n",
      "Thread #3: \t3800000 reads finished. 97 secs passed\n",
      "Thread #1: \t3850000 reads finished. 97 secs passed\n",
      "Thread #5: \t3900000 reads finished. 97 secs passed\n",
      "Thread #2: \t3950000 reads finished. 102 secs passed\n",
      "Thread #0: \t4000000 reads finished. 102 secs passed\n",
      "Thread #4: \t4050000 reads finished. 103 secs passed\n",
      "Thread #3: \t4100000 reads finished. 103 secs passed\n",
      "Thread #1: \t4150000 reads finished. 103 secs passed\n",
      "Thread #5: \t4200000 reads finished. 104 secs passed\n",
      "Thread #2: \t4250000 reads finished. 108 secs passed\n",
      "Thread #0: \t4300000 reads finished. 108 secs passed\n",
      "Thread #4: \t4350000 reads finished. 108 secs passed\n",
      "Thread #3: \t4400000 reads finished. 109 secs passed\n",
      "Thread #1: \t4450000 reads finished. 109 secs passed\n",
      "Thread #5: \t4500000 reads finished. 109 secs passed\n",
      "Thread #2: \t4550000 reads finished. 114 secs passed\n",
      "Thread #0: \t4600000 reads finished. 114 secs passed\n",
      "Thread #4: \t4650000 reads finished. 115 secs passed\n",
      "Thread #3: \t4700000 reads finished. 115 secs passed\n",
      "Thread #1: \t4750000 reads finished. 115 secs passed\n",
      "Thread #5: \t4800000 reads finished. 116 secs passed\n",
      "Thread #2: \t4850000 reads finished. 120 secs passed\n",
      "Thread #0: \t4900000 reads finished. 120 secs passed\n",
      "Thread #4: \t4950000 reads finished. 121 secs passed\n",
      "Thread #3: \t5000000 reads finished. 121 secs passed\n",
      "Thread #1: \t5050000 reads finished. 121 secs passed\n",
      "Thread #5: \t5100000 reads finished. 121 secs passed\n",
      "Thread #2: \t5150000 reads finished. 125 secs passed\n",
      "Thread #0: \t5200000 reads finished. 126 secs passed\n",
      "Thread #4: \t5250000 reads finished. 126 secs passed\n",
      "Thread #3: \t5300000 reads finished. 126 secs passed\n",
      "Thread #1: \t5350000 reads finished. 126 secs passed\n",
      "Thread #5: \t5400000 reads finished. 127 secs passed\n",
      "Thread #2: \t5450000 reads finished. 132 secs passed\n",
      "Thread #0: \t5500000 reads finished. 132 secs passed\n",
      "Thread #4: \t5550000 reads finished. 132 secs passed\n",
      "Thread #3: \t5600000 reads finished. 132 secs passed\n",
      "Thread #1: \t5650000 reads finished. 133 secs passed\n",
      "Thread #5: \t5700000 reads finished. 133 secs passed\n",
      "Thread #2: \t5750000 reads finished. 138 secs passed\n",
      "Thread #0: \t5800000 reads finished. 138 secs passed\n",
      "Thread #4: \t5850000 reads finished. 139 secs passed\n",
      "Thread #3: \t5900000 reads finished. 139 secs passed\n",
      "Thread #1: \t5950000 reads finished. 139 secs passed\n",
      "Thread #5: \t6000000 reads finished. 140 secs passed\n",
      "Thread #2: \t6050000 reads finished. 145 secs passed\n",
      "Thread #0: \t6100000 reads finished. 145 secs passed\n",
      "Thread #4: \t6150000 reads finished. 146 secs passed\n",
      "Thread #3: \t6200000 reads finished. 146 secs passed\n",
      "Thread #1: \t6250000 reads finished. 146 secs passed\n",
      "Thread #5: \t6300000 reads finished. 147 secs passed\n",
      "Thread #2: \t6350000 reads finished. 151 secs passed\n",
      "Thread #0: \t6400000 reads finished. 152 secs passed\n",
      "Thread #4: \t6450000 reads finished. 152 secs passed\n",
      "Thread #3: \t6500000 reads finished. 152 secs passed\n",
      "Thread #1: \t6550000 reads finished. 152 secs passed\n",
      "Thread #5: \t6600000 reads finished. 153 secs passed\n",
      "Thread #2: \t6650000 reads finished. 158 secs passed\n",
      "Thread #0: \t6700000 reads finished. 159 secs passed\n",
      "Thread #4: \t6750000 reads finished. 159 secs passed\n",
      "Thread #3: \t6800000 reads finished. 159 secs passed\n",
      "Thread #1: \t6850000 reads finished. 159 secs passed\n",
      "Thread #5: \t6900000 reads finished. 160 secs passed\n",
      "Thread #2: \t6950000 reads finished. 165 secs passed\n",
      "Thread #0: \t7000000 reads finished. 166 secs passed\n",
      "Thread #4: \t7050000 reads finished. 166 secs passed\n",
      "Thread #1: \t7150000 reads finished. 166 secs passed\n",
      "Thread #3: \t7100000 reads finished. 166 secs passed\n",
      "Thread #5: \t7200000 reads finished. 167 secs passed\n",
      "Thread #2: \t7250000 reads finished. 171 secs passed\n",
      "Thread #0: \t7300000 reads finished. 172 secs passed\n",
      "Thread #4: \t7350000 reads finished. 172 secs passed\n",
      "Thread #3: \t7450000 reads finished. 172 secs passed\n",
      "Thread #1: \t7400000 reads finished. 173 secs passed\n",
      "Thread #5: \t7500000 reads finished. 173 secs passed\n",
      "Thread #2: \t7550000 reads finished. 178 secs passed\n",
      "Thread #0: \t7600000 reads finished. 178 secs passed\n",
      "Thread #4: \t7650000 reads finished. 178 secs passed\n",
      "Thread #3: \t7700000 reads finished. 179 secs passed\n",
      "Thread #1: \t7750000 reads finished. 179 secs passed\n",
      "Thread #5: \t7800000 reads finished. 179 secs passed\n",
      "Thread #2: \t7850000 reads finished. 184 secs passed\n",
      "Thread #0: \t7900000 reads finished. 184 secs passed\n",
      "Thread #4: \t7950000 reads finished. 184 secs passed\n",
      "Thread #3: \t8000000 reads finished. 184 secs passed\n",
      "Thread #1: \t8050000 reads finished. 185 secs passed\n",
      "Thread #5: \t8100000 reads finished. 185 secs passed\n",
      "Thread #2: \t8150000 reads finished. 189 secs passed\n",
      "Thread #0: \t8200000 reads finished. 190 secs passed\n",
      "Thread #4: \t8250000 reads finished. 190 secs passed\n",
      "Thread #3: \t8300000 reads finished. 190 secs passed\n",
      "Thread #1: \t8350000 reads finished. 191 secs passed\n",
      "Thread #5: \t8400000 reads finished. 191 secs passed\n",
      "Thread #2: \t8450000 reads finished. 195 secs passed\n",
      "Thread #0: \t8500000 reads finished. 196 secs passed\n",
      "Thread #4: \t8550000 reads finished. 196 secs passed\n",
      "Thread #3: \t8600000 reads finished. 196 secs passed\n",
      "Thread #1: \t8650000 reads finished. 197 secs passed\n",
      "Thread #5: \t8700000 reads finished. 197 secs passed\n",
      "Thread #2: \t8750000 reads finished. 202 secs passed\n",
      "Thread #0: \t8800000 reads finished. 202 secs passed\n",
      "Thread #4: \t8850000 reads finished. 202 secs passed\n",
      "Thread #3: \t8900000 reads finished. 202 secs passed\n",
      "Thread #1: \t8950000 reads finished. 203 secs passed\n",
      "Thread #5: \t9000000 reads finished. 203 secs passed\n",
      "Thread #2: \t9050000 reads finished. 208 secs passed\n",
      "Thread #0: \t9100000 reads finished. 208 secs passed\n",
      "Thread #4: \t9150000 reads finished. 208 secs passed\n",
      "Thread #3: \t9200000 reads finished. 209 secs passed\n",
      "Thread #1: \t9250000 reads finished. 209 secs passed\n",
      "Thread #5: \t9300000 reads finished. 209 secs passed\n",
      "Thread #2: \t9350000 reads finished. 214 secs passed\n",
      "Thread #4: \t9450000 reads finished. 214 secs passed\n",
      "Thread #0: \t9400000 reads finished. 214 secs passed\n",
      "Thread #3: \t9500000 reads finished. 215 secs passed\n",
      "Thread #1: \t9550000 reads finished. 215 secs passed\n",
      "Thread #5: \t9600000 reads finished. 215 secs passed\n",
      "Thread #2: \t9650000 reads finished. 220 secs passed\n",
      "Thread #4: \t9700000 reads finished. 220 secs passed\n",
      "Thread #0: \t9750000 reads finished. 220 secs passed\n",
      "Thread #3: \t9800000 reads finished. 220 secs passed\n",
      "Thread #1: \t9850000 reads finished. 220 secs passed\n",
      "Thread #5: \t9900000 reads finished. 221 secs passed\n",
      "Thread #2: \t9950000 reads finished. 226 secs passed\n",
      "Thread #4: \t10000000 reads finished. 226 secs passed\n",
      "Thread #0: \t10050000 reads finished. 226 secs passed\n",
      "Thread #3: \t10100000 reads finished. 226 secs passed\n",
      "Thread #1: \t10150000 reads finished. 226 secs passed\n",
      "Thread #5: \t10200000 reads finished. 227 secs passed\n",
      "Thread #2: \t10250000 reads finished. 231 secs passed\n",
      "Thread #4: \t10300000 reads finished. 232 secs passed\n",
      "Thread #0: \t10350000 reads finished. 232 secs passed\n",
      "Thread #3: \t10400000 reads finished. 232 secs passed\n",
      "Thread #1: \t10450000 reads finished. 232 secs passed\n",
      "Thread #5: \t10500000 reads finished. 233 secs passed\n",
      "Thread #2: \t10550000 reads finished. 238 secs passed\n",
      "Thread #4: \t10600000 reads finished. 238 secs passed\n",
      "Thread #0: \t10650000 reads finished. 238 secs passed\n",
      "Thread #3: \t10700000 reads finished. 238 secs passed\n",
      "Thread #1: \t10750000 reads finished. 238 secs passed\n",
      "Thread #5: \t10800000 reads finished. 239 secs passed\n",
      "Thread #2: \t10850000 reads finished. 244 secs passed\n",
      "Thread #4: \t10900000 reads finished. 244 secs passed\n",
      "Thread #0: \t10950000 reads finished. 244 secs passed\n",
      "Thread #3: \t11000000 reads finished. 244 secs passed\n",
      "Thread #1: \t11050000 reads finished. 244 secs passed\n",
      "Thread #5: \t11100000 reads finished. 245 secs passed\n",
      "Thread #2: \t11150000 reads finished. 249 secs passed\n",
      "Thread #4: \t11200000 reads finished. 249 secs passed\n",
      "Thread #0: \t11250000 reads finished. 250 secs passed\n",
      "Thread #3: \t11300000 reads finished. 250 secs passed\n",
      "Thread #1: \t11350000 reads finished. 250 secs passed\n",
      "Thread #5: \t11400000 reads finished. 250 secs passed\n",
      "Thread #5: \t11685119 reads finished. 255 secs passed\n",
      "Thread #2: \t11450000 reads finished. 255 secs passed\n",
      "Thread #4: \t11500000 reads finished. 255 secs passed\n",
      "Thread #0: \t11550000 reads finished. 255 secs passed\n",
      "Thread #3: \t11600000 reads finished. 256 secs passed\n",
      "Thread #1: \t11650000 reads finished. 256 secs passed\n",
      "Total number of aligned reads: 8721542 (75%)\n",
      "Done.\n",
      "Finished at Tue Oct 11 08:10:48 2016\n",
      "Total time consumed:  256 secs\n"
     ]
    }
   ],
   "source": [
    "for i in (\"M2\",\"M3\"):\n",
    "    !{bsmaploc}bsmap \\\n",
    "-a {i}.fastq.gz \\\n",
    "-d ../data/Crassostrea_gigas.GCAz_000297895.1.dna_sm.toplevel.fa \\\n",
    "-o bsmap_out_{i}.sam \\\n",
    "-p 6"
   ]
  },
  {
   "cell_type": "code",
   "execution_count": 42,
   "metadata": {
    "collapsed": false
   },
   "outputs": [
    {
     "name": "stdout",
     "output_type": "stream",
     "text": [
      "@ Tue Oct 11 08:10:48 2016: reading reference ../data/Crassostrea_gigas.GCAz_000297895.1.dna_sm.toplevel.fa ...\n",
      "@ Tue Oct 11 08:11:11 2016: reading bsmap_out_M2.sam ...\n",
      "[samopen] SAM header is present: 7658 sequences.\n",
      "@ Tue Oct 11 08:13:23 2016: combining CpG methylation from both strands ...\n",
      "@ Tue Oct 11 08:13:44 2016: writing methratio_out_M2.txt ...\n",
      "@ Tue Oct 11 08:16:58 2016: done.\n",
      "total 5453853 valid mappings, 21735799 covered cytosines, average coverage: 1.86 fold.\n",
      "@ Tue Oct 11 08:16:59 2016: reading reference ../data/Crassostrea_gigas.GCAz_000297895.1.dna_sm.toplevel.fa ...\n",
      "@ Tue Oct 11 08:17:21 2016: reading bsmap_out_M3.sam ...\n",
      "[samopen] SAM header is present: 7658 sequences.\n",
      "@ Tue Oct 11 08:19:41 2016: combining CpG methylation from both strands ...\n",
      "@ Tue Oct 11 08:20:00 2016: writing methratio_out_M3.txt ...\n",
      "@ Tue Oct 11 08:23:17 2016: done.\n",
      "total 5974521 valid mappings, 23104419 covered cytosines, average coverage: 1.89 fold.\n"
     ]
    }
   ],
   "source": [
    "for i in (\"M2\",\"M3\"):\n",
    "    !python {bsmaploc}methratio.py \\\n",
    "-d ../data/Crassostrea_gigas.GCAz_000297895.1.dna_sm.toplevel.fa \\\n",
    "-u -z -g \\\n",
    "-o methratio_out_{i}.txt \\\n",
    "-s {bsmaploc}samtools \\\n",
    "bsmap_out_{i}.sam \\"
   ]
  },
  {
   "cell_type": "code",
   "execution_count": 43,
   "metadata": {
    "collapsed": false
   },
   "outputs": [
    {
     "name": "stdout",
     "output_type": "stream",
     "text": [
      "  % Total    % Received % Xferd  Average Speed   Time    Time     Time  Current\n",
      "                                 Dload  Upload   Total   Spent    Left  Speed\n",
      "100    83  100    83    0     0     88      0 --:--:-- --:--:-- --:--:--    88\n",
      "  % Total    % Received % Xferd  Average Speed   Time    Time     Time  Current\n",
      "                                 Dload  Upload   Total   Spent    Left  Speed\n",
      "100   286  100   286    0     0   1665      0 --:--:-- --:--:-- --:--:--  1672\n"
     ]
    }
   ],
   "source": [
    "!curl https://raw.githubusercontent.com/che625/olson-ms-nb/master/scripts/mr3x.awk \\\n",
    "> /Users/sr320/git-repos/sr320.github.io/jupyter/scripts/mr3x.awk\n",
    "\n",
    "!curl https://raw.githubusercontent.com/che625/olson-ms-nb/master/scripts/mr_gg.awk.sh \\\n",
    "> /Users/sr320/git-repos/sr320.github.io/jupyter/scripts/mr_gg.awk.sh"
   ]
  },
  {
   "cell_type": "code",
   "execution_count": 45,
   "metadata": {
    "collapsed": false
   },
   "outputs": [
    {
     "name": "stdout",
     "output_type": "stream",
     "text": [
      "M2\n",
      "M3\n"
     ]
    }
   ],
   "source": [
    "#first methratio files are converted to filter for CG context, 3x coverage (mr3x.awk), and reformatting (mr_gg.awk.sh).\n",
    "#due to issue passing variable to awk, simple scripts were used (included in repository)\n",
    "for i in (\"M2\",\"M3\"):\n",
    "    !echo {i}\n",
    "    !grep \"[A-Z][A-Z]CG[A-Z]\" <methratio_out_{i}.txt> methratio_out_{i}CG.txt\n",
    "    !awk -f /Users/sr320/git-repos/sr320.github.io/jupyter/scripts/mr3x.awk methratio_out_{i}CG.txt \\\n",
    "    > mr3x.{i}.txt\n",
    "    !awk -f /Users/sr320/git-repos/sr320.github.io/jupyter/scripts/mr_gg.awk.sh \\\n",
    "    mr3x.{i}.txt > mkfmt_{i}.txt"
   ]
  },
  {
   "cell_type": "code",
   "execution_count": 47,
   "metadata": {
    "collapsed": false
   },
   "outputs": [
    {
     "name": "stdout",
     "output_type": "stream",
     "text": [
      "M2\n",
      "M3\n"
     ]
    }
   ],
   "source": [
    "#first methratio files are converted to filter for CG context, 3x coverage (mr3x.awk), and reformatting (mr_gg.awk.sh).\n",
    "#due to issue passing variable to awk, simple scripts were used (included in repository)\n",
    "for i in (\"M2\",\"M3\"):\n",
    "    !echo {i}\n",
    "    !grep -i \"[A-Z][A-Z]CG[A-Z]\" <methratio_out_{i}.txt> methratio_out_{i}CGi.txt\n",
    "    !awk -f /Users/sr320/git-repos/sr320.github.io/jupyter/scripts/mr3x.awk methratio_out_{i}CGi.txt \\\n",
    "    > mr3xi.{i}.txt\n",
    "    !awk -f /Users/sr320/git-repos/sr320.github.io/jupyter/scripts/mr_gg.awk.sh \\\n",
    "    mr3xi.{i}.txt > mkfmti_{i}.txt"
   ]
  },
  {
   "cell_type": "code",
   "execution_count": 46,
   "metadata": {
    "collapsed": true
   },
   "outputs": [],
   "source": [
    "#maybe we need to ignore case"
   ]
  },
  {
   "cell_type": "code",
   "execution_count": 51,
   "metadata": {
    "collapsed": false
   },
   "outputs": [
    {
     "name": "stdout",
     "output_type": "stream",
     "text": [
      "MD5 (mkfmt_M2.txt) = df67fde9e87ec165618d384374074057\r\n",
      "MD5 (mkfmti_M2.txt) = df67fde9e87ec165618d384374074057\r\n"
     ]
    }
   ],
   "source": [
    "!md5 mkfmt_M2.txt mkfmti_M2.txt | head"
   ]
  },
  {
   "cell_type": "code",
   "execution_count": 52,
   "metadata": {
    "collapsed": true
   },
   "outputs": [],
   "source": [
    "#nope"
   ]
  },
  {
   "cell_type": "code",
   "execution_count": 54,
   "metadata": {
    "collapsed": false
   },
   "outputs": [
    {
     "name": "stdout",
     "output_type": "stream",
     "text": [
      "chr.Base\tchr\tbase\tstrand\tcoverage\tfreqC\tfreqT\r\n",
      "scaffold1.14274\tscaffold1\t14274\tF\t4\t0.00\t100.00\r\n",
      "scaffold1.14305\tscaffold1\t14305\tF\t4\t0.00\t100.00\r\n",
      "scaffold1.15309\tscaffold1\t15309\tF\t4\t0.00\t100.00\r\n",
      "scaffold1.15315\tscaffold1\t15315\tF\t4\t0.00\t100.00\r\n",
      "scaffold1.15336\tscaffold1\t15336\tF\t5\t0.00\t100.00\r\n",
      "scaffold1.16016\tscaffold1\t16016\tF\t3\t0.00\t100.00\r\n",
      "scaffold1.17209\tscaffold1\t17209\tF\t3\t0.00\t100.00\r\n",
      "scaffold1.19038\tscaffold1\t19038\tF\t4\t0.00\t100.00\r\n",
      "scaffold1.19069\tscaffold1\t19069\tF\t4\t0.00\t100.00\r\n",
      "scaffold1.19077\tscaffold1\t19077\tF\t3\t0.00\t100.00\r\n",
      "scaffold1.19147\tscaffold1\t19147\tF\t7\t0.00\t100.00\r\n",
      "scaffold1.19211\tscaffold1\t19211\tF\t3\t0.00\t100.00\r\n",
      "scaffold1.19222\tscaffold1\t19222\tF\t3\t0.00\t100.00\r\n",
      "scaffold1.19427\tscaffold1\t19427\tF\t5\t0.00\t100.00\r\n",
      "scaffold1.19454\tscaffold1\t19454\tF\t3\t0.00\t100.00\r\n",
      "scaffold1.19456\tscaffold1\t19456\tF\t3\t0.00\t100.00\r\n",
      "scaffold1.19864\tscaffold1\t19864\tF\t3\t0.00\t100.00\r\n",
      "scaffold1.19935\tscaffold1\t19935\tF\t5\t0.00\t100.00\r\n",
      "scaffold1.19963\tscaffold1\t19963\tF\t4\t0.00\t100.00\r\n",
      "scaffold1.20056\tscaffold1\t20056\tF\t7\t0.00\t100.00\r\n",
      "scaffold1.20067\tscaffold1\t20067\tF\t7\t0.00\t100.00\r\n",
      "scaffold1.20087\tscaffold1\t20087\tF\t5\t0.00\t100.00\r\n",
      "scaffold1.20116\tscaffold1\t20116\tF\t3\t0.00\t100.00\r\n",
      "scaffold1.20119\tscaffold1\t20119\tF\t3\t0.00\t100.00\r\n",
      "scaffold1.20180\tscaffold1\t20180\tF\t4\t0.00\t100.00\r\n",
      "scaffold1.20215\tscaffold1\t20215\tF\t5\t0.00\t100.00\r\n",
      "scaffold1.20253\tscaffold1\t20253\tF\t6\t0.00\t100.00\r\n",
      "scaffold1.20275\tscaffold1\t20275\tF\t5\t0.00\t100.00\r\n",
      "scaffold1.20278\tscaffold1\t20278\tF\t5\t0.00\t100.00\r\n",
      "scaffold1.20560\tscaffold1\t20560\tF\t3\t0.00\t100.00\r\n",
      "scaffold1.20564\tscaffold1\t20564\tF\t3\t0.00\t100.00\r\n",
      "scaffold1.20756\tscaffold1\t20756\tF\t4\t25.00\t75.00\r\n",
      "scaffold1.21325\tscaffold1\t21325\tF\t3\t33.33\t66.67\r\n",
      "scaffold1.21633\tscaffold1\t21633\tF\t4\t25.00\t75.00\r\n",
      "scaffold1.22985\tscaffold1\t22985\tF\t3\t100.00\t0.00\r\n",
      "scaffold1.23091\tscaffold1\t23091\tF\t3\t33.33\t66.67\r\n",
      "scaffold1.23095\tscaffold1\t23095\tF\t5\t40.00\t60.00\r\n",
      "scaffold1.23099\tscaffold1\t23099\tF\t3\t66.67\t33.33\r\n",
      "scaffold1.23469\tscaffold1\t23469\tF\t5\t0.00\t100.00\r\n",
      "scaffold1.23979\tscaffold1\t23979\tF\t5\t80.00\t20.00\r\n",
      "scaffold1.24040\tscaffold1\t24040\tF\t3\t66.67\t33.33\r\n",
      "scaffold1.24627\tscaffold1\t24627\tF\t3\t0.00\t100.00\r\n",
      "scaffold1.25289\tscaffold1\t25289\tF\t12\t83.33\t16.67\r\n",
      "scaffold1.25324\tscaffold1\t25324\tF\t8\t50.00\t50.00\r\n",
      "scaffold1.25489\tscaffold1\t25489\tF\t6\t16.67\t83.33\r\n",
      "scaffold1.25503\tscaffold1\t25503\tF\t3\t100.00\t0.00\r\n",
      "scaffold1.25517\tscaffold1\t25517\tF\t3\t0.00\t100.00\r\n",
      "scaffold1.30312\tscaffold1\t30312\tF\t3\t0.00\t100.00\r\n",
      "scaffold1.30364\tscaffold1\t30364\tF\t5\t0.00\t100.00\r\n",
      "scaffold1.34376\tscaffold1\t34376\tF\t3\t0.00\t100.00\r\n",
      "scaffold1.34387\tscaffold1\t34387\tF\t8\t12.50\t87.50\r\n",
      "scaffold1.34409\tscaffold1\t34409\tF\t7\t0.00\t100.00\r\n",
      "scaffold1.37888\tscaffold1\t37888\tF\t3\t0.00\t100.00\r\n",
      "scaffold1.38052\tscaffold1\t38052\tF\t3\t0.00\t100.00\r\n",
      "scaffold1.38200\tscaffold1\t38200\tF\t3\t0.00\t100.00\r\n",
      "scaffold1.38307\tscaffold1\t38307\tF\t3\t0.00\t100.00\r\n",
      "scaffold1.38396\tscaffold1\t38396\tF\t3\t0.00\t100.00\r\n",
      "scaffold1.38420\tscaffold1\t38420\tF\t8\t0.00\t100.00\r\n",
      "scaffold1.38451\tscaffold1\t38451\tF\t6\t0.00\t100.00\r\n",
      "scaffold1.38454\tscaffold1\t38454\tF\t6\t0.00\t100.00\r\n",
      "scaffold1.38457\tscaffold1\t38457\tF\t7\t0.00\t100.00\r\n",
      "scaffold1.38473\tscaffold1\t38473\tF\t7\t0.00\t100.00\r\n",
      "scaffold1.38477\tscaffold1\t38477\tF\t7\t14.29\t85.71\r\n",
      "scaffold1.38502\tscaffold1\t38502\tF\t8\t0.00\t100.00\r\n",
      "scaffold1.38528\tscaffold1\t38528\tF\t4\t0.00\t100.00\r\n",
      "scaffold1.41897\tscaffold1\t41897\tF\t3\t0.00\t100.00\r\n",
      "scaffold1.42178\tscaffold1\t42178\tF\t6\t0.00\t100.00\r\n",
      "scaffold1.42189\tscaffold1\t42189\tF\t4\t0.00\t100.00\r\n",
      "scaffold1.42210\tscaffold1\t42210\tF\t6\t0.00\t100.00\r\n",
      "scaffold1.43637\tscaffold1\t43637\tF\t4\t0.00\t100.00\r\n",
      "scaffold1.43648\tscaffold1\t43648\tF\t4\t0.00\t100.00\r\n",
      "scaffold1.43788\tscaffold1\t43788\tF\t3\t0.00\t100.00\r\n",
      "scaffold1.43818\tscaffold1\t43818\tF\t3\t0.00\t100.00\r\n",
      "scaffold1.44516\tscaffold1\t44516\tF\t3\t0.00\t100.00\r\n",
      "scaffold1.44713\tscaffold1\t44713\tF\t5\t0.00\t100.00\r\n",
      "scaffold1.44719\tscaffold1\t44719\tF\t6\t0.00\t100.00\r\n",
      "scaffold1.44860\tscaffold1\t44860\tF\t3\t0.00\t100.00\r\n",
      "scaffold1.44862\tscaffold1\t44862\tF\t3\t0.00\t100.00\r\n",
      "scaffold1.45677\tscaffold1\t45677\tF\t3\t0.00\t100.00\r\n",
      "scaffold1.45683\tscaffold1\t45683\tF\t3\t0.00\t100.00\r\n",
      "scaffold1.45736\tscaffold1\t45736\tF\t5\t0.00\t100.00\r\n",
      "scaffold1.47244\tscaffold1\t47244\tF\t8\t0.00\t100.00\r\n",
      "scaffold1.47265\tscaffold1\t47265\tF\t5\t20.00\t80.00\r\n",
      "scaffold1.49801\tscaffold1\t49801\tF\t4\t0.00\t100.00\r\n",
      "scaffold1.50021\tscaffold1\t50021\tF\t5\t0.00\t100.00\r\n",
      "scaffold1.52362\tscaffold1\t52362\tF\t5\t0.00\t100.00\r\n",
      "scaffold1.52371\tscaffold1\t52371\tF\t5\t0.00\t100.00\r\n",
      "scaffold1.52400\tscaffold1\t52400\tF\t3\t0.00\t100.00\r\n",
      "scaffold1.52406\tscaffold1\t52406\tF\t3\t0.00\t100.00\r\n",
      "scaffold1.52408\tscaffold1\t52408\tF\t4\t0.00\t100.00\r\n",
      "scaffold1.52418\tscaffold1\t52418\tF\t5\t0.00\t100.00\r\n",
      "scaffold1.52422\tscaffold1\t52422\tF\t4\t0.00\t100.00\r\n",
      "scaffold1.52454\tscaffold1\t52454\tF\t4\t0.00\t100.00\r\n",
      "scaffold1.52467\tscaffold1\t52467\tF\t3\t0.00\t100.00\r\n",
      "scaffold1.52472\tscaffold1\t52472\tF\t3\t0.00\t100.00\r\n",
      "scaffold1.52512\tscaffold1\t52512\tF\t4\t0.00\t100.00\r\n",
      "scaffold1.52528\tscaffold1\t52528\tF\t4\t0.00\t100.00\r\n",
      "scaffold1.53044\tscaffold1\t53044\tF\t5\t0.00\t100.00\r\n",
      "scaffold1.53050\tscaffold1\t53050\tF\t5\t0.00\t100.00\r\n"
     ]
    }
   ],
   "source": [
    "!head -100 mkfmt_M2.txt"
   ]
  },
  {
   "cell_type": "markdown",
   "metadata": {},
   "source": [
    "# Products"
   ]
  },
  {
   "cell_type": "code",
   "execution_count": 56,
   "metadata": {
    "collapsed": false
   },
   "outputs": [
    {
     "name": "stdout",
     "output_type": "stream",
     "text": [
      "/Users/sr320/git-repos/sr320.github.io/jupyter\n"
     ]
    }
   ],
   "source": [
    "cd /Users/sr320/git-repos/sr320.github.io/jupyter"
   ]
  },
  {
   "cell_type": "code",
   "execution_count": 58,
   "metadata": {
    "collapsed": false
   },
   "outputs": [],
   "source": [
    "mkdir analyses"
   ]
  },
  {
   "cell_type": "code",
   "execution_count": 59,
   "metadata": {
    "collapsed": true
   },
   "outputs": [],
   "source": [
    "mkdir analyses/$(date +%F)"
   ]
  },
  {
   "cell_type": "code",
   "execution_count": 61,
   "metadata": {
    "collapsed": false
   },
   "outputs": [],
   "source": [
    "for i in (\"M2\",\"M3\"):\n",
    "    !cp /Volumes/caviar/wd/2016-10-11/mkfmt_{i}.txt analyses/$(date +%F)/mkfmt_{i}.txt"
   ]
  },
  {
   "cell_type": "code",
   "execution_count": 63,
   "metadata": {
    "collapsed": false
   },
   "outputs": [
    {
     "name": "stdout",
     "output_type": "stream",
     "text": [
      "==> analyses/2016-10-11/mkfmt_M2.txt <==\r\n",
      "chr.Base\tchr\tbase\tstrand\tcoverage\tfreqC\tfreqT\r\n",
      "scaffold1.14274\tscaffold1\t14274\tF\t4\t0.00\t100.00\r\n",
      "scaffold1.14305\tscaffold1\t14305\tF\t4\t0.00\t100.00\r\n",
      "scaffold1.15309\tscaffold1\t15309\tF\t4\t0.00\t100.00\r\n",
      "scaffold1.15315\tscaffold1\t15315\tF\t4\t0.00\t100.00\r\n",
      "scaffold1.15336\tscaffold1\t15336\tF\t5\t0.00\t100.00\r\n",
      "scaffold1.16016\tscaffold1\t16016\tF\t3\t0.00\t100.00\r\n",
      "scaffold1.17209\tscaffold1\t17209\tF\t3\t0.00\t100.00\r\n",
      "scaffold1.19038\tscaffold1\t19038\tF\t4\t0.00\t100.00\r\n",
      "scaffold1.19069\tscaffold1\t19069\tF\t4\t0.00\t100.00\r\n",
      "\r\n",
      "==> analyses/2016-10-11/mkfmt_M3.txt <==\r\n",
      "chr.Base\tchr\tbase\tstrand\tcoverage\tfreqC\tfreqT\r\n",
      "scaffold1.259\tscaffold1\t259\tF\t4\t100.00\t0.00\r\n",
      "scaffold1.263\tscaffold1\t263\tF\t4\t100.00\t0.00\r\n",
      "scaffold1.267\tscaffold1\t267\tF\t4\t100.00\t0.00\r\n",
      "scaffold1.271\tscaffold1\t271\tF\t4\t100.00\t0.00\r\n",
      "scaffold1.299\tscaffold1\t299\tF\t4\t50.00\t50.00\r\n",
      "scaffold1.10033\tscaffold1\t10033\tF\t3\t0.00\t100.00\r\n",
      "scaffold1.10343\tscaffold1\t10343\tF\t4\t0.00\t100.00\r\n",
      "scaffold1.10530\tscaffold1\t10530\tF\t4\t0.00\t100.00\r\n",
      "scaffold1.10569\tscaffold1\t10569\tF\t5\t0.00\t100.00\r\n"
     ]
    }
   ],
   "source": [
    "!head analyses/$(date +%F)/*"
   ]
  },
  {
   "cell_type": "markdown",
   "metadata": {},
   "source": [
    "urls\n",
    "\n",
    "```\n",
    "https://raw.githubusercontent.com/sr320/sr320.github.io/master/jupyter/analyses/2016-10-11/mkfmt_M2.txt\n",
    "\n",
    "https://raw.githubusercontent.com/sr320/sr320.github.io/master/jupyter/analyses/2016-10-11/mkfmt_M3.txt\n",
    "```"
   ]
  },
  {
   "cell_type": "code",
   "execution_count": null,
   "metadata": {
    "collapsed": true
   },
   "outputs": [],
   "source": []
  }
 ],
 "metadata": {
  "kernelspec": {
   "display_name": "Python 2",
   "language": "python",
   "name": "python2"
  },
  "language_info": {
   "codemirror_mode": {
    "name": "ipython",
    "version": 2
   },
   "file_extension": ".py",
   "mimetype": "text/x-python",
   "name": "python",
   "nbconvert_exporter": "python",
   "pygments_lexer": "ipython2",
   "version": "2.7.11"
  }
 },
 "nbformat": 4,
 "nbformat_minor": 0
}
